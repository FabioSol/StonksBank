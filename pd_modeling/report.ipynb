{
 "cells": [
  {
   "cell_type": "code",
   "execution_count": 1,
   "metadata": {
    "collapsed": true,
    "ExecuteTime": {
     "start_time": "2023-04-23T21:03:38.607388Z",
     "end_time": "2023-04-23T21:03:40.142316Z"
    }
   },
   "outputs": [],
   "source": [
    "import numpy as np\n",
    "import pandas as pd\n",
    "import datetime\n",
    "from sklearn.utils import resample\n",
    "from typing import Dict\n",
    "from transformers.columnSelectorTransformer import ColumnSelectorTransformer\n",
    "from transformers.woeTransformer import WOETransformer\n",
    "from transformers.binningTransformer import BinningTransformer"
   ]
  },
  {
   "cell_type": "code",
   "execution_count": 2,
   "outputs": [],
   "source": [
    "from pd_modeling.bins import bins"
   ],
   "metadata": {
    "collapsed": false,
    "ExecuteTime": {
     "start_time": "2023-04-23T21:03:40.147318Z",
     "end_time": "2023-04-23T21:03:40.156491Z"
    }
   }
  },
  {
   "cell_type": "code",
   "execution_count": 3,
   "outputs": [],
   "source": [
    "dataset = pd.read_csv('../files/credit_risk_data_v2.csv', low_memory=False)"
   ],
   "metadata": {
    "collapsed": false,
    "ExecuteTime": {
     "start_time": "2023-04-23T21:03:40.160492Z",
     "end_time": "2023-04-23T21:03:47.904581Z"
    }
   }
  },
  {
   "cell_type": "code",
   "execution_count": 4,
   "outputs": [],
   "source": [
    "cols_to_keep = ['loan_amnt', 'funded_amnt', 'term', 'int_rate',\n",
    "       'installment', 'grade', 'sub_grade', 'emp_length', 'home_ownership',\n",
    "       'annual_inc', 'verification_status', 'purpose',\n",
    "       'addr_state', 'dti', 'revol_bal',\n",
    "       'revol_util', 'total_acc', 'initial_list_status', 'out_prncp',\n",
    "       'total_pymnt', 'total_rec_prncp',\n",
    "       'total_rec_int', 'total_rec_late_fee',\n",
    "       'last_pymnt_amnt',\n",
    "       'tot_coll_amt',\n",
    "       'tot_cur_bal', 'total_rev_hi_lim', 'status']"
   ],
   "metadata": {
    "collapsed": false,
    "ExecuteTime": {
     "start_time": "2023-04-23T21:03:47.911584Z",
     "end_time": "2023-04-23T21:03:47.917193Z"
    }
   }
  },
  {
   "cell_type": "code",
   "execution_count": 5,
   "outputs": [],
   "source": [
    "column_t = ColumnSelectorTransformer(columns=cols_to_keep)\n",
    "binning_t = BinningTransformer(bins=bins)\n",
    "woe_t = WOETransformer(columns=cols_to_keep)"
   ],
   "metadata": {
    "collapsed": false,
    "ExecuteTime": {
     "start_time": "2023-04-23T21:03:47.919193Z",
     "end_time": "2023-04-23T21:03:47.927585Z"
    }
   }
  },
  {
   "cell_type": "code",
   "execution_count": 6,
   "outputs": [
    {
     "data": {
      "text/plain": "   loan_amnt  funded_amnt        term  int_rate  installment grade sub_grade   \n0       5000         5000   36 months     10.65       162.87     B        B2  \\\n1       2500         2500   60 months     15.27        59.83     C        C4   \n2       2400         2400   36 months     15.96        84.33     C        C5   \n3      10000        10000   36 months     13.49       339.31     C        C1   \n4       3000         3000   60 months     12.69        67.79     B        B5   \n\n  emp_length home_ownership  annual_inc  ... out_prncp   total_pymnt   \n0  10+ years           RENT     24000.0  ...       0.0   5861.071414  \\\n1   < 1 year           RENT     30000.0  ...       0.0   1008.710000   \n2  10+ years           RENT     12252.0  ...       0.0   3003.653644   \n3  10+ years           RENT     49200.0  ...       0.0  12226.302210   \n4     1 year           RENT     80000.0  ...     766.9   3242.170000   \n\n  total_rec_prncp  total_rec_int  total_rec_late_fee  last_pymnt_amnt   \n0         5000.00         861.07                0.00           171.62  \\\n1          456.46         435.17                0.00           119.66   \n2         2400.00         603.65                0.00           649.91   \n3        10000.00        2209.33               16.97           357.48   \n4         2233.10        1009.07                0.00            67.79   \n\n   tot_coll_amt tot_cur_bal  total_rev_hi_lim  status  \n0           NaN         NaN               NaN       0  \n1           NaN         NaN               NaN       1  \n2           NaN         NaN               NaN       0  \n3           NaN         NaN               NaN       0  \n4           NaN         NaN               NaN       0  \n\n[5 rows x 28 columns]",
      "text/html": "<div>\n<style scoped>\n    .dataframe tbody tr th:only-of-type {\n        vertical-align: middle;\n    }\n\n    .dataframe tbody tr th {\n        vertical-align: top;\n    }\n\n    .dataframe thead th {\n        text-align: right;\n    }\n</style>\n<table border=\"1\" class=\"dataframe\">\n  <thead>\n    <tr style=\"text-align: right;\">\n      <th></th>\n      <th>loan_amnt</th>\n      <th>funded_amnt</th>\n      <th>term</th>\n      <th>int_rate</th>\n      <th>installment</th>\n      <th>grade</th>\n      <th>sub_grade</th>\n      <th>emp_length</th>\n      <th>home_ownership</th>\n      <th>annual_inc</th>\n      <th>...</th>\n      <th>out_prncp</th>\n      <th>total_pymnt</th>\n      <th>total_rec_prncp</th>\n      <th>total_rec_int</th>\n      <th>total_rec_late_fee</th>\n      <th>last_pymnt_amnt</th>\n      <th>tot_coll_amt</th>\n      <th>tot_cur_bal</th>\n      <th>total_rev_hi_lim</th>\n      <th>status</th>\n    </tr>\n  </thead>\n  <tbody>\n    <tr>\n      <th>0</th>\n      <td>5000</td>\n      <td>5000</td>\n      <td>36 months</td>\n      <td>10.65</td>\n      <td>162.87</td>\n      <td>B</td>\n      <td>B2</td>\n      <td>10+ years</td>\n      <td>RENT</td>\n      <td>24000.0</td>\n      <td>...</td>\n      <td>0.0</td>\n      <td>5861.071414</td>\n      <td>5000.00</td>\n      <td>861.07</td>\n      <td>0.00</td>\n      <td>171.62</td>\n      <td>NaN</td>\n      <td>NaN</td>\n      <td>NaN</td>\n      <td>0</td>\n    </tr>\n    <tr>\n      <th>1</th>\n      <td>2500</td>\n      <td>2500</td>\n      <td>60 months</td>\n      <td>15.27</td>\n      <td>59.83</td>\n      <td>C</td>\n      <td>C4</td>\n      <td>&lt; 1 year</td>\n      <td>RENT</td>\n      <td>30000.0</td>\n      <td>...</td>\n      <td>0.0</td>\n      <td>1008.710000</td>\n      <td>456.46</td>\n      <td>435.17</td>\n      <td>0.00</td>\n      <td>119.66</td>\n      <td>NaN</td>\n      <td>NaN</td>\n      <td>NaN</td>\n      <td>1</td>\n    </tr>\n    <tr>\n      <th>2</th>\n      <td>2400</td>\n      <td>2400</td>\n      <td>36 months</td>\n      <td>15.96</td>\n      <td>84.33</td>\n      <td>C</td>\n      <td>C5</td>\n      <td>10+ years</td>\n      <td>RENT</td>\n      <td>12252.0</td>\n      <td>...</td>\n      <td>0.0</td>\n      <td>3003.653644</td>\n      <td>2400.00</td>\n      <td>603.65</td>\n      <td>0.00</td>\n      <td>649.91</td>\n      <td>NaN</td>\n      <td>NaN</td>\n      <td>NaN</td>\n      <td>0</td>\n    </tr>\n    <tr>\n      <th>3</th>\n      <td>10000</td>\n      <td>10000</td>\n      <td>36 months</td>\n      <td>13.49</td>\n      <td>339.31</td>\n      <td>C</td>\n      <td>C1</td>\n      <td>10+ years</td>\n      <td>RENT</td>\n      <td>49200.0</td>\n      <td>...</td>\n      <td>0.0</td>\n      <td>12226.302210</td>\n      <td>10000.00</td>\n      <td>2209.33</td>\n      <td>16.97</td>\n      <td>357.48</td>\n      <td>NaN</td>\n      <td>NaN</td>\n      <td>NaN</td>\n      <td>0</td>\n    </tr>\n    <tr>\n      <th>4</th>\n      <td>3000</td>\n      <td>3000</td>\n      <td>60 months</td>\n      <td>12.69</td>\n      <td>67.79</td>\n      <td>B</td>\n      <td>B5</td>\n      <td>1 year</td>\n      <td>RENT</td>\n      <td>80000.0</td>\n      <td>...</td>\n      <td>766.9</td>\n      <td>3242.170000</td>\n      <td>2233.10</td>\n      <td>1009.07</td>\n      <td>0.00</td>\n      <td>67.79</td>\n      <td>NaN</td>\n      <td>NaN</td>\n      <td>NaN</td>\n      <td>0</td>\n    </tr>\n  </tbody>\n</table>\n<p>5 rows × 28 columns</p>\n</div>"
     },
     "execution_count": 6,
     "metadata": {},
     "output_type": "execute_result"
    }
   ],
   "source": [
    "dataset_c = column_t.transform(dataset)\n",
    "dataset_c.head()"
   ],
   "metadata": {
    "collapsed": false,
    "ExecuteTime": {
     "start_time": "2023-04-23T21:03:47.930597Z",
     "end_time": "2023-04-23T21:03:48.035595Z"
    }
   }
  },
  {
   "cell_type": "code",
   "execution_count": 7,
   "outputs": [
    {
     "data": {
      "text/plain": "       loan_amnt  funded_amnt        term  int_rate  installment grade   \n42535      27050        27050   36 months     10.99       885.46     B  \\\n42536       9750         9750   36 months     13.98       333.14     C   \n42537      12000        12000   36 months      6.62       368.45     A   \n42538      12000        12000   36 months     13.53       407.40     B   \n42539      15000        15000   36 months      8.90       476.30     A   \n\n      sub_grade emp_length home_ownership  annual_inc  ... out_prncp   \n42535        B2  10+ years            OWN     55000.0  ...  10018.90  \\\n42536        C1     1 year           RENT     26000.0  ...   3710.96   \n42537        A2  10+ years       MORTGAGE    105000.0  ...   4266.62   \n42538        B5  10+ years           RENT     40000.0  ...      0.00   \n42539        A5    2 years       MORTGAGE     63000.0  ...   5449.27   \n\n      total_pymnt total_rec_prncp  total_rec_int  total_rec_late_fee   \n42535    21251.04        17031.10        4219.94                 0.0  \\\n42536     7994.83         6039.04        1955.79                 0.0   \n42537     8842.80         7733.38        1109.42                 0.0   \n42538    13359.77        11999.99        1359.78                 0.0   \n42539    11431.20         9550.73        1880.47                 0.0   \n\n       last_pymnt_amnt  tot_coll_amt tot_cur_bal  total_rev_hi_lim  status  \n42535           885.46           0.0    114834.0           59900.0       0  \n42536           333.14           0.0     14123.0           15100.0       0  \n42537           368.45           0.0    267646.0           61100.0       0  \n42538           119.17       15386.0     13605.0            8100.0       0  \n42539           476.30        1514.0    272492.0           15400.0       0  \n\n[5 rows x 28 columns]",
      "text/html": "<div>\n<style scoped>\n    .dataframe tbody tr th:only-of-type {\n        vertical-align: middle;\n    }\n\n    .dataframe tbody tr th {\n        vertical-align: top;\n    }\n\n    .dataframe thead th {\n        text-align: right;\n    }\n</style>\n<table border=\"1\" class=\"dataframe\">\n  <thead>\n    <tr style=\"text-align: right;\">\n      <th></th>\n      <th>loan_amnt</th>\n      <th>funded_amnt</th>\n      <th>term</th>\n      <th>int_rate</th>\n      <th>installment</th>\n      <th>grade</th>\n      <th>sub_grade</th>\n      <th>emp_length</th>\n      <th>home_ownership</th>\n      <th>annual_inc</th>\n      <th>...</th>\n      <th>out_prncp</th>\n      <th>total_pymnt</th>\n      <th>total_rec_prncp</th>\n      <th>total_rec_int</th>\n      <th>total_rec_late_fee</th>\n      <th>last_pymnt_amnt</th>\n      <th>tot_coll_amt</th>\n      <th>tot_cur_bal</th>\n      <th>total_rev_hi_lim</th>\n      <th>status</th>\n    </tr>\n  </thead>\n  <tbody>\n    <tr>\n      <th>42535</th>\n      <td>27050</td>\n      <td>27050</td>\n      <td>36 months</td>\n      <td>10.99</td>\n      <td>885.46</td>\n      <td>B</td>\n      <td>B2</td>\n      <td>10+ years</td>\n      <td>OWN</td>\n      <td>55000.0</td>\n      <td>...</td>\n      <td>10018.90</td>\n      <td>21251.04</td>\n      <td>17031.10</td>\n      <td>4219.94</td>\n      <td>0.0</td>\n      <td>885.46</td>\n      <td>0.0</td>\n      <td>114834.0</td>\n      <td>59900.0</td>\n      <td>0</td>\n    </tr>\n    <tr>\n      <th>42536</th>\n      <td>9750</td>\n      <td>9750</td>\n      <td>36 months</td>\n      <td>13.98</td>\n      <td>333.14</td>\n      <td>C</td>\n      <td>C1</td>\n      <td>1 year</td>\n      <td>RENT</td>\n      <td>26000.0</td>\n      <td>...</td>\n      <td>3710.96</td>\n      <td>7994.83</td>\n      <td>6039.04</td>\n      <td>1955.79</td>\n      <td>0.0</td>\n      <td>333.14</td>\n      <td>0.0</td>\n      <td>14123.0</td>\n      <td>15100.0</td>\n      <td>0</td>\n    </tr>\n    <tr>\n      <th>42537</th>\n      <td>12000</td>\n      <td>12000</td>\n      <td>36 months</td>\n      <td>6.62</td>\n      <td>368.45</td>\n      <td>A</td>\n      <td>A2</td>\n      <td>10+ years</td>\n      <td>MORTGAGE</td>\n      <td>105000.0</td>\n      <td>...</td>\n      <td>4266.62</td>\n      <td>8842.80</td>\n      <td>7733.38</td>\n      <td>1109.42</td>\n      <td>0.0</td>\n      <td>368.45</td>\n      <td>0.0</td>\n      <td>267646.0</td>\n      <td>61100.0</td>\n      <td>0</td>\n    </tr>\n    <tr>\n      <th>42538</th>\n      <td>12000</td>\n      <td>12000</td>\n      <td>36 months</td>\n      <td>13.53</td>\n      <td>407.40</td>\n      <td>B</td>\n      <td>B5</td>\n      <td>10+ years</td>\n      <td>RENT</td>\n      <td>40000.0</td>\n      <td>...</td>\n      <td>0.00</td>\n      <td>13359.77</td>\n      <td>11999.99</td>\n      <td>1359.78</td>\n      <td>0.0</td>\n      <td>119.17</td>\n      <td>15386.0</td>\n      <td>13605.0</td>\n      <td>8100.0</td>\n      <td>0</td>\n    </tr>\n    <tr>\n      <th>42539</th>\n      <td>15000</td>\n      <td>15000</td>\n      <td>36 months</td>\n      <td>8.90</td>\n      <td>476.30</td>\n      <td>A</td>\n      <td>A5</td>\n      <td>2 years</td>\n      <td>MORTGAGE</td>\n      <td>63000.0</td>\n      <td>...</td>\n      <td>5449.27</td>\n      <td>11431.20</td>\n      <td>9550.73</td>\n      <td>1880.47</td>\n      <td>0.0</td>\n      <td>476.30</td>\n      <td>1514.0</td>\n      <td>272492.0</td>\n      <td>15400.0</td>\n      <td>0</td>\n    </tr>\n  </tbody>\n</table>\n<p>5 rows × 28 columns</p>\n</div>"
     },
     "execution_count": 7,
     "metadata": {},
     "output_type": "execute_result"
    }
   ],
   "source": [
    "dataset_c = column_t.clean(X=dataset_c)\n",
    "dataset_c.head()"
   ],
   "metadata": {
    "collapsed": false,
    "ExecuteTime": {
     "start_time": "2023-04-23T21:03:48.039595Z",
     "end_time": "2023-04-23T21:03:49.397824Z"
    }
   }
  },
  {
   "cell_type": "code",
   "execution_count": 8,
   "outputs": [
    {
     "data": {
      "text/plain": "   loan_amnt  funded_amnt        term  int_rate  installment grade sub_grade   \n0      25000        25000   60 months     14.30       585.61     C        C1  \\\n1      25000        25000   60 months     14.98       594.49     C        C3   \n2      10000        10000   36 months     18.55       364.29     D        D2   \n3       5000         5000   36 months      7.90       156.46     A        A4   \n4       6000         6000   36 months     14.30       205.95     C        C1   \n\n  emp_length home_ownership  annual_inc  ... out_prncp   total_pymnt   \n0  10+ years       MORTGAGE     60000.0  ...  16678.72  14640.250000  \\\n1    7 years       MORTGAGE     82000.0  ...  17529.68  13673.270000   \n2  10+ years           RENT     89000.0  ...      0.00  10472.830000   \n3    3 years            OWN     80000.0  ...      0.00   5573.942773   \n4    8 years           RENT     75000.0  ...   2111.65   5148.000000   \n\n  total_rec_prncp  total_rec_int  total_rec_late_fee  last_pymnt_amnt   \n0         8321.28        6318.97                 0.0           585.61  \\\n1         7470.32        6202.95                 0.0           594.49   \n2         9999.99         472.84                 0.0            51.38   \n3         5000.00         573.94                 0.0          1346.07   \n4         3888.35        1259.65                 0.0           205.95   \n\n   tot_coll_amt tot_cur_bal  total_rev_hi_lim  status  \n0           0.0    104064.0           30500.0       0  \n1           0.0    254150.0           63200.0       0  \n2           0.0     60834.0            4900.0       0  \n3           0.0     19319.0           46400.0       0  \n4           0.0     30785.0           21700.0       0  \n\n[5 rows x 28 columns]",
      "text/html": "<div>\n<style scoped>\n    .dataframe tbody tr th:only-of-type {\n        vertical-align: middle;\n    }\n\n    .dataframe tbody tr th {\n        vertical-align: top;\n    }\n\n    .dataframe thead th {\n        text-align: right;\n    }\n</style>\n<table border=\"1\" class=\"dataframe\">\n  <thead>\n    <tr style=\"text-align: right;\">\n      <th></th>\n      <th>loan_amnt</th>\n      <th>funded_amnt</th>\n      <th>term</th>\n      <th>int_rate</th>\n      <th>installment</th>\n      <th>grade</th>\n      <th>sub_grade</th>\n      <th>emp_length</th>\n      <th>home_ownership</th>\n      <th>annual_inc</th>\n      <th>...</th>\n      <th>out_prncp</th>\n      <th>total_pymnt</th>\n      <th>total_rec_prncp</th>\n      <th>total_rec_int</th>\n      <th>total_rec_late_fee</th>\n      <th>last_pymnt_amnt</th>\n      <th>tot_coll_amt</th>\n      <th>tot_cur_bal</th>\n      <th>total_rev_hi_lim</th>\n      <th>status</th>\n    </tr>\n  </thead>\n  <tbody>\n    <tr>\n      <th>0</th>\n      <td>25000</td>\n      <td>25000</td>\n      <td>60 months</td>\n      <td>14.30</td>\n      <td>585.61</td>\n      <td>C</td>\n      <td>C1</td>\n      <td>10+ years</td>\n      <td>MORTGAGE</td>\n      <td>60000.0</td>\n      <td>...</td>\n      <td>16678.72</td>\n      <td>14640.250000</td>\n      <td>8321.28</td>\n      <td>6318.97</td>\n      <td>0.0</td>\n      <td>585.61</td>\n      <td>0.0</td>\n      <td>104064.0</td>\n      <td>30500.0</td>\n      <td>0</td>\n    </tr>\n    <tr>\n      <th>1</th>\n      <td>25000</td>\n      <td>25000</td>\n      <td>60 months</td>\n      <td>14.98</td>\n      <td>594.49</td>\n      <td>C</td>\n      <td>C3</td>\n      <td>7 years</td>\n      <td>MORTGAGE</td>\n      <td>82000.0</td>\n      <td>...</td>\n      <td>17529.68</td>\n      <td>13673.270000</td>\n      <td>7470.32</td>\n      <td>6202.95</td>\n      <td>0.0</td>\n      <td>594.49</td>\n      <td>0.0</td>\n      <td>254150.0</td>\n      <td>63200.0</td>\n      <td>0</td>\n    </tr>\n    <tr>\n      <th>2</th>\n      <td>10000</td>\n      <td>10000</td>\n      <td>36 months</td>\n      <td>18.55</td>\n      <td>364.29</td>\n      <td>D</td>\n      <td>D2</td>\n      <td>10+ years</td>\n      <td>RENT</td>\n      <td>89000.0</td>\n      <td>...</td>\n      <td>0.00</td>\n      <td>10472.830000</td>\n      <td>9999.99</td>\n      <td>472.84</td>\n      <td>0.0</td>\n      <td>51.38</td>\n      <td>0.0</td>\n      <td>60834.0</td>\n      <td>4900.0</td>\n      <td>0</td>\n    </tr>\n    <tr>\n      <th>3</th>\n      <td>5000</td>\n      <td>5000</td>\n      <td>36 months</td>\n      <td>7.90</td>\n      <td>156.46</td>\n      <td>A</td>\n      <td>A4</td>\n      <td>3 years</td>\n      <td>OWN</td>\n      <td>80000.0</td>\n      <td>...</td>\n      <td>0.00</td>\n      <td>5573.942773</td>\n      <td>5000.00</td>\n      <td>573.94</td>\n      <td>0.0</td>\n      <td>1346.07</td>\n      <td>0.0</td>\n      <td>19319.0</td>\n      <td>46400.0</td>\n      <td>0</td>\n    </tr>\n    <tr>\n      <th>4</th>\n      <td>6000</td>\n      <td>6000</td>\n      <td>36 months</td>\n      <td>14.30</td>\n      <td>205.95</td>\n      <td>C</td>\n      <td>C1</td>\n      <td>8 years</td>\n      <td>RENT</td>\n      <td>75000.0</td>\n      <td>...</td>\n      <td>2111.65</td>\n      <td>5148.000000</td>\n      <td>3888.35</td>\n      <td>1259.65</td>\n      <td>0.0</td>\n      <td>205.95</td>\n      <td>0.0</td>\n      <td>30785.0</td>\n      <td>21700.0</td>\n      <td>0</td>\n    </tr>\n  </tbody>\n</table>\n<p>5 rows × 28 columns</p>\n</div>"
     },
     "execution_count": 8,
     "metadata": {},
     "output_type": "execute_result"
    }
   ],
   "source": [
    "dataset_c = column_t.undersampling(X=dataset_c, y='status')\n",
    "dataset_c.head()"
   ],
   "metadata": {
    "collapsed": false,
    "ExecuteTime": {
     "start_time": "2023-04-23T21:03:49.399823Z",
     "end_time": "2023-04-23T21:03:49.626199Z"
    }
   }
  },
  {
   "cell_type": "code",
   "execution_count": 9,
   "outputs": [
    {
     "name": "stdout",
     "output_type": "stream",
     "text": [
      "<class 'pandas.core.frame.DataFrame'>\n",
      "RangeIndex: 75362 entries, 0 to 75361\n",
      "Data columns (total 28 columns):\n",
      " #   Column               Non-Null Count  Dtype  \n",
      "---  ------               --------------  -----  \n",
      " 0   loan_amnt            75362 non-null  int64  \n",
      " 1   funded_amnt          75362 non-null  int64  \n",
      " 2   term                 75362 non-null  object \n",
      " 3   int_rate             75362 non-null  float64\n",
      " 4   installment          75362 non-null  float64\n",
      " 5   grade                75362 non-null  object \n",
      " 6   sub_grade            75362 non-null  object \n",
      " 7   emp_length           75362 non-null  object \n",
      " 8   home_ownership       75362 non-null  object \n",
      " 9   annual_inc           75362 non-null  float64\n",
      " 10  verification_status  75362 non-null  object \n",
      " 11  purpose              75362 non-null  object \n",
      " 12  addr_state           75362 non-null  object \n",
      " 13  dti                  75362 non-null  float64\n",
      " 14  revol_bal            75362 non-null  int64  \n",
      " 15  revol_util           75362 non-null  float64\n",
      " 16  total_acc            75362 non-null  float64\n",
      " 17  initial_list_status  75362 non-null  object \n",
      " 18  out_prncp            75362 non-null  float64\n",
      " 19  total_pymnt          75362 non-null  float64\n",
      " 20  total_rec_prncp      75362 non-null  float64\n",
      " 21  total_rec_int        75362 non-null  float64\n",
      " 22  total_rec_late_fee   75362 non-null  float64\n",
      " 23  last_pymnt_amnt      75362 non-null  float64\n",
      " 24  tot_coll_amt         75362 non-null  float64\n",
      " 25  tot_cur_bal          75362 non-null  float64\n",
      " 26  total_rev_hi_lim     75362 non-null  float64\n",
      " 27  status               75362 non-null  int64  \n",
      "dtypes: float64(15), int64(4), object(9)\n",
      "memory usage: 16.1+ MB\n"
     ]
    }
   ],
   "source": [
    "dataset_c.info()"
   ],
   "metadata": {
    "collapsed": false,
    "ExecuteTime": {
     "start_time": "2023-04-23T21:03:49.629201Z",
     "end_time": "2023-04-23T21:03:49.761258Z"
    }
   }
  },
  {
   "cell_type": "code",
   "execution_count": 9,
   "outputs": [],
   "source": [],
   "metadata": {
    "collapsed": false,
    "ExecuteTime": {
     "start_time": "2023-04-23T21:03:49.678385Z",
     "end_time": "2023-04-23T21:03:49.776261Z"
    }
   }
  },
  {
   "cell_type": "code",
   "execution_count": 10,
   "outputs": [
    {
     "data": {
      "text/plain": "   loan_amnt  funded_amnt        term  int_rate  installment grade sub_grade   \n0      25000        25000   60 months     14.30       585.61     C        C1  \\\n1      25000        25000   60 months     14.98       594.49     C        C3   \n2      10000        10000   36 months     18.55       364.29     D        D2   \n3       5000         5000   36 months      7.90       156.46     A        A4   \n4       6000         6000   36 months     14.30       205.95     C        C1   \n\n  emp_length home_ownership  annual_inc  ... initial_list_status out_prncp   \n0  10+ years       MORTGAGE     60000.0  ...                   w  16678.72  \\\n1    7 years       MORTGAGE     82000.0  ...                   f  17529.68   \n2  10+ years           RENT     89000.0  ...                   w      0.00   \n3    3 years            OWN     80000.0  ...                   f      0.00   \n4    8 years           RENT     75000.0  ...                   f   2111.65   \n\n    total_pymnt  total_rec_prncp  total_rec_int  total_rec_late_fee   \n0  14640.250000          8321.28        6318.97                 0.0  \\\n1  13673.270000          7470.32        6202.95                 0.0   \n2  10472.830000          9999.99         472.84                 0.0   \n3   5573.942773          5000.00         573.94                 0.0   \n4   5148.000000          3888.35        1259.65                 0.0   \n\n   last_pymnt_amnt tot_coll_amt  tot_cur_bal  total_rev_hi_lim  \n0           585.61          0.0     104064.0           30500.0  \n1           594.49          0.0     254150.0           63200.0  \n2            51.38          0.0      60834.0            4900.0  \n3          1346.07          0.0      19319.0           46400.0  \n4           205.95          0.0      30785.0           21700.0  \n\n[5 rows x 27 columns]",
      "text/html": "<div>\n<style scoped>\n    .dataframe tbody tr th:only-of-type {\n        vertical-align: middle;\n    }\n\n    .dataframe tbody tr th {\n        vertical-align: top;\n    }\n\n    .dataframe thead th {\n        text-align: right;\n    }\n</style>\n<table border=\"1\" class=\"dataframe\">\n  <thead>\n    <tr style=\"text-align: right;\">\n      <th></th>\n      <th>loan_amnt</th>\n      <th>funded_amnt</th>\n      <th>term</th>\n      <th>int_rate</th>\n      <th>installment</th>\n      <th>grade</th>\n      <th>sub_grade</th>\n      <th>emp_length</th>\n      <th>home_ownership</th>\n      <th>annual_inc</th>\n      <th>...</th>\n      <th>initial_list_status</th>\n      <th>out_prncp</th>\n      <th>total_pymnt</th>\n      <th>total_rec_prncp</th>\n      <th>total_rec_int</th>\n      <th>total_rec_late_fee</th>\n      <th>last_pymnt_amnt</th>\n      <th>tot_coll_amt</th>\n      <th>tot_cur_bal</th>\n      <th>total_rev_hi_lim</th>\n    </tr>\n  </thead>\n  <tbody>\n    <tr>\n      <th>0</th>\n      <td>25000</td>\n      <td>25000</td>\n      <td>60 months</td>\n      <td>14.30</td>\n      <td>585.61</td>\n      <td>C</td>\n      <td>C1</td>\n      <td>10+ years</td>\n      <td>MORTGAGE</td>\n      <td>60000.0</td>\n      <td>...</td>\n      <td>w</td>\n      <td>16678.72</td>\n      <td>14640.250000</td>\n      <td>8321.28</td>\n      <td>6318.97</td>\n      <td>0.0</td>\n      <td>585.61</td>\n      <td>0.0</td>\n      <td>104064.0</td>\n      <td>30500.0</td>\n    </tr>\n    <tr>\n      <th>1</th>\n      <td>25000</td>\n      <td>25000</td>\n      <td>60 months</td>\n      <td>14.98</td>\n      <td>594.49</td>\n      <td>C</td>\n      <td>C3</td>\n      <td>7 years</td>\n      <td>MORTGAGE</td>\n      <td>82000.0</td>\n      <td>...</td>\n      <td>f</td>\n      <td>17529.68</td>\n      <td>13673.270000</td>\n      <td>7470.32</td>\n      <td>6202.95</td>\n      <td>0.0</td>\n      <td>594.49</td>\n      <td>0.0</td>\n      <td>254150.0</td>\n      <td>63200.0</td>\n    </tr>\n    <tr>\n      <th>2</th>\n      <td>10000</td>\n      <td>10000</td>\n      <td>36 months</td>\n      <td>18.55</td>\n      <td>364.29</td>\n      <td>D</td>\n      <td>D2</td>\n      <td>10+ years</td>\n      <td>RENT</td>\n      <td>89000.0</td>\n      <td>...</td>\n      <td>w</td>\n      <td>0.00</td>\n      <td>10472.830000</td>\n      <td>9999.99</td>\n      <td>472.84</td>\n      <td>0.0</td>\n      <td>51.38</td>\n      <td>0.0</td>\n      <td>60834.0</td>\n      <td>4900.0</td>\n    </tr>\n    <tr>\n      <th>3</th>\n      <td>5000</td>\n      <td>5000</td>\n      <td>36 months</td>\n      <td>7.90</td>\n      <td>156.46</td>\n      <td>A</td>\n      <td>A4</td>\n      <td>3 years</td>\n      <td>OWN</td>\n      <td>80000.0</td>\n      <td>...</td>\n      <td>f</td>\n      <td>0.00</td>\n      <td>5573.942773</td>\n      <td>5000.00</td>\n      <td>573.94</td>\n      <td>0.0</td>\n      <td>1346.07</td>\n      <td>0.0</td>\n      <td>19319.0</td>\n      <td>46400.0</td>\n    </tr>\n    <tr>\n      <th>4</th>\n      <td>6000</td>\n      <td>6000</td>\n      <td>36 months</td>\n      <td>14.30</td>\n      <td>205.95</td>\n      <td>C</td>\n      <td>C1</td>\n      <td>8 years</td>\n      <td>RENT</td>\n      <td>75000.0</td>\n      <td>...</td>\n      <td>f</td>\n      <td>2111.65</td>\n      <td>5148.000000</td>\n      <td>3888.35</td>\n      <td>1259.65</td>\n      <td>0.0</td>\n      <td>205.95</td>\n      <td>0.0</td>\n      <td>30785.0</td>\n      <td>21700.0</td>\n    </tr>\n  </tbody>\n</table>\n<p>5 rows × 27 columns</p>\n</div>"
     },
     "execution_count": 10,
     "metadata": {},
     "output_type": "execute_result"
    }
   ],
   "source": [
    "x_train_c = dataset_c.drop(\"status\", axis=1)\n",
    "y_train = dataset_c[\"status\"]\n",
    "x_train_c.head()"
   ],
   "metadata": {
    "collapsed": false,
    "ExecuteTime": {
     "start_time": "2023-04-23T21:03:49.685386Z",
     "end_time": "2023-04-23T21:03:49.809265Z"
    }
   }
  },
  {
   "cell_type": "code",
   "execution_count": 11,
   "outputs": [
    {
     "data": {
      "text/plain": "          loan_amnt        funded_amnt        term     int_rate   \n0     (18000.0,inf)  (20429.0,25286.0)   60 months  (12.0,15.0)  \\\n1     (18000.0,inf)  (20429.0,25286.0)   60 months  (12.0,15.0)   \n2  (9500.0,18000.0)   (5857.0,10714.0)   36 months  (17.0,20.0)   \n3   (1000.0,9500.0)    (1000.0,5857.0)   36 months    (6.0,9.0)   \n4   (1000.0,9500.0)   (5857.0,10714.0)   36 months  (12.0,15.0)   \n\n     installment grade sub_grade emp_length home_ownership         annual_inc   \n0  (486.0,717.0)     C        C1  10+ years       MORTGAGE  (7000.0,178500.0)  \\\n1  (486.0,717.0)     C        C3    7 years       MORTGAGE  (7000.0,178500.0)   \n2  (254.0,486.0)     D        D2  10+ years           RENT  (7000.0,178500.0)   \n3   (23.0,254.0)     A        A4    3 years            OWN  (7000.0,178500.0)   \n4   (23.0,254.0)     C        C1    8 years           RENT  (7000.0,178500.0)   \n\n   ... initial_list_status        out_prncp        total_pymnt   \n0  ...                   w    (16080.0,inf)  (13786.0,25000.0)  \\\n1  ...                   f    (16080.0,inf)   (7000.0,13786.0)   \n2  ...                   w    (-inf,2000.0)   (7000.0,13786.0)   \n3  ...                   f    (-inf,2000.0)        (-inf,7000)   \n4  ...                   f  (2000.0,8040.0)        (-inf,7000)   \n\n    total_rec_prncp    total_rec_int total_rec_late_fee last_pymnt_amnt   \n0  (5833.0,11667.0)  (6139.0,9208.0)         (-inf,2.0)  (100.0,6007.0)  \\\n1  (5833.0,11667.0)  (6139.0,9208.0)         (-inf,2.0)  (100.0,6007.0)   \n2  (5833.0,11667.0)      (-inf,1000)         (-inf,2.0)    (-inf,100.0)   \n3   (2000.0,5833.0)      (-inf,1000)         (-inf,2.0)  (100.0,6007.0)   \n4   (2000.0,5833.0)  (1000.0,3069.0)         (-inf,2.0)  (100.0,6007.0)   \n\n    tot_coll_amt      tot_cur_bal   total_rev_hi_lim  \n0  (-inf,3000.0)  (-inf,500000.0)  (20000.0,40000.0)  \n1  (-inf,3000.0)  (-inf,500000.0)      (60000.0,inf)  \n2  (-inf,3000.0)  (-inf,500000.0)     (-inf,20000.0)  \n3  (-inf,3000.0)  (-inf,500000.0)  (40000.0,60000.0)  \n4  (-inf,3000.0)  (-inf,500000.0)  (20000.0,40000.0)  \n\n[5 rows x 27 columns]",
      "text/html": "<div>\n<style scoped>\n    .dataframe tbody tr th:only-of-type {\n        vertical-align: middle;\n    }\n\n    .dataframe tbody tr th {\n        vertical-align: top;\n    }\n\n    .dataframe thead th {\n        text-align: right;\n    }\n</style>\n<table border=\"1\" class=\"dataframe\">\n  <thead>\n    <tr style=\"text-align: right;\">\n      <th></th>\n      <th>loan_amnt</th>\n      <th>funded_amnt</th>\n      <th>term</th>\n      <th>int_rate</th>\n      <th>installment</th>\n      <th>grade</th>\n      <th>sub_grade</th>\n      <th>emp_length</th>\n      <th>home_ownership</th>\n      <th>annual_inc</th>\n      <th>...</th>\n      <th>initial_list_status</th>\n      <th>out_prncp</th>\n      <th>total_pymnt</th>\n      <th>total_rec_prncp</th>\n      <th>total_rec_int</th>\n      <th>total_rec_late_fee</th>\n      <th>last_pymnt_amnt</th>\n      <th>tot_coll_amt</th>\n      <th>tot_cur_bal</th>\n      <th>total_rev_hi_lim</th>\n    </tr>\n  </thead>\n  <tbody>\n    <tr>\n      <th>0</th>\n      <td>(18000.0,inf)</td>\n      <td>(20429.0,25286.0)</td>\n      <td>60 months</td>\n      <td>(12.0,15.0)</td>\n      <td>(486.0,717.0)</td>\n      <td>C</td>\n      <td>C1</td>\n      <td>10+ years</td>\n      <td>MORTGAGE</td>\n      <td>(7000.0,178500.0)</td>\n      <td>...</td>\n      <td>w</td>\n      <td>(16080.0,inf)</td>\n      <td>(13786.0,25000.0)</td>\n      <td>(5833.0,11667.0)</td>\n      <td>(6139.0,9208.0)</td>\n      <td>(-inf,2.0)</td>\n      <td>(100.0,6007.0)</td>\n      <td>(-inf,3000.0)</td>\n      <td>(-inf,500000.0)</td>\n      <td>(20000.0,40000.0)</td>\n    </tr>\n    <tr>\n      <th>1</th>\n      <td>(18000.0,inf)</td>\n      <td>(20429.0,25286.0)</td>\n      <td>60 months</td>\n      <td>(12.0,15.0)</td>\n      <td>(486.0,717.0)</td>\n      <td>C</td>\n      <td>C3</td>\n      <td>7 years</td>\n      <td>MORTGAGE</td>\n      <td>(7000.0,178500.0)</td>\n      <td>...</td>\n      <td>f</td>\n      <td>(16080.0,inf)</td>\n      <td>(7000.0,13786.0)</td>\n      <td>(5833.0,11667.0)</td>\n      <td>(6139.0,9208.0)</td>\n      <td>(-inf,2.0)</td>\n      <td>(100.0,6007.0)</td>\n      <td>(-inf,3000.0)</td>\n      <td>(-inf,500000.0)</td>\n      <td>(60000.0,inf)</td>\n    </tr>\n    <tr>\n      <th>2</th>\n      <td>(9500.0,18000.0)</td>\n      <td>(5857.0,10714.0)</td>\n      <td>36 months</td>\n      <td>(17.0,20.0)</td>\n      <td>(254.0,486.0)</td>\n      <td>D</td>\n      <td>D2</td>\n      <td>10+ years</td>\n      <td>RENT</td>\n      <td>(7000.0,178500.0)</td>\n      <td>...</td>\n      <td>w</td>\n      <td>(-inf,2000.0)</td>\n      <td>(7000.0,13786.0)</td>\n      <td>(5833.0,11667.0)</td>\n      <td>(-inf,1000)</td>\n      <td>(-inf,2.0)</td>\n      <td>(-inf,100.0)</td>\n      <td>(-inf,3000.0)</td>\n      <td>(-inf,500000.0)</td>\n      <td>(-inf,20000.0)</td>\n    </tr>\n    <tr>\n      <th>3</th>\n      <td>(1000.0,9500.0)</td>\n      <td>(1000.0,5857.0)</td>\n      <td>36 months</td>\n      <td>(6.0,9.0)</td>\n      <td>(23.0,254.0)</td>\n      <td>A</td>\n      <td>A4</td>\n      <td>3 years</td>\n      <td>OWN</td>\n      <td>(7000.0,178500.0)</td>\n      <td>...</td>\n      <td>f</td>\n      <td>(-inf,2000.0)</td>\n      <td>(-inf,7000)</td>\n      <td>(2000.0,5833.0)</td>\n      <td>(-inf,1000)</td>\n      <td>(-inf,2.0)</td>\n      <td>(100.0,6007.0)</td>\n      <td>(-inf,3000.0)</td>\n      <td>(-inf,500000.0)</td>\n      <td>(40000.0,60000.0)</td>\n    </tr>\n    <tr>\n      <th>4</th>\n      <td>(1000.0,9500.0)</td>\n      <td>(5857.0,10714.0)</td>\n      <td>36 months</td>\n      <td>(12.0,15.0)</td>\n      <td>(23.0,254.0)</td>\n      <td>C</td>\n      <td>C1</td>\n      <td>8 years</td>\n      <td>RENT</td>\n      <td>(7000.0,178500.0)</td>\n      <td>...</td>\n      <td>f</td>\n      <td>(2000.0,8040.0)</td>\n      <td>(-inf,7000)</td>\n      <td>(2000.0,5833.0)</td>\n      <td>(1000.0,3069.0)</td>\n      <td>(-inf,2.0)</td>\n      <td>(100.0,6007.0)</td>\n      <td>(-inf,3000.0)</td>\n      <td>(-inf,500000.0)</td>\n      <td>(20000.0,40000.0)</td>\n    </tr>\n  </tbody>\n</table>\n<p>5 rows × 27 columns</p>\n</div>"
     },
     "execution_count": 11,
     "metadata": {},
     "output_type": "execute_result"
    }
   ],
   "source": [
    "x_train_b = binning_t.transform(x_train_c)\n",
    "x_train_b.head()"
   ],
   "metadata": {
    "collapsed": false,
    "ExecuteTime": {
     "start_time": "2023-04-23T21:03:49.732261Z",
     "end_time": "2023-04-23T21:03:50.520500Z"
    }
   }
  },
  {
   "cell_type": "code",
   "execution_count": 12,
   "outputs": [
    {
     "data": {
      "text/plain": "WOETransformer(columns=['loan_amnt', 'funded_amnt', 'term', 'int_rate', 'installment', 'grade', 'sub_grade', 'emp_length', 'home_ownership', 'annual_inc', 'verification_status', 'purpose', 'addr_state', 'dti', 'revol_bal', 'revol_util', 'total_acc', 'initial_list_status', 'out_prncp', 'total_pymnt', 'total_rec_prncp', 'total_rec_int', 'total_rec_late_fee', 'last_pymnt_amnt', 'tot_coll_amt', 'tot_cur_bal', 'total_rev_hi_lim', 'status'], target_mappings={0: 'good', 1: 'bad'})"
     },
     "execution_count": 12,
     "metadata": {},
     "output_type": "execute_result"
    }
   ],
   "source": [
    "woe_t.fit(x_train_b, y_train)\n"
   ],
   "metadata": {
    "collapsed": false,
    "ExecuteTime": {
     "start_time": "2023-04-23T21:03:50.519494Z",
     "end_time": "2023-04-23T21:03:51.952398Z"
    }
   }
  },
  {
   "cell_type": "code",
   "execution_count": 13,
   "outputs": [
    {
     "data": {
      "text/plain": "total_rev_hi_lim\n(-inf,20000.0)       34132\n(20000.0,40000.0)    25836\n(40000.0,60000.0)     9313\n(60000.0,inf)         6081\nName: count, dtype: int64"
     },
     "execution_count": 13,
     "metadata": {},
     "output_type": "execute_result"
    }
   ],
   "source": [
    "x_train_b[\"total_rev_hi_lim\"].value_counts()"
   ],
   "metadata": {
    "collapsed": false,
    "ExecuteTime": {
     "start_time": "2023-04-23T21:03:51.955396Z",
     "end_time": "2023-04-23T21:03:51.969695Z"
    }
   }
  },
  {
   "cell_type": "code",
   "execution_count": 14,
   "outputs": [
    {
     "name": "stdout",
     "output_type": "stream",
     "text": [
      "['(18000.0,inf)', '(9500.0,18000.0)', '(1000.0,9500.0)', '(-inf,1000.0)']\n",
      "['(25286.0,inf)', '(15571.0,20429.0)', '(10714.0,15571.0)', '(20429.0,25286.0)', '(5857.0,10714.0)', '(1000.0,5857.0)', '(-inf,1000.0)']\n",
      "[' 60 months', ' 36 months']\n",
      "['(20.0,inf)', '(17.0,20.0)', '(15.0,17.0)', '(12.0,15.0)', '(9.0,12.0)', '(-inf,6.0)', '(6.0,9.0)']\n",
      "['(948.0,inf)', '(486.0,717.0)', '(254.0,486.0)', '(717.0,948.0)', '(23.0,254.0)']\n",
      "['G', 'F', 'E', 'D', 'C', 'B', 'A']\n",
      "['G1', 'F5', 'G2', 'G5', 'G3', 'F3', 'F4', 'E5', 'F2', 'E4', 'F1', 'G4', 'E3', 'E2', 'D5', 'D4', 'E1', 'D2', 'D3', 'D1', 'C4', 'C5', 'C3', 'C2', 'C1', 'B5', 'B4', 'B3', 'B2', 'B1', 'A5', 'A4', 'A3', 'A2', 'A1']\n",
      "['< 1 year', '6 years', '5 years', '9 years', '7 years', '8 years', '2 years', '3 years', '1 year', '4 years', '10+ years']\n",
      "['NONE', 'OTHER', 'RENT', 'OWN', 'MORTGAGE']\n",
      "['(7000.0,178500.0)', '(178500.0,350000.0)', '(521500.0,693000.0)', '(350000.0,521500.0)', '(693000.0,inf)']\n",
      "['Verified', 'Source Verified', 'Not Verified']\n",
      "['small_business', 'house', 'moving', 'other', 'medical', 'wedding', 'renewable_energy', 'debt_consolidation', 'vacation', 'home_improvement', 'major_purchase', 'credit_card', 'car']\n",
      "['NV', 'HI', 'SD', 'TN', 'LA', 'FL', 'AL', 'VA', 'NY', 'MN', 'OK', 'NC', 'KY', 'MO', 'MD', 'AR', 'IN', 'NJ', 'DE', 'CA', 'PA', 'AZ', 'MI', 'MA', 'NM', 'OH', 'UT', 'GA', 'OR', 'WA', 'KS', 'TX', 'IL', 'RI', 'CO', 'WI', 'MT', 'CT', 'WY', 'SC', 'DC', 'MS', 'WV', 'NH', 'VT', 'AK']\n",
      "['(27.0,inf)', '(20.0,27.0)', '(13.0,20.0)', '(7.0,13.0)', '(-inf,3.0)', '(3.0,7.0)']\n",
      "['(-inf,10000.0)', '(500000.0,700000.0)', '(10000.0,500000.0)', '(700000.0,inf)']\n",
      "['(74.0,inf)', '(37.0,74.0)', '(15.0,37.0)', '(-inf,15.0)']\n",
      "['(87.0,108.0)', '(-inf,12.0)', '(65.0,87.0)', '(12.0,23.0)', '(44.0,65.0)', '(23.0,44.0)']\n",
      "['f', 'w']\n",
      "['(-inf,2000.0)', '(16080.0,inf)', '(8040.0,16080.0)', '(2000.0,8040.0)']\n",
      "['(-inf,7000)', '(7000.0,13786.0)', '(13786.0,25000.0)', '(25000.0,inf)']\n",
      "['(-inf,2000.0)', '(2000.0,5833.0)', '(5833.0,11667.0)', '(11667.0,17500.0)', '(17500.0,22000.0)', '(22000.0,inf)']\n",
      "['(-inf,1000)', '(1000.0,3069.0)', '(3069.0,6139.0)', '(6139.0,9208.0)', '(12277.0,14000.0)', '(9208.0,12277.0)', '(14000.0,inf)']\n",
      "['(40.0,60.0)', '(60.0,90.0)', '(2.0,40.0)', '(90.0,inf)', '(-inf,2.0)']\n",
      "['(-inf,100.0)', '(100.0,6007.0)', '(18022.0,23000.0)', '(23000.0,inf)', '(12015.0,18022.0)', '(6007.0,12015.0)']\n",
      "['(-inf,3000.0)', '(47903.0,62000.0)', '(3000.0,15968.0)', '(62000.0,inf)', '(15968.0,31935.0)', '(31935.0,47903.0)']\n",
      "['(-inf,500000.0)', '(1500000.0,inf)', '(500000.0,960199.0)', '(960199.0,1500000.0)']\n",
      "['(-inf,20000.0)', '(20000.0,40000.0)', '(40000.0,60000.0)', '(60000.0,inf)']\n"
     ]
    },
    {
     "data": {
      "text/plain": "   loan_amnt  funded_amnt      term  int_rate  installment     grade   \n0  -0.052340     0.006831 -0.260854  0.148548    -0.070657 -0.053435  \\\n1  -0.052340     0.006831 -0.260854  0.148548    -0.070657 -0.053435   \n2  -0.010994     0.026456  0.124963 -0.550966    -0.024024 -0.418535   \n3   0.073545     0.109302  0.124963  1.282256     0.178507  1.273492   \n4   0.073545     0.026456  0.124963  0.148548     0.178507 -0.053435   \n\n   sub_grade  emp_length  home_ownership  annual_inc  ...   \n0   0.113274    0.102840        0.143572    -0.01175  ...  \\\n1  -0.079615   -0.054376        0.143572    -0.01175  ...   \n2  -0.419312    0.102840       -0.174877    -0.01175  ...   \n3   1.113490   -0.031643        0.041779    -0.01175  ...   \n4   0.113274   -0.042903       -0.174877    -0.01175  ...   \n\n   initial_list_status  out_prncp  total_pymnt  total_rec_prncp   \n0             0.149141   0.883355     0.916576         0.747297  \\\n1            -0.095630   0.883355     0.253832         0.747297   \n2             0.149141  -0.622209     0.253832         0.747297   \n3            -0.095630  -0.622209    -0.643936        -0.250153   \n4            -0.095630   1.290653    -0.643936        -0.250153   \n\n   total_rec_int  total_rec_late_fee  last_pymnt_amnt  tot_coll_amt   \n0       0.125020            0.082051        -0.218153     -0.003029  \\\n1       0.125020            0.082051        -0.218153     -0.003029   \n2      -0.173128            0.082051        -0.503628     -0.003029   \n3      -0.173128            0.082051        -0.218153     -0.003029   \n4       0.037963            0.082051        -0.218153     -0.003029   \n\n   tot_cur_bal  total_rev_hi_lim  \n0    -0.014988         -0.006193  \n1    -0.014988          0.490093  \n2    -0.014988         -0.135211  \n3    -0.014988          0.198870  \n4    -0.014988         -0.006193  \n\n[5 rows x 27 columns]",
      "text/html": "<div>\n<style scoped>\n    .dataframe tbody tr th:only-of-type {\n        vertical-align: middle;\n    }\n\n    .dataframe tbody tr th {\n        vertical-align: top;\n    }\n\n    .dataframe thead th {\n        text-align: right;\n    }\n</style>\n<table border=\"1\" class=\"dataframe\">\n  <thead>\n    <tr style=\"text-align: right;\">\n      <th></th>\n      <th>loan_amnt</th>\n      <th>funded_amnt</th>\n      <th>term</th>\n      <th>int_rate</th>\n      <th>installment</th>\n      <th>grade</th>\n      <th>sub_grade</th>\n      <th>emp_length</th>\n      <th>home_ownership</th>\n      <th>annual_inc</th>\n      <th>...</th>\n      <th>initial_list_status</th>\n      <th>out_prncp</th>\n      <th>total_pymnt</th>\n      <th>total_rec_prncp</th>\n      <th>total_rec_int</th>\n      <th>total_rec_late_fee</th>\n      <th>last_pymnt_amnt</th>\n      <th>tot_coll_amt</th>\n      <th>tot_cur_bal</th>\n      <th>total_rev_hi_lim</th>\n    </tr>\n  </thead>\n  <tbody>\n    <tr>\n      <th>0</th>\n      <td>-0.052340</td>\n      <td>0.006831</td>\n      <td>-0.260854</td>\n      <td>0.148548</td>\n      <td>-0.070657</td>\n      <td>-0.053435</td>\n      <td>0.113274</td>\n      <td>0.102840</td>\n      <td>0.143572</td>\n      <td>-0.01175</td>\n      <td>...</td>\n      <td>0.149141</td>\n      <td>0.883355</td>\n      <td>0.916576</td>\n      <td>0.747297</td>\n      <td>0.125020</td>\n      <td>0.082051</td>\n      <td>-0.218153</td>\n      <td>-0.003029</td>\n      <td>-0.014988</td>\n      <td>-0.006193</td>\n    </tr>\n    <tr>\n      <th>1</th>\n      <td>-0.052340</td>\n      <td>0.006831</td>\n      <td>-0.260854</td>\n      <td>0.148548</td>\n      <td>-0.070657</td>\n      <td>-0.053435</td>\n      <td>-0.079615</td>\n      <td>-0.054376</td>\n      <td>0.143572</td>\n      <td>-0.01175</td>\n      <td>...</td>\n      <td>-0.095630</td>\n      <td>0.883355</td>\n      <td>0.253832</td>\n      <td>0.747297</td>\n      <td>0.125020</td>\n      <td>0.082051</td>\n      <td>-0.218153</td>\n      <td>-0.003029</td>\n      <td>-0.014988</td>\n      <td>0.490093</td>\n    </tr>\n    <tr>\n      <th>2</th>\n      <td>-0.010994</td>\n      <td>0.026456</td>\n      <td>0.124963</td>\n      <td>-0.550966</td>\n      <td>-0.024024</td>\n      <td>-0.418535</td>\n      <td>-0.419312</td>\n      <td>0.102840</td>\n      <td>-0.174877</td>\n      <td>-0.01175</td>\n      <td>...</td>\n      <td>0.149141</td>\n      <td>-0.622209</td>\n      <td>0.253832</td>\n      <td>0.747297</td>\n      <td>-0.173128</td>\n      <td>0.082051</td>\n      <td>-0.503628</td>\n      <td>-0.003029</td>\n      <td>-0.014988</td>\n      <td>-0.135211</td>\n    </tr>\n    <tr>\n      <th>3</th>\n      <td>0.073545</td>\n      <td>0.109302</td>\n      <td>0.124963</td>\n      <td>1.282256</td>\n      <td>0.178507</td>\n      <td>1.273492</td>\n      <td>1.113490</td>\n      <td>-0.031643</td>\n      <td>0.041779</td>\n      <td>-0.01175</td>\n      <td>...</td>\n      <td>-0.095630</td>\n      <td>-0.622209</td>\n      <td>-0.643936</td>\n      <td>-0.250153</td>\n      <td>-0.173128</td>\n      <td>0.082051</td>\n      <td>-0.218153</td>\n      <td>-0.003029</td>\n      <td>-0.014988</td>\n      <td>0.198870</td>\n    </tr>\n    <tr>\n      <th>4</th>\n      <td>0.073545</td>\n      <td>0.026456</td>\n      <td>0.124963</td>\n      <td>0.148548</td>\n      <td>0.178507</td>\n      <td>-0.053435</td>\n      <td>0.113274</td>\n      <td>-0.042903</td>\n      <td>-0.174877</td>\n      <td>-0.01175</td>\n      <td>...</td>\n      <td>-0.095630</td>\n      <td>1.290653</td>\n      <td>-0.643936</td>\n      <td>-0.250153</td>\n      <td>0.037963</td>\n      <td>0.082051</td>\n      <td>-0.218153</td>\n      <td>-0.003029</td>\n      <td>-0.014988</td>\n      <td>-0.006193</td>\n    </tr>\n  </tbody>\n</table>\n<p>5 rows × 27 columns</p>\n</div>"
     },
     "execution_count": 14,
     "metadata": {},
     "output_type": "execute_result"
    }
   ],
   "source": [
    "\n",
    "woe_t.transform(x_train_b).head()"
   ],
   "metadata": {
    "collapsed": false,
    "ExecuteTime": {
     "start_time": "2023-04-23T21:03:51.970695Z",
     "end_time": "2023-04-23T21:04:13.102079Z"
    }
   }
  },
  {
   "cell_type": "markdown",
   "source": [
    "woe_t.transform(x_train_b).head()\n",
    "# WOE\n",
    "\n",
    "Now that we transform our data to the respective Weight of Evidence, we can get the mappings for a given column to analyze the WoE and IV, and determine if our bins have a good predictive power, or if we need to re-structure them."
   ],
   "metadata": {
    "collapsed": false
   }
  },
  {
   "cell_type": "code",
   "execution_count": 15,
   "outputs": [
    {
     "data": {
      "text/plain": "          loan_amnt      good       bad       woe  info_val\n2     (18000.0,inf)  0.306706  0.323187 -0.052340  0.000863\n3  (9500.0,18000.0)  0.408110  0.412622 -0.010994  0.000050\n1   (1000.0,9500.0)  0.282583  0.262546  0.073545  0.001474\n0     (-inf,1000.0)  0.002601  0.001645  0.457833  0.000437",
      "text/html": "<div>\n<style scoped>\n    .dataframe tbody tr th:only-of-type {\n        vertical-align: middle;\n    }\n\n    .dataframe tbody tr th {\n        vertical-align: top;\n    }\n\n    .dataframe thead th {\n        text-align: right;\n    }\n</style>\n<table border=\"1\" class=\"dataframe\">\n  <thead>\n    <tr style=\"text-align: right;\">\n      <th></th>\n      <th>loan_amnt</th>\n      <th>good</th>\n      <th>bad</th>\n      <th>woe</th>\n      <th>info_val</th>\n    </tr>\n  </thead>\n  <tbody>\n    <tr>\n      <th>2</th>\n      <td>(18000.0,inf)</td>\n      <td>0.306706</td>\n      <td>0.323187</td>\n      <td>-0.052340</td>\n      <td>0.000863</td>\n    </tr>\n    <tr>\n      <th>3</th>\n      <td>(9500.0,18000.0)</td>\n      <td>0.408110</td>\n      <td>0.412622</td>\n      <td>-0.010994</td>\n      <td>0.000050</td>\n    </tr>\n    <tr>\n      <th>1</th>\n      <td>(1000.0,9500.0)</td>\n      <td>0.282583</td>\n      <td>0.262546</td>\n      <td>0.073545</td>\n      <td>0.001474</td>\n    </tr>\n    <tr>\n      <th>0</th>\n      <td>(-inf,1000.0)</td>\n      <td>0.002601</td>\n      <td>0.001645</td>\n      <td>0.457833</td>\n      <td>0.000437</td>\n    </tr>\n  </tbody>\n</table>\n</div>"
     },
     "execution_count": 15,
     "metadata": {},
     "output_type": "execute_result"
    }
   ],
   "source": [
    "woe_t.woe_mappings[\"loan_amnt\"]"
   ],
   "metadata": {
    "collapsed": false,
    "ExecuteTime": {
     "start_time": "2023-04-23T21:04:13.105077Z",
     "end_time": "2023-04-23T21:04:13.117530Z"
    }
   }
  },
  {
   "cell_type": "code",
   "execution_count": 16,
   "outputs": [
    {
     "data": {
      "text/plain": "         funded_amnt      good       bad       woe  info_val\n5      (25286.0,inf)  0.115284  0.128632 -0.109564  0.001463\n3  (15571.0,20429.0)  0.174650  0.183673 -0.050374  0.000455\n2  (10714.0,15571.0)  0.215865  0.214405  0.006785  0.000010\n4  (20429.0,25286.0)  0.109153  0.108410  0.006831  0.000005\n6   (5857.0,10714.0)  0.263263  0.256389  0.026456  0.000182\n1    (1000.0,5857.0)  0.119185  0.106844  0.109302  0.001349\n0      (-inf,1000.0)  0.002601  0.001645  0.457833  0.000437",
      "text/html": "<div>\n<style scoped>\n    .dataframe tbody tr th:only-of-type {\n        vertical-align: middle;\n    }\n\n    .dataframe tbody tr th {\n        vertical-align: top;\n    }\n\n    .dataframe thead th {\n        text-align: right;\n    }\n</style>\n<table border=\"1\" class=\"dataframe\">\n  <thead>\n    <tr style=\"text-align: right;\">\n      <th></th>\n      <th>funded_amnt</th>\n      <th>good</th>\n      <th>bad</th>\n      <th>woe</th>\n      <th>info_val</th>\n    </tr>\n  </thead>\n  <tbody>\n    <tr>\n      <th>5</th>\n      <td>(25286.0,inf)</td>\n      <td>0.115284</td>\n      <td>0.128632</td>\n      <td>-0.109564</td>\n      <td>0.001463</td>\n    </tr>\n    <tr>\n      <th>3</th>\n      <td>(15571.0,20429.0)</td>\n      <td>0.174650</td>\n      <td>0.183673</td>\n      <td>-0.050374</td>\n      <td>0.000455</td>\n    </tr>\n    <tr>\n      <th>2</th>\n      <td>(10714.0,15571.0)</td>\n      <td>0.215865</td>\n      <td>0.214405</td>\n      <td>0.006785</td>\n      <td>0.000010</td>\n    </tr>\n    <tr>\n      <th>4</th>\n      <td>(20429.0,25286.0)</td>\n      <td>0.109153</td>\n      <td>0.108410</td>\n      <td>0.006831</td>\n      <td>0.000005</td>\n    </tr>\n    <tr>\n      <th>6</th>\n      <td>(5857.0,10714.0)</td>\n      <td>0.263263</td>\n      <td>0.256389</td>\n      <td>0.026456</td>\n      <td>0.000182</td>\n    </tr>\n    <tr>\n      <th>1</th>\n      <td>(1000.0,5857.0)</td>\n      <td>0.119185</td>\n      <td>0.106844</td>\n      <td>0.109302</td>\n      <td>0.001349</td>\n    </tr>\n    <tr>\n      <th>0</th>\n      <td>(-inf,1000.0)</td>\n      <td>0.002601</td>\n      <td>0.001645</td>\n      <td>0.457833</td>\n      <td>0.000437</td>\n    </tr>\n  </tbody>\n</table>\n</div>"
     },
     "execution_count": 16,
     "metadata": {},
     "output_type": "execute_result"
    }
   ],
   "source": [
    "woe_t.woe_mappings[\"funded_amnt\"]"
   ],
   "metadata": {
    "collapsed": false,
    "ExecuteTime": {
     "start_time": "2023-04-23T21:04:13.117530Z",
     "end_time": "2023-04-23T21:04:13.247880Z"
    }
   }
  },
  {
   "cell_type": "code",
   "execution_count": 17,
   "outputs": [
    {
     "data": {
      "text/plain": "      int_rate      good       bad       woe  info_val\n4   (20.0,inf)  0.085481  0.197314 -0.836507  0.093550\n3  (17.0,20.0)  0.132056  0.229108 -0.550966  0.053472\n2  (15.0,17.0)  0.140761  0.180781 -0.250225  0.010014\n1  (12.0,15.0)  0.291261  0.251055  0.148548  0.005972\n6   (9.0,12.0)  0.189565  0.097105  0.668943  0.061851\n0   (-inf,6.0)  0.000159  0.000053  1.098612  0.000117\n5    (6.0,9.0)  0.160718  0.044585  1.282256  0.148912",
      "text/html": "<div>\n<style scoped>\n    .dataframe tbody tr th:only-of-type {\n        vertical-align: middle;\n    }\n\n    .dataframe tbody tr th {\n        vertical-align: top;\n    }\n\n    .dataframe thead th {\n        text-align: right;\n    }\n</style>\n<table border=\"1\" class=\"dataframe\">\n  <thead>\n    <tr style=\"text-align: right;\">\n      <th></th>\n      <th>int_rate</th>\n      <th>good</th>\n      <th>bad</th>\n      <th>woe</th>\n      <th>info_val</th>\n    </tr>\n  </thead>\n  <tbody>\n    <tr>\n      <th>4</th>\n      <td>(20.0,inf)</td>\n      <td>0.085481</td>\n      <td>0.197314</td>\n      <td>-0.836507</td>\n      <td>0.093550</td>\n    </tr>\n    <tr>\n      <th>3</th>\n      <td>(17.0,20.0)</td>\n      <td>0.132056</td>\n      <td>0.229108</td>\n      <td>-0.550966</td>\n      <td>0.053472</td>\n    </tr>\n    <tr>\n      <th>2</th>\n      <td>(15.0,17.0)</td>\n      <td>0.140761</td>\n      <td>0.180781</td>\n      <td>-0.250225</td>\n      <td>0.010014</td>\n    </tr>\n    <tr>\n      <th>1</th>\n      <td>(12.0,15.0)</td>\n      <td>0.291261</td>\n      <td>0.251055</td>\n      <td>0.148548</td>\n      <td>0.005972</td>\n    </tr>\n    <tr>\n      <th>6</th>\n      <td>(9.0,12.0)</td>\n      <td>0.189565</td>\n      <td>0.097105</td>\n      <td>0.668943</td>\n      <td>0.061851</td>\n    </tr>\n    <tr>\n      <th>0</th>\n      <td>(-inf,6.0)</td>\n      <td>0.000159</td>\n      <td>0.000053</td>\n      <td>1.098612</td>\n      <td>0.000117</td>\n    </tr>\n    <tr>\n      <th>5</th>\n      <td>(6.0,9.0)</td>\n      <td>0.160718</td>\n      <td>0.044585</td>\n      <td>1.282256</td>\n      <td>0.148912</td>\n    </tr>\n  </tbody>\n</table>\n</div>"
     },
     "execution_count": 17,
     "metadata": {},
     "output_type": "execute_result"
    }
   ],
   "source": [
    "woe_t.woe_mappings[\"int_rate\"]"
   ],
   "metadata": {
    "collapsed": false,
    "ExecuteTime": {
     "start_time": "2023-04-23T21:04:13.135816Z",
     "end_time": "2023-04-23T21:04:13.286883Z"
    }
   }
  },
  {
   "cell_type": "code",
   "execution_count": 18,
   "outputs": [
    {
     "data": {
      "text/plain": "     installment      good       bad       woe  info_val\n4    (948.0,inf)  0.043470  0.051140 -0.162488  0.001246\n2  (486.0,717.0)  0.231629  0.248587 -0.070657  0.001198\n1  (254.0,486.0)  0.410393  0.420371 -0.024024  0.000240\n3  (717.0,948.0)  0.096494  0.097529 -0.010669  0.000011\n0   (23.0,254.0)  0.218014  0.182373  0.178507  0.006362",
      "text/html": "<div>\n<style scoped>\n    .dataframe tbody tr th:only-of-type {\n        vertical-align: middle;\n    }\n\n    .dataframe tbody tr th {\n        vertical-align: top;\n    }\n\n    .dataframe thead th {\n        text-align: right;\n    }\n</style>\n<table border=\"1\" class=\"dataframe\">\n  <thead>\n    <tr style=\"text-align: right;\">\n      <th></th>\n      <th>installment</th>\n      <th>good</th>\n      <th>bad</th>\n      <th>woe</th>\n      <th>info_val</th>\n    </tr>\n  </thead>\n  <tbody>\n    <tr>\n      <th>4</th>\n      <td>(948.0,inf)</td>\n      <td>0.043470</td>\n      <td>0.051140</td>\n      <td>-0.162488</td>\n      <td>0.001246</td>\n    </tr>\n    <tr>\n      <th>2</th>\n      <td>(486.0,717.0)</td>\n      <td>0.231629</td>\n      <td>0.248587</td>\n      <td>-0.070657</td>\n      <td>0.001198</td>\n    </tr>\n    <tr>\n      <th>1</th>\n      <td>(254.0,486.0)</td>\n      <td>0.410393</td>\n      <td>0.420371</td>\n      <td>-0.024024</td>\n      <td>0.000240</td>\n    </tr>\n    <tr>\n      <th>3</th>\n      <td>(717.0,948.0)</td>\n      <td>0.096494</td>\n      <td>0.097529</td>\n      <td>-0.010669</td>\n      <td>0.000011</td>\n    </tr>\n    <tr>\n      <th>0</th>\n      <td>(23.0,254.0)</td>\n      <td>0.218014</td>\n      <td>0.182373</td>\n      <td>0.178507</td>\n      <td>0.006362</td>\n    </tr>\n  </tbody>\n</table>\n</div>"
     },
     "execution_count": 18,
     "metadata": {},
     "output_type": "execute_result"
    }
   ],
   "source": [
    "woe_t.woe_mappings[\"installment\"]"
   ],
   "metadata": {
    "collapsed": false,
    "ExecuteTime": {
     "start_time": "2023-04-23T21:04:13.153028Z",
     "end_time": "2023-04-23T21:04:13.320889Z"
    }
   }
  },
  {
   "cell_type": "code",
   "execution_count": 19,
   "outputs": [
    {
     "data": {
      "text/plain": "            annual_inc      good       bad       woe  info_val\n4    (7000.0,178500.0)  0.969958  0.981423 -0.011750  0.000135\n0  (178500.0,350000.0)  0.026751  0.016932  0.457385  0.004491\n2  (521500.0,693000.0)  0.000478  0.000292  0.492476  0.000091\n1  (350000.0,521500.0)  0.002282  0.001141  0.693147  0.000791\n3       (693000.0,inf)  0.000531  0.000212  0.916291  0.000292",
      "text/html": "<div>\n<style scoped>\n    .dataframe tbody tr th:only-of-type {\n        vertical-align: middle;\n    }\n\n    .dataframe tbody tr th {\n        vertical-align: top;\n    }\n\n    .dataframe thead th {\n        text-align: right;\n    }\n</style>\n<table border=\"1\" class=\"dataframe\">\n  <thead>\n    <tr style=\"text-align: right;\">\n      <th></th>\n      <th>annual_inc</th>\n      <th>good</th>\n      <th>bad</th>\n      <th>woe</th>\n      <th>info_val</th>\n    </tr>\n  </thead>\n  <tbody>\n    <tr>\n      <th>4</th>\n      <td>(7000.0,178500.0)</td>\n      <td>0.969958</td>\n      <td>0.981423</td>\n      <td>-0.011750</td>\n      <td>0.000135</td>\n    </tr>\n    <tr>\n      <th>0</th>\n      <td>(178500.0,350000.0)</td>\n      <td>0.026751</td>\n      <td>0.016932</td>\n      <td>0.457385</td>\n      <td>0.004491</td>\n    </tr>\n    <tr>\n      <th>2</th>\n      <td>(521500.0,693000.0)</td>\n      <td>0.000478</td>\n      <td>0.000292</td>\n      <td>0.492476</td>\n      <td>0.000091</td>\n    </tr>\n    <tr>\n      <th>1</th>\n      <td>(350000.0,521500.0)</td>\n      <td>0.002282</td>\n      <td>0.001141</td>\n      <td>0.693147</td>\n      <td>0.000791</td>\n    </tr>\n    <tr>\n      <th>3</th>\n      <td>(693000.0,inf)</td>\n      <td>0.000531</td>\n      <td>0.000212</td>\n      <td>0.916291</td>\n      <td>0.000292</td>\n    </tr>\n  </tbody>\n</table>\n</div>"
     },
     "execution_count": 19,
     "metadata": {},
     "output_type": "execute_result"
    }
   ],
   "source": [
    "woe_t.woe_mappings[\"annual_inc\"]"
   ],
   "metadata": {
    "collapsed": false,
    "ExecuteTime": {
     "start_time": "2023-04-23T21:04:13.166900Z",
     "end_time": "2023-04-23T21:04:13.320889Z"
    }
   }
  },
  {
   "cell_type": "code",
   "execution_count": 20,
   "outputs": [
    {
     "data": {
      "text/plain": "           dti      good       bad       woe  info_val\n3   (27.0,inf)  0.132799  0.174836 -0.275012  0.011561\n2  (20.0,27.0)  0.241634  0.280778 -0.150142  0.005877\n1  (13.0,20.0)  0.316472  0.303840  0.040735  0.000515\n5   (7.0,13.0)  0.221517  0.176110  0.229393  0.010416\n0   (-inf,3.0)  0.016135  0.011969  0.298708  0.001245\n4    (3.0,7.0)  0.071442  0.052467  0.308704  0.005858",
      "text/html": "<div>\n<style scoped>\n    .dataframe tbody tr th:only-of-type {\n        vertical-align: middle;\n    }\n\n    .dataframe tbody tr th {\n        vertical-align: top;\n    }\n\n    .dataframe thead th {\n        text-align: right;\n    }\n</style>\n<table border=\"1\" class=\"dataframe\">\n  <thead>\n    <tr style=\"text-align: right;\">\n      <th></th>\n      <th>dti</th>\n      <th>good</th>\n      <th>bad</th>\n      <th>woe</th>\n      <th>info_val</th>\n    </tr>\n  </thead>\n  <tbody>\n    <tr>\n      <th>3</th>\n      <td>(27.0,inf)</td>\n      <td>0.132799</td>\n      <td>0.174836</td>\n      <td>-0.275012</td>\n      <td>0.011561</td>\n    </tr>\n    <tr>\n      <th>2</th>\n      <td>(20.0,27.0)</td>\n      <td>0.241634</td>\n      <td>0.280778</td>\n      <td>-0.150142</td>\n      <td>0.005877</td>\n    </tr>\n    <tr>\n      <th>1</th>\n      <td>(13.0,20.0)</td>\n      <td>0.316472</td>\n      <td>0.303840</td>\n      <td>0.040735</td>\n      <td>0.000515</td>\n    </tr>\n    <tr>\n      <th>5</th>\n      <td>(7.0,13.0)</td>\n      <td>0.221517</td>\n      <td>0.176110</td>\n      <td>0.229393</td>\n      <td>0.010416</td>\n    </tr>\n    <tr>\n      <th>0</th>\n      <td>(-inf,3.0)</td>\n      <td>0.016135</td>\n      <td>0.011969</td>\n      <td>0.298708</td>\n      <td>0.001245</td>\n    </tr>\n    <tr>\n      <th>4</th>\n      <td>(3.0,7.0)</td>\n      <td>0.071442</td>\n      <td>0.052467</td>\n      <td>0.308704</td>\n      <td>0.005858</td>\n    </tr>\n  </tbody>\n</table>\n</div>"
     },
     "execution_count": 20,
     "metadata": {},
     "output_type": "execute_result"
    }
   ],
   "source": [
    "woe_t.woe_mappings[\"dti\"]"
   ],
   "metadata": {
    "collapsed": false,
    "ExecuteTime": {
     "start_time": "2023-04-23T21:04:13.182002Z",
     "end_time": "2023-04-23T21:04:13.321891Z"
    }
   }
  },
  {
   "cell_type": "code",
   "execution_count": 20,
   "outputs": [],
   "source": [],
   "metadata": {
    "collapsed": false,
    "ExecuteTime": {
     "start_time": "2023-04-23T21:04:13.196377Z",
     "end_time": "2023-04-23T21:04:13.321891Z"
    }
   }
  }
 ],
 "metadata": {
  "kernelspec": {
   "display_name": "Python 3",
   "language": "python",
   "name": "python3"
  },
  "language_info": {
   "codemirror_mode": {
    "name": "ipython",
    "version": 2
   },
   "file_extension": ".py",
   "mimetype": "text/x-python",
   "name": "python",
   "nbconvert_exporter": "python",
   "pygments_lexer": "ipython2",
   "version": "2.7.6"
  }
 },
 "nbformat": 4,
 "nbformat_minor": 0
}
