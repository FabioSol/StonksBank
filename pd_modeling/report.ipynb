{
 "cells": [
  {
   "cell_type": "code",
   "execution_count": 16,
   "metadata": {
    "collapsed": true,
    "ExecuteTime": {
     "start_time": "2023-04-23T19:28:40.906521Z",
     "end_time": "2023-04-23T19:28:40.939031Z"
    }
   },
   "outputs": [],
   "source": [
    "import numpy as np\n",
    "import pandas as pd\n",
    "import datetime\n",
    "from sklearn.utils import resample\n",
    "from typing import Dict\n",
    "from transformers.columnSelectorTransformer import ColumnSelectorTransformer\n",
    "from transformers.woeTransformer import WOETransformer\n",
    "from transformers.binningTransformer import BinningTransformer"
   ]
  },
  {
   "cell_type": "code",
   "execution_count": 17,
   "outputs": [],
   "source": [
    "from pd_modeling.bins import bins"
   ],
   "metadata": {
    "collapsed": false,
    "ExecuteTime": {
     "start_time": "2023-04-23T19:28:45.118657Z",
     "end_time": "2023-04-23T19:28:45.125814Z"
    }
   }
  },
  {
   "cell_type": "code",
   "execution_count": 3,
   "outputs": [],
   "source": [
    "dataset = pd.read_csv('../files/credit_risk_data_v2.csv', low_memory=False)"
   ],
   "metadata": {
    "collapsed": false,
    "ExecuteTime": {
     "start_time": "2023-04-23T19:26:04.300254Z",
     "end_time": "2023-04-23T19:26:16.491944Z"
    }
   }
  },
  {
   "cell_type": "code",
   "execution_count": 18,
   "outputs": [],
   "source": [
    "cols_to_keep = ['loan_amnt', 'funded_amnt', 'term', 'int_rate',\n",
    "       'installment', 'grade', 'sub_grade', 'emp_length', 'home_ownership',\n",
    "       'annual_inc', 'verification_status', 'purpose',\n",
    "       'addr_state', 'dti', 'revol_bal',\n",
    "       'revol_util', 'total_acc', 'initial_list_status', 'out_prncp',\n",
    "       'total_pymnt', 'total_rec_prncp',\n",
    "       'total_rec_int', 'total_rec_late_fee', 'recoveries',\n",
    "       'collection_recovery_fee', 'last_pymnt_amnt',\n",
    "       'tot_coll_amt',\n",
    "       'tot_cur_bal', 'total_rev_hi_lim', 'status']"
   ],
   "metadata": {
    "collapsed": false,
    "ExecuteTime": {
     "start_time": "2023-04-23T19:28:48.745474Z",
     "end_time": "2023-04-23T19:28:48.820025Z"
    }
   }
  },
  {
   "cell_type": "code",
   "execution_count": 19,
   "outputs": [],
   "source": [
    "column_t = ColumnSelectorTransformer(columns=cols_to_keep)\n",
    "binning_t = BinningTransformer(bins=bins)\n",
    "woe_t = WOETransformer(columns=cols_to_keep)"
   ],
   "metadata": {
    "collapsed": false,
    "ExecuteTime": {
     "start_time": "2023-04-23T19:28:49.928971Z",
     "end_time": "2023-04-23T19:28:49.962494Z"
    }
   }
  },
  {
   "cell_type": "code",
   "execution_count": 20,
   "outputs": [
    {
     "data": {
      "text/plain": "   loan_amnt  funded_amnt        term  int_rate  installment grade sub_grade   \n0       5000         5000   36 months     10.65       162.87     B        B2  \\\n1       2500         2500   60 months     15.27        59.83     C        C4   \n2       2400         2400   36 months     15.96        84.33     C        C5   \n3      10000        10000   36 months     13.49       339.31     C        C1   \n4       3000         3000   60 months     12.69        67.79     B        B5   \n\n  emp_length home_ownership  annual_inc  ... total_rec_prncp total_rec_int   \n0  10+ years           RENT     24000.0  ...         5000.00        861.07  \\\n1   < 1 year           RENT     30000.0  ...          456.46        435.17   \n2  10+ years           RENT     12252.0  ...         2400.00        603.65   \n3  10+ years           RENT     49200.0  ...        10000.00       2209.33   \n4     1 year           RENT     80000.0  ...         2233.10       1009.07   \n\n  total_rec_late_fee  recoveries  collection_recovery_fee  last_pymnt_amnt   \n0               0.00        0.00                     0.00           171.62  \\\n1               0.00      117.08                     1.11           119.66   \n2               0.00        0.00                     0.00           649.91   \n3              16.97        0.00                     0.00           357.48   \n4               0.00        0.00                     0.00            67.79   \n\n   tot_coll_amt tot_cur_bal  total_rev_hi_lim  status  \n0           NaN         NaN               NaN       0  \n1           NaN         NaN               NaN       1  \n2           NaN         NaN               NaN       0  \n3           NaN         NaN               NaN       0  \n4           NaN         NaN               NaN       0  \n\n[5 rows x 30 columns]",
      "text/html": "<div>\n<style scoped>\n    .dataframe tbody tr th:only-of-type {\n        vertical-align: middle;\n    }\n\n    .dataframe tbody tr th {\n        vertical-align: top;\n    }\n\n    .dataframe thead th {\n        text-align: right;\n    }\n</style>\n<table border=\"1\" class=\"dataframe\">\n  <thead>\n    <tr style=\"text-align: right;\">\n      <th></th>\n      <th>loan_amnt</th>\n      <th>funded_amnt</th>\n      <th>term</th>\n      <th>int_rate</th>\n      <th>installment</th>\n      <th>grade</th>\n      <th>sub_grade</th>\n      <th>emp_length</th>\n      <th>home_ownership</th>\n      <th>annual_inc</th>\n      <th>...</th>\n      <th>total_rec_prncp</th>\n      <th>total_rec_int</th>\n      <th>total_rec_late_fee</th>\n      <th>recoveries</th>\n      <th>collection_recovery_fee</th>\n      <th>last_pymnt_amnt</th>\n      <th>tot_coll_amt</th>\n      <th>tot_cur_bal</th>\n      <th>total_rev_hi_lim</th>\n      <th>status</th>\n    </tr>\n  </thead>\n  <tbody>\n    <tr>\n      <th>0</th>\n      <td>5000</td>\n      <td>5000</td>\n      <td>36 months</td>\n      <td>10.65</td>\n      <td>162.87</td>\n      <td>B</td>\n      <td>B2</td>\n      <td>10+ years</td>\n      <td>RENT</td>\n      <td>24000.0</td>\n      <td>...</td>\n      <td>5000.00</td>\n      <td>861.07</td>\n      <td>0.00</td>\n      <td>0.00</td>\n      <td>0.00</td>\n      <td>171.62</td>\n      <td>NaN</td>\n      <td>NaN</td>\n      <td>NaN</td>\n      <td>0</td>\n    </tr>\n    <tr>\n      <th>1</th>\n      <td>2500</td>\n      <td>2500</td>\n      <td>60 months</td>\n      <td>15.27</td>\n      <td>59.83</td>\n      <td>C</td>\n      <td>C4</td>\n      <td>&lt; 1 year</td>\n      <td>RENT</td>\n      <td>30000.0</td>\n      <td>...</td>\n      <td>456.46</td>\n      <td>435.17</td>\n      <td>0.00</td>\n      <td>117.08</td>\n      <td>1.11</td>\n      <td>119.66</td>\n      <td>NaN</td>\n      <td>NaN</td>\n      <td>NaN</td>\n      <td>1</td>\n    </tr>\n    <tr>\n      <th>2</th>\n      <td>2400</td>\n      <td>2400</td>\n      <td>36 months</td>\n      <td>15.96</td>\n      <td>84.33</td>\n      <td>C</td>\n      <td>C5</td>\n      <td>10+ years</td>\n      <td>RENT</td>\n      <td>12252.0</td>\n      <td>...</td>\n      <td>2400.00</td>\n      <td>603.65</td>\n      <td>0.00</td>\n      <td>0.00</td>\n      <td>0.00</td>\n      <td>649.91</td>\n      <td>NaN</td>\n      <td>NaN</td>\n      <td>NaN</td>\n      <td>0</td>\n    </tr>\n    <tr>\n      <th>3</th>\n      <td>10000</td>\n      <td>10000</td>\n      <td>36 months</td>\n      <td>13.49</td>\n      <td>339.31</td>\n      <td>C</td>\n      <td>C1</td>\n      <td>10+ years</td>\n      <td>RENT</td>\n      <td>49200.0</td>\n      <td>...</td>\n      <td>10000.00</td>\n      <td>2209.33</td>\n      <td>16.97</td>\n      <td>0.00</td>\n      <td>0.00</td>\n      <td>357.48</td>\n      <td>NaN</td>\n      <td>NaN</td>\n      <td>NaN</td>\n      <td>0</td>\n    </tr>\n    <tr>\n      <th>4</th>\n      <td>3000</td>\n      <td>3000</td>\n      <td>60 months</td>\n      <td>12.69</td>\n      <td>67.79</td>\n      <td>B</td>\n      <td>B5</td>\n      <td>1 year</td>\n      <td>RENT</td>\n      <td>80000.0</td>\n      <td>...</td>\n      <td>2233.10</td>\n      <td>1009.07</td>\n      <td>0.00</td>\n      <td>0.00</td>\n      <td>0.00</td>\n      <td>67.79</td>\n      <td>NaN</td>\n      <td>NaN</td>\n      <td>NaN</td>\n      <td>0</td>\n    </tr>\n  </tbody>\n</table>\n<p>5 rows × 30 columns</p>\n</div>"
     },
     "execution_count": 20,
     "metadata": {},
     "output_type": "execute_result"
    }
   ],
   "source": [
    "dataset_c = column_t.transform(dataset)\n",
    "dataset_c.head()"
   ],
   "metadata": {
    "collapsed": false,
    "ExecuteTime": {
     "start_time": "2023-04-23T19:28:51.570896Z",
     "end_time": "2023-04-23T19:28:51.880235Z"
    }
   }
  },
  {
   "cell_type": "code",
   "execution_count": 21,
   "outputs": [
    {
     "data": {
      "text/plain": "   loan_amnt  funded_amnt        term  int_rate  installment grade sub_grade   \n0      27050        27050   36 months     10.99       885.46     B        B2  \\\n1       9750         9750   36 months     13.98       333.14     C        C1   \n2      12000        12000   36 months      6.62       368.45     A        A2   \n3      12000        12000   36 months     13.53       407.40     B        B5   \n4      15000        15000   36 months      8.90       476.30     A        A5   \n\n  emp_length home_ownership  annual_inc  ... total_rec_prncp total_rec_int   \n0  10+ years            OWN     55000.0  ...        17031.10       4219.94  \\\n1     1 year           RENT     26000.0  ...         6039.04       1955.79   \n2  10+ years       MORTGAGE    105000.0  ...         7733.38       1109.42   \n3  10+ years           RENT     40000.0  ...        11999.99       1359.78   \n4    2 years       MORTGAGE     63000.0  ...         9550.73       1880.47   \n\n  total_rec_late_fee  recoveries  collection_recovery_fee  last_pymnt_amnt   \n0                0.0         0.0                      0.0           885.46  \\\n1                0.0         0.0                      0.0           333.14   \n2                0.0         0.0                      0.0           368.45   \n3                0.0         0.0                      0.0           119.17   \n4                0.0         0.0                      0.0           476.30   \n\n   tot_coll_amt tot_cur_bal  total_rev_hi_lim  status  \n0           0.0    114834.0           59900.0       0  \n1           0.0     14123.0           15100.0       0  \n2           0.0    267646.0           61100.0       0  \n3       15386.0     13605.0            8100.0       0  \n4        1514.0    272492.0           15400.0       0  \n\n[5 rows x 30 columns]",
      "text/html": "<div>\n<style scoped>\n    .dataframe tbody tr th:only-of-type {\n        vertical-align: middle;\n    }\n\n    .dataframe tbody tr th {\n        vertical-align: top;\n    }\n\n    .dataframe thead th {\n        text-align: right;\n    }\n</style>\n<table border=\"1\" class=\"dataframe\">\n  <thead>\n    <tr style=\"text-align: right;\">\n      <th></th>\n      <th>loan_amnt</th>\n      <th>funded_amnt</th>\n      <th>term</th>\n      <th>int_rate</th>\n      <th>installment</th>\n      <th>grade</th>\n      <th>sub_grade</th>\n      <th>emp_length</th>\n      <th>home_ownership</th>\n      <th>annual_inc</th>\n      <th>...</th>\n      <th>total_rec_prncp</th>\n      <th>total_rec_int</th>\n      <th>total_rec_late_fee</th>\n      <th>recoveries</th>\n      <th>collection_recovery_fee</th>\n      <th>last_pymnt_amnt</th>\n      <th>tot_coll_amt</th>\n      <th>tot_cur_bal</th>\n      <th>total_rev_hi_lim</th>\n      <th>status</th>\n    </tr>\n  </thead>\n  <tbody>\n    <tr>\n      <th>0</th>\n      <td>27050</td>\n      <td>27050</td>\n      <td>36 months</td>\n      <td>10.99</td>\n      <td>885.46</td>\n      <td>B</td>\n      <td>B2</td>\n      <td>10+ years</td>\n      <td>OWN</td>\n      <td>55000.0</td>\n      <td>...</td>\n      <td>17031.10</td>\n      <td>4219.94</td>\n      <td>0.0</td>\n      <td>0.0</td>\n      <td>0.0</td>\n      <td>885.46</td>\n      <td>0.0</td>\n      <td>114834.0</td>\n      <td>59900.0</td>\n      <td>0</td>\n    </tr>\n    <tr>\n      <th>1</th>\n      <td>9750</td>\n      <td>9750</td>\n      <td>36 months</td>\n      <td>13.98</td>\n      <td>333.14</td>\n      <td>C</td>\n      <td>C1</td>\n      <td>1 year</td>\n      <td>RENT</td>\n      <td>26000.0</td>\n      <td>...</td>\n      <td>6039.04</td>\n      <td>1955.79</td>\n      <td>0.0</td>\n      <td>0.0</td>\n      <td>0.0</td>\n      <td>333.14</td>\n      <td>0.0</td>\n      <td>14123.0</td>\n      <td>15100.0</td>\n      <td>0</td>\n    </tr>\n    <tr>\n      <th>2</th>\n      <td>12000</td>\n      <td>12000</td>\n      <td>36 months</td>\n      <td>6.62</td>\n      <td>368.45</td>\n      <td>A</td>\n      <td>A2</td>\n      <td>10+ years</td>\n      <td>MORTGAGE</td>\n      <td>105000.0</td>\n      <td>...</td>\n      <td>7733.38</td>\n      <td>1109.42</td>\n      <td>0.0</td>\n      <td>0.0</td>\n      <td>0.0</td>\n      <td>368.45</td>\n      <td>0.0</td>\n      <td>267646.0</td>\n      <td>61100.0</td>\n      <td>0</td>\n    </tr>\n    <tr>\n      <th>3</th>\n      <td>12000</td>\n      <td>12000</td>\n      <td>36 months</td>\n      <td>13.53</td>\n      <td>407.40</td>\n      <td>B</td>\n      <td>B5</td>\n      <td>10+ years</td>\n      <td>RENT</td>\n      <td>40000.0</td>\n      <td>...</td>\n      <td>11999.99</td>\n      <td>1359.78</td>\n      <td>0.0</td>\n      <td>0.0</td>\n      <td>0.0</td>\n      <td>119.17</td>\n      <td>15386.0</td>\n      <td>13605.0</td>\n      <td>8100.0</td>\n      <td>0</td>\n    </tr>\n    <tr>\n      <th>4</th>\n      <td>15000</td>\n      <td>15000</td>\n      <td>36 months</td>\n      <td>8.90</td>\n      <td>476.30</td>\n      <td>A</td>\n      <td>A5</td>\n      <td>2 years</td>\n      <td>MORTGAGE</td>\n      <td>63000.0</td>\n      <td>...</td>\n      <td>9550.73</td>\n      <td>1880.47</td>\n      <td>0.0</td>\n      <td>0.0</td>\n      <td>0.0</td>\n      <td>476.30</td>\n      <td>1514.0</td>\n      <td>272492.0</td>\n      <td>15400.0</td>\n      <td>0</td>\n    </tr>\n  </tbody>\n</table>\n<p>5 rows × 30 columns</p>\n</div>"
     },
     "execution_count": 21,
     "metadata": {},
     "output_type": "execute_result"
    }
   ],
   "source": [
    "dataset_c = column_t.clean(X=dataset_c).reset_index(drop=True)\n",
    "dataset_c.head()"
   ],
   "metadata": {
    "collapsed": false,
    "ExecuteTime": {
     "start_time": "2023-04-23T19:28:53.336614Z",
     "end_time": "2023-04-23T19:28:55.091697Z"
    }
   }
  },
  {
   "cell_type": "code",
   "execution_count": 22,
   "outputs": [
    {
     "data": {
      "text/plain": "   loan_amnt  funded_amnt        term  int_rate  installment grade sub_grade   \n0      10000        10000   36 months      8.90       317.54     A        A5  \\\n1       4500         4500   36 months     11.99       149.45     B        B5   \n2      20000        20000   36 months      6.03       608.72     A        A1   \n3      25000        25000   60 months     19.24       651.82     E        E2   \n4      21200        21200   60 months     20.49       567.47     E        E1   \n\n  emp_length home_ownership  annual_inc  ... total_rec_prncp total_rec_int   \n0    9 years           RENT     43000.0  ...         8445.26       1395.84  \\\n1     1 year       MORTGAGE    115000.0  ...         4500.00        171.91   \n2    2 years       MORTGAGE     81000.0  ...         7897.38       1233.42   \n3  10+ years           RENT    106000.0  ...         3898.07       5187.33   \n4  10+ years       MORTGAGE     60000.0  ...        21200.00      10121.38   \n\n  total_rec_late_fee  recoveries  collection_recovery_fee  last_pymnt_amnt   \n0               0.00         0.0                      0.0           317.54  \\\n1               0.00         0.0                      0.0          4226.56   \n2               0.00         0.0                      0.0           608.72   \n3              32.59         0.0                      0.0           651.82   \n4               0.00         0.0                      0.0         12598.44   \n\n   tot_coll_amt tot_cur_bal  total_rev_hi_lim  status  \n0           0.0     14241.0           39000.0       0  \n1           0.0    190853.0           28800.0       0  \n2           0.0    181077.0           25600.0       0  \n3           0.0    279138.0           43800.0       0  \n4           0.0    235556.0           56400.0       0  \n\n[5 rows x 30 columns]",
      "text/html": "<div>\n<style scoped>\n    .dataframe tbody tr th:only-of-type {\n        vertical-align: middle;\n    }\n\n    .dataframe tbody tr th {\n        vertical-align: top;\n    }\n\n    .dataframe thead th {\n        text-align: right;\n    }\n</style>\n<table border=\"1\" class=\"dataframe\">\n  <thead>\n    <tr style=\"text-align: right;\">\n      <th></th>\n      <th>loan_amnt</th>\n      <th>funded_amnt</th>\n      <th>term</th>\n      <th>int_rate</th>\n      <th>installment</th>\n      <th>grade</th>\n      <th>sub_grade</th>\n      <th>emp_length</th>\n      <th>home_ownership</th>\n      <th>annual_inc</th>\n      <th>...</th>\n      <th>total_rec_prncp</th>\n      <th>total_rec_int</th>\n      <th>total_rec_late_fee</th>\n      <th>recoveries</th>\n      <th>collection_recovery_fee</th>\n      <th>last_pymnt_amnt</th>\n      <th>tot_coll_amt</th>\n      <th>tot_cur_bal</th>\n      <th>total_rev_hi_lim</th>\n      <th>status</th>\n    </tr>\n  </thead>\n  <tbody>\n    <tr>\n      <th>0</th>\n      <td>10000</td>\n      <td>10000</td>\n      <td>36 months</td>\n      <td>8.90</td>\n      <td>317.54</td>\n      <td>A</td>\n      <td>A5</td>\n      <td>9 years</td>\n      <td>RENT</td>\n      <td>43000.0</td>\n      <td>...</td>\n      <td>8445.26</td>\n      <td>1395.84</td>\n      <td>0.00</td>\n      <td>0.0</td>\n      <td>0.0</td>\n      <td>317.54</td>\n      <td>0.0</td>\n      <td>14241.0</td>\n      <td>39000.0</td>\n      <td>0</td>\n    </tr>\n    <tr>\n      <th>1</th>\n      <td>4500</td>\n      <td>4500</td>\n      <td>36 months</td>\n      <td>11.99</td>\n      <td>149.45</td>\n      <td>B</td>\n      <td>B5</td>\n      <td>1 year</td>\n      <td>MORTGAGE</td>\n      <td>115000.0</td>\n      <td>...</td>\n      <td>4500.00</td>\n      <td>171.91</td>\n      <td>0.00</td>\n      <td>0.0</td>\n      <td>0.0</td>\n      <td>4226.56</td>\n      <td>0.0</td>\n      <td>190853.0</td>\n      <td>28800.0</td>\n      <td>0</td>\n    </tr>\n    <tr>\n      <th>2</th>\n      <td>20000</td>\n      <td>20000</td>\n      <td>36 months</td>\n      <td>6.03</td>\n      <td>608.72</td>\n      <td>A</td>\n      <td>A1</td>\n      <td>2 years</td>\n      <td>MORTGAGE</td>\n      <td>81000.0</td>\n      <td>...</td>\n      <td>7897.38</td>\n      <td>1233.42</td>\n      <td>0.00</td>\n      <td>0.0</td>\n      <td>0.0</td>\n      <td>608.72</td>\n      <td>0.0</td>\n      <td>181077.0</td>\n      <td>25600.0</td>\n      <td>0</td>\n    </tr>\n    <tr>\n      <th>3</th>\n      <td>25000</td>\n      <td>25000</td>\n      <td>60 months</td>\n      <td>19.24</td>\n      <td>651.82</td>\n      <td>E</td>\n      <td>E2</td>\n      <td>10+ years</td>\n      <td>RENT</td>\n      <td>106000.0</td>\n      <td>...</td>\n      <td>3898.07</td>\n      <td>5187.33</td>\n      <td>32.59</td>\n      <td>0.0</td>\n      <td>0.0</td>\n      <td>651.82</td>\n      <td>0.0</td>\n      <td>279138.0</td>\n      <td>43800.0</td>\n      <td>0</td>\n    </tr>\n    <tr>\n      <th>4</th>\n      <td>21200</td>\n      <td>21200</td>\n      <td>60 months</td>\n      <td>20.49</td>\n      <td>567.47</td>\n      <td>E</td>\n      <td>E1</td>\n      <td>10+ years</td>\n      <td>MORTGAGE</td>\n      <td>60000.0</td>\n      <td>...</td>\n      <td>21200.00</td>\n      <td>10121.38</td>\n      <td>0.00</td>\n      <td>0.0</td>\n      <td>0.0</td>\n      <td>12598.44</td>\n      <td>0.0</td>\n      <td>235556.0</td>\n      <td>56400.0</td>\n      <td>0</td>\n    </tr>\n  </tbody>\n</table>\n<p>5 rows × 30 columns</p>\n</div>"
     },
     "execution_count": 22,
     "metadata": {},
     "output_type": "execute_result"
    }
   ],
   "source": [
    "dataset_c = column_t.undersampling(X=dataset_c, y='status').reset_index(drop=True)\n",
    "dataset_c.head()"
   ],
   "metadata": {
    "collapsed": false,
    "ExecuteTime": {
     "start_time": "2023-04-23T19:29:14.453258Z",
     "end_time": "2023-04-23T19:29:14.848113Z"
    }
   }
  },
  {
   "cell_type": "code",
   "execution_count": 23,
   "outputs": [
    {
     "name": "stdout",
     "output_type": "stream",
     "text": [
      "<class 'pandas.core.frame.DataFrame'>\n",
      "RangeIndex: 75366 entries, 0 to 75365\n",
      "Data columns (total 30 columns):\n",
      " #   Column                   Non-Null Count  Dtype  \n",
      "---  ------                   --------------  -----  \n",
      " 0   loan_amnt                75366 non-null  int64  \n",
      " 1   funded_amnt              75366 non-null  int64  \n",
      " 2   term                     75366 non-null  object \n",
      " 3   int_rate                 75366 non-null  float64\n",
      " 4   installment              75366 non-null  float64\n",
      " 5   grade                    75366 non-null  object \n",
      " 6   sub_grade                75366 non-null  object \n",
      " 7   emp_length               75366 non-null  object \n",
      " 8   home_ownership           75366 non-null  object \n",
      " 9   annual_inc               75366 non-null  float64\n",
      " 10  verification_status      75366 non-null  object \n",
      " 11  purpose                  75366 non-null  object \n",
      " 12  addr_state               75366 non-null  object \n",
      " 13  dti                      75366 non-null  float64\n",
      " 14  revol_bal                75366 non-null  int64  \n",
      " 15  revol_util               75366 non-null  float64\n",
      " 16  total_acc                75366 non-null  float64\n",
      " 17  initial_list_status      75366 non-null  object \n",
      " 18  out_prncp                75366 non-null  float64\n",
      " 19  total_pymnt              75366 non-null  float64\n",
      " 20  total_rec_prncp          75366 non-null  float64\n",
      " 21  total_rec_int            75366 non-null  float64\n",
      " 22  total_rec_late_fee       75366 non-null  float64\n",
      " 23  recoveries               75366 non-null  float64\n",
      " 24  collection_recovery_fee  75366 non-null  float64\n",
      " 25  last_pymnt_amnt          75366 non-null  float64\n",
      " 26  tot_coll_amt             75366 non-null  float64\n",
      " 27  tot_cur_bal              75366 non-null  float64\n",
      " 28  total_rev_hi_lim         75366 non-null  float64\n",
      " 29  status                   75366 non-null  int64  \n",
      "dtypes: float64(17), int64(4), object(9)\n",
      "memory usage: 17.3+ MB\n"
     ]
    }
   ],
   "source": [
    "dataset_c.info()"
   ],
   "metadata": {
    "collapsed": false,
    "ExecuteTime": {
     "start_time": "2023-04-23T19:29:30.858772Z",
     "end_time": "2023-04-23T19:29:30.981708Z"
    }
   }
  },
  {
   "cell_type": "code",
   "execution_count": 24,
   "outputs": [],
   "source": [],
   "metadata": {
    "collapsed": false,
    "ExecuteTime": {
     "start_time": "2023-04-23T19:30:27.882360Z",
     "end_time": "2023-04-23T19:30:27.914846Z"
    }
   }
  },
  {
   "cell_type": "code",
   "execution_count": 26,
   "outputs": [
    {
     "data": {
      "text/plain": "   loan_amnt  funded_amnt        term  int_rate  installment grade sub_grade   \n0      10000        10000   36 months      8.90       317.54     A        A5  \\\n1       4500         4500   36 months     11.99       149.45     B        B5   \n2      20000        20000   36 months      6.03       608.72     A        A1   \n3      25000        25000   60 months     19.24       651.82     E        E2   \n4      21200        21200   60 months     20.49       567.47     E        E1   \n\n  emp_length home_ownership  annual_inc  ...  total_pymnt total_rec_prncp   \n0    9 years           RENT     43000.0  ...   9841.10000         8445.26  \\\n1     1 year       MORTGAGE    115000.0  ...   4671.91000         4500.00   \n2    2 years       MORTGAGE     81000.0  ...   9130.80000         7897.38   \n3  10+ years           RENT    106000.0  ...   9117.99000         3898.07   \n4  10+ years       MORTGAGE     60000.0  ...  31321.37529        21200.00   \n\n  total_rec_int  total_rec_late_fee  recoveries  collection_recovery_fee   \n0       1395.84                0.00         0.0                      0.0  \\\n1        171.91                0.00         0.0                      0.0   \n2       1233.42                0.00         0.0                      0.0   \n3       5187.33               32.59         0.0                      0.0   \n4      10121.38                0.00         0.0                      0.0   \n\n   last_pymnt_amnt tot_coll_amt  tot_cur_bal  total_rev_hi_lim  \n0           317.54          0.0      14241.0           39000.0  \n1          4226.56          0.0     190853.0           28800.0  \n2           608.72          0.0     181077.0           25600.0  \n3           651.82          0.0     279138.0           43800.0  \n4         12598.44          0.0     235556.0           56400.0  \n\n[5 rows x 29 columns]",
      "text/html": "<div>\n<style scoped>\n    .dataframe tbody tr th:only-of-type {\n        vertical-align: middle;\n    }\n\n    .dataframe tbody tr th {\n        vertical-align: top;\n    }\n\n    .dataframe thead th {\n        text-align: right;\n    }\n</style>\n<table border=\"1\" class=\"dataframe\">\n  <thead>\n    <tr style=\"text-align: right;\">\n      <th></th>\n      <th>loan_amnt</th>\n      <th>funded_amnt</th>\n      <th>term</th>\n      <th>int_rate</th>\n      <th>installment</th>\n      <th>grade</th>\n      <th>sub_grade</th>\n      <th>emp_length</th>\n      <th>home_ownership</th>\n      <th>annual_inc</th>\n      <th>...</th>\n      <th>total_pymnt</th>\n      <th>total_rec_prncp</th>\n      <th>total_rec_int</th>\n      <th>total_rec_late_fee</th>\n      <th>recoveries</th>\n      <th>collection_recovery_fee</th>\n      <th>last_pymnt_amnt</th>\n      <th>tot_coll_amt</th>\n      <th>tot_cur_bal</th>\n      <th>total_rev_hi_lim</th>\n    </tr>\n  </thead>\n  <tbody>\n    <tr>\n      <th>0</th>\n      <td>10000</td>\n      <td>10000</td>\n      <td>36 months</td>\n      <td>8.90</td>\n      <td>317.54</td>\n      <td>A</td>\n      <td>A5</td>\n      <td>9 years</td>\n      <td>RENT</td>\n      <td>43000.0</td>\n      <td>...</td>\n      <td>9841.10000</td>\n      <td>8445.26</td>\n      <td>1395.84</td>\n      <td>0.00</td>\n      <td>0.0</td>\n      <td>0.0</td>\n      <td>317.54</td>\n      <td>0.0</td>\n      <td>14241.0</td>\n      <td>39000.0</td>\n    </tr>\n    <tr>\n      <th>1</th>\n      <td>4500</td>\n      <td>4500</td>\n      <td>36 months</td>\n      <td>11.99</td>\n      <td>149.45</td>\n      <td>B</td>\n      <td>B5</td>\n      <td>1 year</td>\n      <td>MORTGAGE</td>\n      <td>115000.0</td>\n      <td>...</td>\n      <td>4671.91000</td>\n      <td>4500.00</td>\n      <td>171.91</td>\n      <td>0.00</td>\n      <td>0.0</td>\n      <td>0.0</td>\n      <td>4226.56</td>\n      <td>0.0</td>\n      <td>190853.0</td>\n      <td>28800.0</td>\n    </tr>\n    <tr>\n      <th>2</th>\n      <td>20000</td>\n      <td>20000</td>\n      <td>36 months</td>\n      <td>6.03</td>\n      <td>608.72</td>\n      <td>A</td>\n      <td>A1</td>\n      <td>2 years</td>\n      <td>MORTGAGE</td>\n      <td>81000.0</td>\n      <td>...</td>\n      <td>9130.80000</td>\n      <td>7897.38</td>\n      <td>1233.42</td>\n      <td>0.00</td>\n      <td>0.0</td>\n      <td>0.0</td>\n      <td>608.72</td>\n      <td>0.0</td>\n      <td>181077.0</td>\n      <td>25600.0</td>\n    </tr>\n    <tr>\n      <th>3</th>\n      <td>25000</td>\n      <td>25000</td>\n      <td>60 months</td>\n      <td>19.24</td>\n      <td>651.82</td>\n      <td>E</td>\n      <td>E2</td>\n      <td>10+ years</td>\n      <td>RENT</td>\n      <td>106000.0</td>\n      <td>...</td>\n      <td>9117.99000</td>\n      <td>3898.07</td>\n      <td>5187.33</td>\n      <td>32.59</td>\n      <td>0.0</td>\n      <td>0.0</td>\n      <td>651.82</td>\n      <td>0.0</td>\n      <td>279138.0</td>\n      <td>43800.0</td>\n    </tr>\n    <tr>\n      <th>4</th>\n      <td>21200</td>\n      <td>21200</td>\n      <td>60 months</td>\n      <td>20.49</td>\n      <td>567.47</td>\n      <td>E</td>\n      <td>E1</td>\n      <td>10+ years</td>\n      <td>MORTGAGE</td>\n      <td>60000.0</td>\n      <td>...</td>\n      <td>31321.37529</td>\n      <td>21200.00</td>\n      <td>10121.38</td>\n      <td>0.00</td>\n      <td>0.0</td>\n      <td>0.0</td>\n      <td>12598.44</td>\n      <td>0.0</td>\n      <td>235556.0</td>\n      <td>56400.0</td>\n    </tr>\n  </tbody>\n</table>\n<p>5 rows × 29 columns</p>\n</div>"
     },
     "execution_count": 26,
     "metadata": {},
     "output_type": "execute_result"
    }
   ],
   "source": [
    "x_train_c = dataset_c.drop(\"status\", axis=1)\n",
    "y_train = dataset_c[\"status\"]\n",
    "x_train_c.head()"
   ],
   "metadata": {
    "collapsed": false,
    "ExecuteTime": {
     "start_time": "2023-04-23T19:30:42.012469Z",
     "end_time": "2023-04-23T19:30:42.087966Z"
    }
   }
  },
  {
   "cell_type": "code",
   "execution_count": 27,
   "outputs": [
    {
     "data": {
      "text/plain": "          loan_amnt        funded_amnt        term     int_rate   \n0  (9500.0,18000.0)   (5857.0,10714.0)   36 months    (6.0,9.0)  \\\n1   (1000.0,9500.0)    (1000.0,5857.0)   36 months   (9.0,12.0)   \n2     (18000.0,inf)  (15571.0,20429.0)   36 months    (6.0,9.0)   \n3     (18000.0,inf)  (20429.0,25286.0)   60 months  (17.0,20.0)   \n4     (18000.0,inf)  (20429.0,25286.0)   60 months   (20.0,inf)   \n\n     installment grade sub_grade emp_length home_ownership         annual_inc   \n0  (254.0,486.0)     A        A5    9 years           RENT  (7000.0,178500.0)  \\\n1   (23.0,254.0)     B        B5     1 year       MORTGAGE  (7000.0,178500.0)   \n2  (486.0,717.0)     A        A1    2 years       MORTGAGE  (7000.0,178500.0)   \n3  (486.0,717.0)     E        E2  10+ years           RENT  (7000.0,178500.0)   \n4  (486.0,717.0)     E        E1  10+ years       MORTGAGE  (7000.0,178500.0)   \n\n   ...    total_pymnt    total_rec_prncp     total_rec_int total_rec_late_fee   \n0  ...  (0.0,13786.0)   (5833.0,11667.0)      (0.0,3069.0)         (-inf,0.0)  \\\n1  ...  (0.0,13786.0)       (0.0,5833.0)      (0.0,3069.0)         (-inf,0.0)   \n2  ...  (0.0,13786.0)   (5833.0,11667.0)      (0.0,3069.0)         (-inf,0.0)   \n3  ...  (0.0,13786.0)       (0.0,5833.0)   (3069.0,6139.0)         (0.0,51.0)   \n4  ...  (27573.0,inf)  (17500.0,23333.0)  (9208.0,12277.0)         (-inf,0.0)   \n\n   recoveries collection_recovery_fee    last_pymnt_amnt tot_coll_amt   \n0  (-inf,0.0)              (-inf,0.0)       (0.0,6007.0)   (-inf,0.0)  \\\n1  (-inf,0.0)              (-inf,0.0)       (0.0,6007.0)   (-inf,0.0)   \n2  (-inf,0.0)              (-inf,0.0)       (0.0,6007.0)   (-inf,0.0)   \n3  (-inf,0.0)              (-inf,0.0)       (0.0,6007.0)   (-inf,0.0)   \n4  (-inf,0.0)              (-inf,0.0)  (12015.0,18022.0)   (-inf,0.0)   \n\n      tot_cur_bal   total_rev_hi_lim  \n0  (0.0,960199.0)  (100.0,1428657.0)  \n1  (0.0,960199.0)  (100.0,1428657.0)  \n2  (0.0,960199.0)  (100.0,1428657.0)  \n3  (0.0,960199.0)  (100.0,1428657.0)  \n4  (0.0,960199.0)  (100.0,1428657.0)  \n\n[5 rows x 29 columns]",
      "text/html": "<div>\n<style scoped>\n    .dataframe tbody tr th:only-of-type {\n        vertical-align: middle;\n    }\n\n    .dataframe tbody tr th {\n        vertical-align: top;\n    }\n\n    .dataframe thead th {\n        text-align: right;\n    }\n</style>\n<table border=\"1\" class=\"dataframe\">\n  <thead>\n    <tr style=\"text-align: right;\">\n      <th></th>\n      <th>loan_amnt</th>\n      <th>funded_amnt</th>\n      <th>term</th>\n      <th>int_rate</th>\n      <th>installment</th>\n      <th>grade</th>\n      <th>sub_grade</th>\n      <th>emp_length</th>\n      <th>home_ownership</th>\n      <th>annual_inc</th>\n      <th>...</th>\n      <th>total_pymnt</th>\n      <th>total_rec_prncp</th>\n      <th>total_rec_int</th>\n      <th>total_rec_late_fee</th>\n      <th>recoveries</th>\n      <th>collection_recovery_fee</th>\n      <th>last_pymnt_amnt</th>\n      <th>tot_coll_amt</th>\n      <th>tot_cur_bal</th>\n      <th>total_rev_hi_lim</th>\n    </tr>\n  </thead>\n  <tbody>\n    <tr>\n      <th>0</th>\n      <td>(9500.0,18000.0)</td>\n      <td>(5857.0,10714.0)</td>\n      <td>36 months</td>\n      <td>(6.0,9.0)</td>\n      <td>(254.0,486.0)</td>\n      <td>A</td>\n      <td>A5</td>\n      <td>9 years</td>\n      <td>RENT</td>\n      <td>(7000.0,178500.0)</td>\n      <td>...</td>\n      <td>(0.0,13786.0)</td>\n      <td>(5833.0,11667.0)</td>\n      <td>(0.0,3069.0)</td>\n      <td>(-inf,0.0)</td>\n      <td>(-inf,0.0)</td>\n      <td>(-inf,0.0)</td>\n      <td>(0.0,6007.0)</td>\n      <td>(-inf,0.0)</td>\n      <td>(0.0,960199.0)</td>\n      <td>(100.0,1428657.0)</td>\n    </tr>\n    <tr>\n      <th>1</th>\n      <td>(1000.0,9500.0)</td>\n      <td>(1000.0,5857.0)</td>\n      <td>36 months</td>\n      <td>(9.0,12.0)</td>\n      <td>(23.0,254.0)</td>\n      <td>B</td>\n      <td>B5</td>\n      <td>1 year</td>\n      <td>MORTGAGE</td>\n      <td>(7000.0,178500.0)</td>\n      <td>...</td>\n      <td>(0.0,13786.0)</td>\n      <td>(0.0,5833.0)</td>\n      <td>(0.0,3069.0)</td>\n      <td>(-inf,0.0)</td>\n      <td>(-inf,0.0)</td>\n      <td>(-inf,0.0)</td>\n      <td>(0.0,6007.0)</td>\n      <td>(-inf,0.0)</td>\n      <td>(0.0,960199.0)</td>\n      <td>(100.0,1428657.0)</td>\n    </tr>\n    <tr>\n      <th>2</th>\n      <td>(18000.0,inf)</td>\n      <td>(15571.0,20429.0)</td>\n      <td>36 months</td>\n      <td>(6.0,9.0)</td>\n      <td>(486.0,717.0)</td>\n      <td>A</td>\n      <td>A1</td>\n      <td>2 years</td>\n      <td>MORTGAGE</td>\n      <td>(7000.0,178500.0)</td>\n      <td>...</td>\n      <td>(0.0,13786.0)</td>\n      <td>(5833.0,11667.0)</td>\n      <td>(0.0,3069.0)</td>\n      <td>(-inf,0.0)</td>\n      <td>(-inf,0.0)</td>\n      <td>(-inf,0.0)</td>\n      <td>(0.0,6007.0)</td>\n      <td>(-inf,0.0)</td>\n      <td>(0.0,960199.0)</td>\n      <td>(100.0,1428657.0)</td>\n    </tr>\n    <tr>\n      <th>3</th>\n      <td>(18000.0,inf)</td>\n      <td>(20429.0,25286.0)</td>\n      <td>60 months</td>\n      <td>(17.0,20.0)</td>\n      <td>(486.0,717.0)</td>\n      <td>E</td>\n      <td>E2</td>\n      <td>10+ years</td>\n      <td>RENT</td>\n      <td>(7000.0,178500.0)</td>\n      <td>...</td>\n      <td>(0.0,13786.0)</td>\n      <td>(0.0,5833.0)</td>\n      <td>(3069.0,6139.0)</td>\n      <td>(0.0,51.0)</td>\n      <td>(-inf,0.0)</td>\n      <td>(-inf,0.0)</td>\n      <td>(0.0,6007.0)</td>\n      <td>(-inf,0.0)</td>\n      <td>(0.0,960199.0)</td>\n      <td>(100.0,1428657.0)</td>\n    </tr>\n    <tr>\n      <th>4</th>\n      <td>(18000.0,inf)</td>\n      <td>(20429.0,25286.0)</td>\n      <td>60 months</td>\n      <td>(20.0,inf)</td>\n      <td>(486.0,717.0)</td>\n      <td>E</td>\n      <td>E1</td>\n      <td>10+ years</td>\n      <td>MORTGAGE</td>\n      <td>(7000.0,178500.0)</td>\n      <td>...</td>\n      <td>(27573.0,inf)</td>\n      <td>(17500.0,23333.0)</td>\n      <td>(9208.0,12277.0)</td>\n      <td>(-inf,0.0)</td>\n      <td>(-inf,0.0)</td>\n      <td>(-inf,0.0)</td>\n      <td>(12015.0,18022.0)</td>\n      <td>(-inf,0.0)</td>\n      <td>(0.0,960199.0)</td>\n      <td>(100.0,1428657.0)</td>\n    </tr>\n  </tbody>\n</table>\n<p>5 rows × 29 columns</p>\n</div>"
     },
     "execution_count": 27,
     "metadata": {},
     "output_type": "execute_result"
    }
   ],
   "source": [
    "x_train_b = binning_t.transform(x_train_c)\n",
    "x_train_b.head()"
   ],
   "metadata": {
    "collapsed": false,
    "ExecuteTime": {
     "start_time": "2023-04-23T19:30:43.272244Z",
     "end_time": "2023-04-23T19:30:44.639849Z"
    }
   }
  },
  {
   "cell_type": "code",
   "execution_count": 28,
   "outputs": [
    {
     "data": {
      "text/plain": "WOETransformer(columns=['loan_amnt', 'funded_amnt', 'term', 'int_rate', 'installment', 'grade', 'sub_grade', 'emp_length', 'home_ownership', 'annual_inc', 'verification_status', 'purpose', 'addr_state', 'dti', 'revol_bal', 'revol_util', 'total_acc', 'initial_list_status', 'out_prncp', 'total_pymnt', 'total_rec_prncp', 'total_rec_int', 'total_rec_late_fee', 'recoveries', 'collection_recovery_fee', 'last_pymnt_amnt', 'tot_coll_amt', 'tot_cur_bal', 'total_rev_hi_lim', 'status'], target_mappings={0: 'good', 1: 'bad'})"
     },
     "execution_count": 28,
     "metadata": {},
     "output_type": "execute_result"
    }
   ],
   "source": [
    "woe_t.fit(x_train_b, y_train)\n"
   ],
   "metadata": {
    "collapsed": false,
    "ExecuteTime": {
     "start_time": "2023-04-23T19:30:45.089837Z",
     "end_time": "2023-04-23T19:30:47.832654Z"
    }
   }
  },
  {
   "cell_type": "code",
   "execution_count": 29,
   "outputs": [
    {
     "data": {
      "text/plain": "addr_state\nCA    11458\nNY     6600\nTX     5694\nFL     5274\nNJ     2875\nIL     2808\nPA     2701\nOH     2501\nVA     2369\nGA     2245\nNC     2159\nMD     1848\nMI     1847\nMA     1716\nAZ     1708\nWA     1624\nCO     1479\nMN     1367\nIN     1249\nMO     1222\nTN     1208\nNV     1153\nCT     1081\nAL     1051\nLA      923\nWI      918\nOR      900\nSC      802\nOK      745\nKY      716\nKS      637\nUT      568\nAR      564\nHI      448\nNM      433\nWV      356\nNH      332\nRI      318\nDE      214\nMS      209\nMT      198\nAK      198\nDC      190\nWY      166\nSD      156\nVT      136\nNE        1\nIA        1\nName: count, dtype: int64"
     },
     "execution_count": 29,
     "metadata": {},
     "output_type": "execute_result"
    }
   ],
   "source": [
    "x_train_b[\"addr_state\"].value_counts()"
   ],
   "metadata": {
    "collapsed": false,
    "ExecuteTime": {
     "start_time": "2023-04-23T19:30:49.645585Z",
     "end_time": "2023-04-23T19:30:49.700515Z"
    }
   }
  },
  {
   "cell_type": "code",
   "execution_count": 13,
   "outputs": [
    {
     "name": "stdout",
     "output_type": "stream",
     "text": [
      "['(18000.0,inf)', '(9500.0,18000.0)', '(1000.0,9500.0)', '(-inf,1000.0)']\n",
      "['(25286.0,inf)', '(15571.0,20429.0)', '(20429.0,25286.0)', '(10714.0,15571.0)', '(5857.0,10714.0)', '(1000.0,5857.0)', '(-inf,1000.0)']\n",
      "[' 60 months', ' 36 months']\n",
      "['(20.0,inf)', '(17.0,20.0)', '(15.0,17.0)', '(12.0,15.0)', '(9.0,12.0)', '(6.0,9.0)', '(-inf,6.0)']\n",
      "['(948.0,inf)', '(486.0,717.0)', '(717.0,948.0)', '(254.0,486.0)', '(23.0,254.0)']\n",
      "['G', 'F', 'E', 'D', 'C', 'B', 'A']\n",
      "['G3', 'G5', 'F5', 'G1', 'F3', 'F4', 'G2', 'F1', 'F2', 'E5', 'E4', 'G4', 'E2', 'E3', 'E1', 'D5', 'D4', 'D2', 'D3', 'D1', 'C5', 'C3', 'C4', 'C2', 'C1', 'B5', 'B4', 'B3', 'B2', 'B1', 'A5', 'A4', 'A3', 'A2', 'A1']\n",
      "['6 years', '< 1 year', '5 years', '9 years', '8 years', '7 years', '2 years', '3 years', '1 year', '4 years', '10+ years']\n",
      "['OTHER', 'NONE', 'RENT', 'OWN', 'MORTGAGE']\n",
      "['(7000.0,178500.0)', '(521500.0,693000.0)', '(178500.0,350000.0)', '(693000.0,inf)', '(350000.0,521500.0)', '(-inf,7000.0)']\n",
      "['Verified', 'Source Verified', 'Not Verified']\n",
      "['small_business', 'house', 'wedding', 'medical', 'moving', 'other', 'debt_consolidation', 'renewable_energy', 'vacation', 'major_purchase', 'home_improvement', 'credit_card', 'car']\n",
      "['NV', 'HI', 'AL', 'FL', 'OK', 'TN', 'NY', 'NM', 'AR', 'LA', 'UT', 'IN', 'MD', 'NC', 'VA', 'NJ', 'KY', 'AZ', 'CA', 'MA', 'IA', 'MI', 'PA', 'OH', 'MO', 'RI', 'MN', 'SD', 'OR', 'GA', 'TX', 'KS', 'MT', 'AK', 'DE', 'WI', 'CT', 'WA', 'IL', 'WY', 'SC', 'CO', 'VT', 'WV', 'MS', 'NH', 'DC']\n"
     ]
    },
    {
     "ename": "KeyError",
     "evalue": "'NE'",
     "output_type": "error",
     "traceback": [
      "\u001B[1;31m---------------------------------------------------------------------------\u001B[0m",
      "\u001B[1;31mKeyError\u001B[0m                                  Traceback (most recent call last)",
      "File \u001B[1;32mD:\\workspace\\StonksBank\\Lib\\site-packages\\pandas\\core\\indexes\\base.py:3652\u001B[0m, in \u001B[0;36mIndex.get_loc\u001B[1;34m(self, key)\u001B[0m\n\u001B[0;32m   3651\u001B[0m \u001B[38;5;28;01mtry\u001B[39;00m:\n\u001B[1;32m-> 3652\u001B[0m     \u001B[38;5;28;01mreturn\u001B[39;00m \u001B[38;5;28;43mself\u001B[39;49m\u001B[38;5;241;43m.\u001B[39;49m\u001B[43m_engine\u001B[49m\u001B[38;5;241;43m.\u001B[39;49m\u001B[43mget_loc\u001B[49m\u001B[43m(\u001B[49m\u001B[43mcasted_key\u001B[49m\u001B[43m)\u001B[49m\n\u001B[0;32m   3653\u001B[0m \u001B[38;5;28;01mexcept\u001B[39;00m \u001B[38;5;167;01mKeyError\u001B[39;00m \u001B[38;5;28;01mas\u001B[39;00m err:\n",
      "File \u001B[1;32mD:\\workspace\\StonksBank\\Lib\\site-packages\\pandas\\_libs\\index.pyx:147\u001B[0m, in \u001B[0;36mpandas._libs.index.IndexEngine.get_loc\u001B[1;34m()\u001B[0m\n",
      "File \u001B[1;32mD:\\workspace\\StonksBank\\Lib\\site-packages\\pandas\\_libs\\index.pyx:176\u001B[0m, in \u001B[0;36mpandas._libs.index.IndexEngine.get_loc\u001B[1;34m()\u001B[0m\n",
      "File \u001B[1;32mpandas\\_libs\\hashtable_class_helper.pxi:7080\u001B[0m, in \u001B[0;36mpandas._libs.hashtable.PyObjectHashTable.get_item\u001B[1;34m()\u001B[0m\n",
      "File \u001B[1;32mpandas\\_libs\\hashtable_class_helper.pxi:7088\u001B[0m, in \u001B[0;36mpandas._libs.hashtable.PyObjectHashTable.get_item\u001B[1;34m()\u001B[0m\n",
      "\u001B[1;31mKeyError\u001B[0m: 'NE'",
      "\nThe above exception was the direct cause of the following exception:\n",
      "\u001B[1;31mKeyError\u001B[0m                                  Traceback (most recent call last)",
      "Cell \u001B[1;32mIn[13], line 1\u001B[0m\n\u001B[1;32m----> 1\u001B[0m \u001B[43mwoe_t\u001B[49m\u001B[38;5;241;43m.\u001B[39;49m\u001B[43mtransform\u001B[49m\u001B[43m(\u001B[49m\u001B[43mx_train_b\u001B[49m\u001B[43m)\u001B[49m\u001B[38;5;241m.\u001B[39mhead()\n",
      "File \u001B[1;32m~\\Desktop\\stonksbank\\StonksBank\\pd_modeling\\transformers\\woeTransformer.py:89\u001B[0m, in \u001B[0;36mWOETransformer.transform\u001B[1;34m(self, X, y)\u001B[0m\n\u001B[0;32m     87\u001B[0m     categories \u001B[38;5;241m=\u001B[39m \u001B[38;5;28mlist\u001B[39m(mapping\u001B[38;5;241m.\u001B[39mindex)\n\u001B[0;32m     88\u001B[0m     \u001B[38;5;28mprint\u001B[39m(categories)\n\u001B[1;32m---> 89\u001B[0m     out[col] \u001B[38;5;241m=\u001B[39m \u001B[43mdf\u001B[49m\u001B[38;5;241;43m.\u001B[39;49m\u001B[43mloc\u001B[49m\u001B[43m[\u001B[49m\u001B[43m:\u001B[49m\u001B[43m,\u001B[49m\u001B[43m \u001B[49m\u001B[43mcol\u001B[49m\u001B[43m]\u001B[49m\u001B[38;5;241;43m.\u001B[39;49m\u001B[43mapply\u001B[49m\u001B[43m(\u001B[49m\u001B[38;5;28;43;01mlambda\u001B[39;49;00m\u001B[43m \u001B[49m\u001B[43mcat\u001B[49m\u001B[43m:\u001B[49m\u001B[43m \u001B[49m\u001B[43mmapping\u001B[49m\u001B[38;5;241;43m.\u001B[39;49m\u001B[43mloc\u001B[49m\u001B[43m[\u001B[49m\u001B[43mcat\u001B[49m\u001B[43m,\u001B[49m\u001B[43m \u001B[49m\u001B[38;5;124;43m\"\u001B[39;49m\u001B[38;5;124;43mwoe\u001B[39;49m\u001B[38;5;124;43m\"\u001B[39;49m\u001B[43m]\u001B[49m\u001B[43m)\u001B[49m\n\u001B[0;32m     90\u001B[0m \u001B[38;5;28;01mreturn\u001B[39;00m out\n",
      "File \u001B[1;32mD:\\workspace\\StonksBank\\Lib\\site-packages\\pandas\\core\\series.py:4631\u001B[0m, in \u001B[0;36mSeries.apply\u001B[1;34m(self, func, convert_dtype, args, **kwargs)\u001B[0m\n\u001B[0;32m   4521\u001B[0m \u001B[38;5;28;01mdef\u001B[39;00m \u001B[38;5;21mapply\u001B[39m(\n\u001B[0;32m   4522\u001B[0m     \u001B[38;5;28mself\u001B[39m,\n\u001B[0;32m   4523\u001B[0m     func: AggFuncType,\n\u001B[1;32m   (...)\u001B[0m\n\u001B[0;32m   4526\u001B[0m     \u001B[38;5;241m*\u001B[39m\u001B[38;5;241m*\u001B[39mkwargs,\n\u001B[0;32m   4527\u001B[0m ) \u001B[38;5;241m-\u001B[39m\u001B[38;5;241m>\u001B[39m DataFrame \u001B[38;5;241m|\u001B[39m Series:\n\u001B[0;32m   4528\u001B[0m \u001B[38;5;250m    \u001B[39m\u001B[38;5;124;03m\"\"\"\u001B[39;00m\n\u001B[0;32m   4529\u001B[0m \u001B[38;5;124;03m    Invoke function on values of Series.\u001B[39;00m\n\u001B[0;32m   4530\u001B[0m \n\u001B[1;32m   (...)\u001B[0m\n\u001B[0;32m   4629\u001B[0m \u001B[38;5;124;03m    dtype: float64\u001B[39;00m\n\u001B[0;32m   4630\u001B[0m \u001B[38;5;124;03m    \"\"\"\u001B[39;00m\n\u001B[1;32m-> 4631\u001B[0m     \u001B[38;5;28;01mreturn\u001B[39;00m \u001B[43mSeriesApply\u001B[49m\u001B[43m(\u001B[49m\u001B[38;5;28;43mself\u001B[39;49m\u001B[43m,\u001B[49m\u001B[43m \u001B[49m\u001B[43mfunc\u001B[49m\u001B[43m,\u001B[49m\u001B[43m \u001B[49m\u001B[43mconvert_dtype\u001B[49m\u001B[43m,\u001B[49m\u001B[43m \u001B[49m\u001B[43margs\u001B[49m\u001B[43m,\u001B[49m\u001B[43m \u001B[49m\u001B[43mkwargs\u001B[49m\u001B[43m)\u001B[49m\u001B[38;5;241;43m.\u001B[39;49m\u001B[43mapply\u001B[49m\u001B[43m(\u001B[49m\u001B[43m)\u001B[49m\n",
      "File \u001B[1;32mD:\\workspace\\StonksBank\\Lib\\site-packages\\pandas\\core\\apply.py:1025\u001B[0m, in \u001B[0;36mSeriesApply.apply\u001B[1;34m(self)\u001B[0m\n\u001B[0;32m   1022\u001B[0m     \u001B[38;5;28;01mreturn\u001B[39;00m \u001B[38;5;28mself\u001B[39m\u001B[38;5;241m.\u001B[39mapply_str()\n\u001B[0;32m   1024\u001B[0m \u001B[38;5;66;03m# self.f is Callable\u001B[39;00m\n\u001B[1;32m-> 1025\u001B[0m \u001B[38;5;28;01mreturn\u001B[39;00m \u001B[38;5;28;43mself\u001B[39;49m\u001B[38;5;241;43m.\u001B[39;49m\u001B[43mapply_standard\u001B[49m\u001B[43m(\u001B[49m\u001B[43m)\u001B[49m\n",
      "File \u001B[1;32mD:\\workspace\\StonksBank\\Lib\\site-packages\\pandas\\core\\apply.py:1076\u001B[0m, in \u001B[0;36mSeriesApply.apply_standard\u001B[1;34m(self)\u001B[0m\n\u001B[0;32m   1074\u001B[0m     \u001B[38;5;28;01melse\u001B[39;00m:\n\u001B[0;32m   1075\u001B[0m         values \u001B[38;5;241m=\u001B[39m obj\u001B[38;5;241m.\u001B[39mastype(\u001B[38;5;28mobject\u001B[39m)\u001B[38;5;241m.\u001B[39m_values\n\u001B[1;32m-> 1076\u001B[0m         mapped \u001B[38;5;241m=\u001B[39m \u001B[43mlib\u001B[49m\u001B[38;5;241;43m.\u001B[39;49m\u001B[43mmap_infer\u001B[49m\u001B[43m(\u001B[49m\n\u001B[0;32m   1077\u001B[0m \u001B[43m            \u001B[49m\u001B[43mvalues\u001B[49m\u001B[43m,\u001B[49m\n\u001B[0;32m   1078\u001B[0m \u001B[43m            \u001B[49m\u001B[43mf\u001B[49m\u001B[43m,\u001B[49m\n\u001B[0;32m   1079\u001B[0m \u001B[43m            \u001B[49m\u001B[43mconvert\u001B[49m\u001B[38;5;241;43m=\u001B[39;49m\u001B[38;5;28;43mself\u001B[39;49m\u001B[38;5;241;43m.\u001B[39;49m\u001B[43mconvert_dtype\u001B[49m\u001B[43m,\u001B[49m\n\u001B[0;32m   1080\u001B[0m \u001B[43m        \u001B[49m\u001B[43m)\u001B[49m\n\u001B[0;32m   1082\u001B[0m \u001B[38;5;28;01mif\u001B[39;00m \u001B[38;5;28mlen\u001B[39m(mapped) \u001B[38;5;129;01mand\u001B[39;00m \u001B[38;5;28misinstance\u001B[39m(mapped[\u001B[38;5;241m0\u001B[39m], ABCSeries):\n\u001B[0;32m   1083\u001B[0m     \u001B[38;5;66;03m# GH#43986 Need to do list(mapped) in order to get treated as nested\u001B[39;00m\n\u001B[0;32m   1084\u001B[0m     \u001B[38;5;66;03m#  See also GH#25959 regarding EA support\u001B[39;00m\n\u001B[0;32m   1085\u001B[0m     \u001B[38;5;28;01mreturn\u001B[39;00m obj\u001B[38;5;241m.\u001B[39m_constructor_expanddim(\u001B[38;5;28mlist\u001B[39m(mapped), index\u001B[38;5;241m=\u001B[39mobj\u001B[38;5;241m.\u001B[39mindex)\n",
      "File \u001B[1;32mD:\\workspace\\StonksBank\\Lib\\site-packages\\pandas\\_libs\\lib.pyx:2834\u001B[0m, in \u001B[0;36mpandas._libs.lib.map_infer\u001B[1;34m()\u001B[0m\n",
      "File \u001B[1;32m~\\Desktop\\stonksbank\\StonksBank\\pd_modeling\\transformers\\woeTransformer.py:89\u001B[0m, in \u001B[0;36mWOETransformer.transform.<locals>.<lambda>\u001B[1;34m(cat)\u001B[0m\n\u001B[0;32m     87\u001B[0m     categories \u001B[38;5;241m=\u001B[39m \u001B[38;5;28mlist\u001B[39m(mapping\u001B[38;5;241m.\u001B[39mindex)\n\u001B[0;32m     88\u001B[0m     \u001B[38;5;28mprint\u001B[39m(categories)\n\u001B[1;32m---> 89\u001B[0m     out[col] \u001B[38;5;241m=\u001B[39m df\u001B[38;5;241m.\u001B[39mloc[:, col]\u001B[38;5;241m.\u001B[39mapply(\u001B[38;5;28;01mlambda\u001B[39;00m cat: \u001B[43mmapping\u001B[49m\u001B[38;5;241;43m.\u001B[39;49m\u001B[43mloc\u001B[49m\u001B[43m[\u001B[49m\u001B[43mcat\u001B[49m\u001B[43m,\u001B[49m\u001B[43m \u001B[49m\u001B[38;5;124;43m\"\u001B[39;49m\u001B[38;5;124;43mwoe\u001B[39;49m\u001B[38;5;124;43m\"\u001B[39;49m\u001B[43m]\u001B[49m)\n\u001B[0;32m     90\u001B[0m \u001B[38;5;28;01mreturn\u001B[39;00m out\n",
      "File \u001B[1;32mD:\\workspace\\StonksBank\\Lib\\site-packages\\pandas\\core\\indexing.py:1096\u001B[0m, in \u001B[0;36m_LocationIndexer.__getitem__\u001B[1;34m(self, key)\u001B[0m\n\u001B[0;32m   1094\u001B[0m     key \u001B[38;5;241m=\u001B[39m \u001B[38;5;28mtuple\u001B[39m(com\u001B[38;5;241m.\u001B[39mapply_if_callable(x, \u001B[38;5;28mself\u001B[39m\u001B[38;5;241m.\u001B[39mobj) \u001B[38;5;28;01mfor\u001B[39;00m x \u001B[38;5;129;01min\u001B[39;00m key)\n\u001B[0;32m   1095\u001B[0m     \u001B[38;5;28;01mif\u001B[39;00m \u001B[38;5;28mself\u001B[39m\u001B[38;5;241m.\u001B[39m_is_scalar_access(key):\n\u001B[1;32m-> 1096\u001B[0m         \u001B[38;5;28;01mreturn\u001B[39;00m \u001B[38;5;28;43mself\u001B[39;49m\u001B[38;5;241;43m.\u001B[39;49m\u001B[43mobj\u001B[49m\u001B[38;5;241;43m.\u001B[39;49m\u001B[43m_get_value\u001B[49m\u001B[43m(\u001B[49m\u001B[38;5;241;43m*\u001B[39;49m\u001B[43mkey\u001B[49m\u001B[43m,\u001B[49m\u001B[43m \u001B[49m\u001B[43mtakeable\u001B[49m\u001B[38;5;241;43m=\u001B[39;49m\u001B[38;5;28;43mself\u001B[39;49m\u001B[38;5;241;43m.\u001B[39;49m\u001B[43m_takeable\u001B[49m\u001B[43m)\u001B[49m\n\u001B[0;32m   1097\u001B[0m     \u001B[38;5;28;01mreturn\u001B[39;00m \u001B[38;5;28mself\u001B[39m\u001B[38;5;241m.\u001B[39m_getitem_tuple(key)\n\u001B[0;32m   1098\u001B[0m \u001B[38;5;28;01melse\u001B[39;00m:\n\u001B[0;32m   1099\u001B[0m     \u001B[38;5;66;03m# we by definition only have the 0th axis\u001B[39;00m\n",
      "File \u001B[1;32mD:\\workspace\\StonksBank\\Lib\\site-packages\\pandas\\core\\frame.py:3886\u001B[0m, in \u001B[0;36mDataFrame._get_value\u001B[1;34m(self, index, col, takeable)\u001B[0m\n\u001B[0;32m   3880\u001B[0m engine \u001B[38;5;241m=\u001B[39m \u001B[38;5;28mself\u001B[39m\u001B[38;5;241m.\u001B[39mindex\u001B[38;5;241m.\u001B[39m_engine\n\u001B[0;32m   3882\u001B[0m \u001B[38;5;28;01mif\u001B[39;00m \u001B[38;5;129;01mnot\u001B[39;00m \u001B[38;5;28misinstance\u001B[39m(\u001B[38;5;28mself\u001B[39m\u001B[38;5;241m.\u001B[39mindex, MultiIndex):\n\u001B[0;32m   3883\u001B[0m     \u001B[38;5;66;03m# CategoricalIndex: Trying to use the engine fastpath may give incorrect\u001B[39;00m\n\u001B[0;32m   3884\u001B[0m     \u001B[38;5;66;03m#  results if our categories are integers that dont match our codes\u001B[39;00m\n\u001B[0;32m   3885\u001B[0m     \u001B[38;5;66;03m# IntervalIndex: IntervalTree has no get_loc\u001B[39;00m\n\u001B[1;32m-> 3886\u001B[0m     row \u001B[38;5;241m=\u001B[39m \u001B[38;5;28;43mself\u001B[39;49m\u001B[38;5;241;43m.\u001B[39;49m\u001B[43mindex\u001B[49m\u001B[38;5;241;43m.\u001B[39;49m\u001B[43mget_loc\u001B[49m\u001B[43m(\u001B[49m\u001B[43mindex\u001B[49m\u001B[43m)\u001B[49m\n\u001B[0;32m   3887\u001B[0m     \u001B[38;5;28;01mreturn\u001B[39;00m series\u001B[38;5;241m.\u001B[39m_values[row]\n\u001B[0;32m   3889\u001B[0m \u001B[38;5;66;03m# For MultiIndex going through engine effectively restricts us to\u001B[39;00m\n\u001B[0;32m   3890\u001B[0m \u001B[38;5;66;03m#  same-length tuples; see test_get_set_value_no_partial_indexing\u001B[39;00m\n",
      "File \u001B[1;32mD:\\workspace\\StonksBank\\Lib\\site-packages\\pandas\\core\\indexes\\base.py:3654\u001B[0m, in \u001B[0;36mIndex.get_loc\u001B[1;34m(self, key)\u001B[0m\n\u001B[0;32m   3652\u001B[0m     \u001B[38;5;28;01mreturn\u001B[39;00m \u001B[38;5;28mself\u001B[39m\u001B[38;5;241m.\u001B[39m_engine\u001B[38;5;241m.\u001B[39mget_loc(casted_key)\n\u001B[0;32m   3653\u001B[0m \u001B[38;5;28;01mexcept\u001B[39;00m \u001B[38;5;167;01mKeyError\u001B[39;00m \u001B[38;5;28;01mas\u001B[39;00m err:\n\u001B[1;32m-> 3654\u001B[0m     \u001B[38;5;28;01mraise\u001B[39;00m \u001B[38;5;167;01mKeyError\u001B[39;00m(key) \u001B[38;5;28;01mfrom\u001B[39;00m \u001B[38;5;21;01merr\u001B[39;00m\n\u001B[0;32m   3655\u001B[0m \u001B[38;5;28;01mexcept\u001B[39;00m \u001B[38;5;167;01mTypeError\u001B[39;00m:\n\u001B[0;32m   3656\u001B[0m     \u001B[38;5;66;03m# If we have a listlike key, _check_indexing_error will raise\u001B[39;00m\n\u001B[0;32m   3657\u001B[0m     \u001B[38;5;66;03m#  InvalidIndexError. Otherwise we fall through and re-raise\u001B[39;00m\n\u001B[0;32m   3658\u001B[0m     \u001B[38;5;66;03m#  the TypeError.\u001B[39;00m\n\u001B[0;32m   3659\u001B[0m     \u001B[38;5;28mself\u001B[39m\u001B[38;5;241m.\u001B[39m_check_indexing_error(key)\n",
      "\u001B[1;31mKeyError\u001B[0m: 'NE'"
     ]
    }
   ],
   "source": [
    "\n",
    "woe_t.transform(x_train_b).head()"
   ],
   "metadata": {
    "collapsed": false,
    "ExecuteTime": {
     "start_time": "2023-04-23T18:19:10.658745Z",
     "end_time": "2023-04-23T18:19:10.786278Z"
    }
   }
  },
  {
   "cell_type": "markdown",
   "source": [
    "woe_t.transform(x_train_b).head()\n",
    "# WOE\n",
    "\n",
    "Now that we transform our data to the respective Weight of Evidence, we can get the mappings for a given column to analyze the WoE and IV, and determine if our bins have a good predictive power, or if we need to re-structure them."
   ],
   "metadata": {
    "collapsed": false
   }
  },
  {
   "cell_type": "code",
   "execution_count": null,
   "outputs": [],
   "source": [
    "woe_t.woe_mappings[\"loan_amnt\"]"
   ],
   "metadata": {
    "collapsed": false,
    "ExecuteTime": {
     "start_time": "2023-04-23T18:19:15.161650Z",
     "end_time": "2023-04-23T18:19:15.185721Z"
    }
   }
  },
  {
   "cell_type": "code",
   "execution_count": null,
   "outputs": [],
   "source": [
    "woe_t.woe_mappings[\"funded_amnt\"]"
   ],
   "metadata": {
    "collapsed": false
   }
  },
  {
   "cell_type": "code",
   "execution_count": null,
   "outputs": [],
   "source": [
    "woe_t.woe_mappings[\"int_rate\"]"
   ],
   "metadata": {
    "collapsed": false
   }
  },
  {
   "cell_type": "code",
   "execution_count": null,
   "outputs": [],
   "source": [
    "woe_t.woe_mappings[\"installment\"]"
   ],
   "metadata": {
    "collapsed": false
   }
  },
  {
   "cell_type": "code",
   "execution_count": null,
   "outputs": [],
   "source": [
    "woe_t.woe_mappings[\"annual_inc\"]"
   ],
   "metadata": {
    "collapsed": false
   }
  },
  {
   "cell_type": "code",
   "execution_count": null,
   "outputs": [],
   "source": [
    "woe_t.woe_mappings[\"dti\"]"
   ],
   "metadata": {
    "collapsed": false
   }
  },
  {
   "cell_type": "code",
   "execution_count": null,
   "outputs": [],
   "source": [],
   "metadata": {
    "collapsed": false,
    "ExecuteTime": {
     "start_time": "2023-04-23T18:25:01.638491Z",
     "end_time": "2023-04-23T18:25:01.892668Z"
    }
   }
  }
 ],
 "metadata": {
  "kernelspec": {
   "display_name": "Python 3",
   "language": "python",
   "name": "python3"
  },
  "language_info": {
   "codemirror_mode": {
    "name": "ipython",
    "version": 2
   },
   "file_extension": ".py",
   "mimetype": "text/x-python",
   "name": "python",
   "nbconvert_exporter": "python",
   "pygments_lexer": "ipython2",
   "version": "2.7.6"
  }
 },
 "nbformat": 4,
 "nbformat_minor": 0
}
