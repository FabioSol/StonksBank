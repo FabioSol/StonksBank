{
 "cells": [
  {
   "cell_type": "code",
   "execution_count": 1,
   "metadata": {
    "collapsed": true,
    "ExecuteTime": {
     "start_time": "2023-04-23T21:41:18.598913Z",
     "end_time": "2023-04-23T21:41:20.908631Z"
    }
   },
   "outputs": [],
   "source": [
    "import numpy as np\n",
    "import pandas as pd\n",
    "import datetime\n",
    "from sklearn.utils import resample\n",
    "from typing import Dict\n",
    "from transformers.columnSelectorTransformer import ColumnSelectorTransformer\n",
    "from transformers.woeTransformer import WOETransformer\n",
    "from transformers.binningTransformer import BinningTransformer"
   ]
  },
  {
   "cell_type": "code",
   "execution_count": 2,
   "outputs": [],
   "source": [
    "from pd_modeling.bins import bins"
   ],
   "metadata": {
    "collapsed": false,
    "ExecuteTime": {
     "start_time": "2023-04-23T21:41:20.909634Z",
     "end_time": "2023-04-23T21:41:20.919861Z"
    }
   }
  },
  {
   "cell_type": "code",
   "execution_count": 3,
   "outputs": [],
   "source": [
    "dataset = pd.read_csv('../files/credit_risk_data_v2.csv', low_memory=False)"
   ],
   "metadata": {
    "collapsed": false,
    "ExecuteTime": {
     "start_time": "2023-04-23T21:41:20.920865Z",
     "end_time": "2023-04-23T21:41:35.088367Z"
    }
   }
  },
  {
   "cell_type": "code",
   "execution_count": 4,
   "outputs": [],
   "source": [
    "cols_to_keep = ['loan_amnt', 'funded_amnt', 'term', 'int_rate',\n",
    "       'installment', 'grade', 'sub_grade', 'emp_length', 'home_ownership',\n",
    "       'annual_inc', 'verification_status', 'purpose',\n",
    "       'addr_state', 'dti', 'revol_bal',\n",
    "       'revol_util', 'total_acc', 'initial_list_status', 'out_prncp',\n",
    "       'total_pymnt', 'total_rec_prncp',\n",
    "       'total_rec_int', 'total_rec_late_fee',\n",
    "       'last_pymnt_amnt',\n",
    "       'tot_coll_amt',\n",
    "       'tot_cur_bal', 'total_rev_hi_lim', 'status']"
   ],
   "metadata": {
    "collapsed": false,
    "ExecuteTime": {
     "start_time": "2023-04-23T21:41:35.115368Z",
     "end_time": "2023-04-23T21:41:35.137807Z"
    }
   }
  },
  {
   "cell_type": "code",
   "execution_count": 5,
   "outputs": [],
   "source": [
    "column_t = ColumnSelectorTransformer(columns=cols_to_keep)\n",
    "binning_t = BinningTransformer(bins=bins)\n",
    "woe_t = WOETransformer(columns=cols_to_keep)"
   ],
   "metadata": {
    "collapsed": false,
    "ExecuteTime": {
     "start_time": "2023-04-23T21:41:35.133220Z",
     "end_time": "2023-04-23T21:41:35.163808Z"
    }
   }
  },
  {
   "cell_type": "code",
   "execution_count": 6,
   "outputs": [
    {
     "data": {
      "text/plain": "   loan_amnt  funded_amnt        term  int_rate  installment grade sub_grade   \n0       5000         5000   36 months     10.65       162.87     B        B2  \\\n1       2500         2500   60 months     15.27        59.83     C        C4   \n2       2400         2400   36 months     15.96        84.33     C        C5   \n3      10000        10000   36 months     13.49       339.31     C        C1   \n4       3000         3000   60 months     12.69        67.79     B        B5   \n\n  emp_length home_ownership  annual_inc  ... out_prncp   total_pymnt   \n0  10+ years           RENT     24000.0  ...       0.0   5861.071414  \\\n1   < 1 year           RENT     30000.0  ...       0.0   1008.710000   \n2  10+ years           RENT     12252.0  ...       0.0   3003.653644   \n3  10+ years           RENT     49200.0  ...       0.0  12226.302210   \n4     1 year           RENT     80000.0  ...     766.9   3242.170000   \n\n  total_rec_prncp  total_rec_int  total_rec_late_fee  last_pymnt_amnt   \n0         5000.00         861.07                0.00           171.62  \\\n1          456.46         435.17                0.00           119.66   \n2         2400.00         603.65                0.00           649.91   \n3        10000.00        2209.33               16.97           357.48   \n4         2233.10        1009.07                0.00            67.79   \n\n   tot_coll_amt tot_cur_bal  total_rev_hi_lim  status  \n0           NaN         NaN               NaN       0  \n1           NaN         NaN               NaN       1  \n2           NaN         NaN               NaN       0  \n3           NaN         NaN               NaN       0  \n4           NaN         NaN               NaN       0  \n\n[5 rows x 28 columns]",
      "text/html": "<div>\n<style scoped>\n    .dataframe tbody tr th:only-of-type {\n        vertical-align: middle;\n    }\n\n    .dataframe tbody tr th {\n        vertical-align: top;\n    }\n\n    .dataframe thead th {\n        text-align: right;\n    }\n</style>\n<table border=\"1\" class=\"dataframe\">\n  <thead>\n    <tr style=\"text-align: right;\">\n      <th></th>\n      <th>loan_amnt</th>\n      <th>funded_amnt</th>\n      <th>term</th>\n      <th>int_rate</th>\n      <th>installment</th>\n      <th>grade</th>\n      <th>sub_grade</th>\n      <th>emp_length</th>\n      <th>home_ownership</th>\n      <th>annual_inc</th>\n      <th>...</th>\n      <th>out_prncp</th>\n      <th>total_pymnt</th>\n      <th>total_rec_prncp</th>\n      <th>total_rec_int</th>\n      <th>total_rec_late_fee</th>\n      <th>last_pymnt_amnt</th>\n      <th>tot_coll_amt</th>\n      <th>tot_cur_bal</th>\n      <th>total_rev_hi_lim</th>\n      <th>status</th>\n    </tr>\n  </thead>\n  <tbody>\n    <tr>\n      <th>0</th>\n      <td>5000</td>\n      <td>5000</td>\n      <td>36 months</td>\n      <td>10.65</td>\n      <td>162.87</td>\n      <td>B</td>\n      <td>B2</td>\n      <td>10+ years</td>\n      <td>RENT</td>\n      <td>24000.0</td>\n      <td>...</td>\n      <td>0.0</td>\n      <td>5861.071414</td>\n      <td>5000.00</td>\n      <td>861.07</td>\n      <td>0.00</td>\n      <td>171.62</td>\n      <td>NaN</td>\n      <td>NaN</td>\n      <td>NaN</td>\n      <td>0</td>\n    </tr>\n    <tr>\n      <th>1</th>\n      <td>2500</td>\n      <td>2500</td>\n      <td>60 months</td>\n      <td>15.27</td>\n      <td>59.83</td>\n      <td>C</td>\n      <td>C4</td>\n      <td>&lt; 1 year</td>\n      <td>RENT</td>\n      <td>30000.0</td>\n      <td>...</td>\n      <td>0.0</td>\n      <td>1008.710000</td>\n      <td>456.46</td>\n      <td>435.17</td>\n      <td>0.00</td>\n      <td>119.66</td>\n      <td>NaN</td>\n      <td>NaN</td>\n      <td>NaN</td>\n      <td>1</td>\n    </tr>\n    <tr>\n      <th>2</th>\n      <td>2400</td>\n      <td>2400</td>\n      <td>36 months</td>\n      <td>15.96</td>\n      <td>84.33</td>\n      <td>C</td>\n      <td>C5</td>\n      <td>10+ years</td>\n      <td>RENT</td>\n      <td>12252.0</td>\n      <td>...</td>\n      <td>0.0</td>\n      <td>3003.653644</td>\n      <td>2400.00</td>\n      <td>603.65</td>\n      <td>0.00</td>\n      <td>649.91</td>\n      <td>NaN</td>\n      <td>NaN</td>\n      <td>NaN</td>\n      <td>0</td>\n    </tr>\n    <tr>\n      <th>3</th>\n      <td>10000</td>\n      <td>10000</td>\n      <td>36 months</td>\n      <td>13.49</td>\n      <td>339.31</td>\n      <td>C</td>\n      <td>C1</td>\n      <td>10+ years</td>\n      <td>RENT</td>\n      <td>49200.0</td>\n      <td>...</td>\n      <td>0.0</td>\n      <td>12226.302210</td>\n      <td>10000.00</td>\n      <td>2209.33</td>\n      <td>16.97</td>\n      <td>357.48</td>\n      <td>NaN</td>\n      <td>NaN</td>\n      <td>NaN</td>\n      <td>0</td>\n    </tr>\n    <tr>\n      <th>4</th>\n      <td>3000</td>\n      <td>3000</td>\n      <td>60 months</td>\n      <td>12.69</td>\n      <td>67.79</td>\n      <td>B</td>\n      <td>B5</td>\n      <td>1 year</td>\n      <td>RENT</td>\n      <td>80000.0</td>\n      <td>...</td>\n      <td>766.9</td>\n      <td>3242.170000</td>\n      <td>2233.10</td>\n      <td>1009.07</td>\n      <td>0.00</td>\n      <td>67.79</td>\n      <td>NaN</td>\n      <td>NaN</td>\n      <td>NaN</td>\n      <td>0</td>\n    </tr>\n  </tbody>\n</table>\n<p>5 rows × 28 columns</p>\n</div>"
     },
     "execution_count": 6,
     "metadata": {},
     "output_type": "execute_result"
    }
   ],
   "source": [
    "dataset_c = column_t.transform(dataset)\n",
    "dataset_c.head()"
   ],
   "metadata": {
    "collapsed": false,
    "ExecuteTime": {
     "start_time": "2023-04-23T21:41:35.142811Z",
     "end_time": "2023-04-23T21:41:35.324520Z"
    }
   }
  },
  {
   "cell_type": "code",
   "execution_count": 7,
   "outputs": [
    {
     "data": {
      "text/plain": "       loan_amnt  funded_amnt        term  int_rate  installment grade   \n42535      27050        27050   36 months     10.99       885.46     B  \\\n42536       9750         9750   36 months     13.98       333.14     C   \n42537      12000        12000   36 months      6.62       368.45     A   \n42538      12000        12000   36 months     13.53       407.40     B   \n42539      15000        15000   36 months      8.90       476.30     A   \n\n      sub_grade emp_length home_ownership  annual_inc  ... out_prncp   \n42535        B2  10+ years            OWN     55000.0  ...  10018.90  \\\n42536        C1     1 year           RENT     26000.0  ...   3710.96   \n42537        A2  10+ years       MORTGAGE    105000.0  ...   4266.62   \n42538        B5  10+ years           RENT     40000.0  ...      0.00   \n42539        A5    2 years       MORTGAGE     63000.0  ...   5449.27   \n\n      total_pymnt total_rec_prncp  total_rec_int  total_rec_late_fee   \n42535    21251.04        17031.10        4219.94                 0.0  \\\n42536     7994.83         6039.04        1955.79                 0.0   \n42537     8842.80         7733.38        1109.42                 0.0   \n42538    13359.77        11999.99        1359.78                 0.0   \n42539    11431.20         9550.73        1880.47                 0.0   \n\n       last_pymnt_amnt  tot_coll_amt tot_cur_bal  total_rev_hi_lim  status  \n42535           885.46           0.0    114834.0           59900.0       0  \n42536           333.14           0.0     14123.0           15100.0       0  \n42537           368.45           0.0    267646.0           61100.0       0  \n42538           119.17       15386.0     13605.0            8100.0       0  \n42539           476.30        1514.0    272492.0           15400.0       0  \n\n[5 rows x 28 columns]",
      "text/html": "<div>\n<style scoped>\n    .dataframe tbody tr th:only-of-type {\n        vertical-align: middle;\n    }\n\n    .dataframe tbody tr th {\n        vertical-align: top;\n    }\n\n    .dataframe thead th {\n        text-align: right;\n    }\n</style>\n<table border=\"1\" class=\"dataframe\">\n  <thead>\n    <tr style=\"text-align: right;\">\n      <th></th>\n      <th>loan_amnt</th>\n      <th>funded_amnt</th>\n      <th>term</th>\n      <th>int_rate</th>\n      <th>installment</th>\n      <th>grade</th>\n      <th>sub_grade</th>\n      <th>emp_length</th>\n      <th>home_ownership</th>\n      <th>annual_inc</th>\n      <th>...</th>\n      <th>out_prncp</th>\n      <th>total_pymnt</th>\n      <th>total_rec_prncp</th>\n      <th>total_rec_int</th>\n      <th>total_rec_late_fee</th>\n      <th>last_pymnt_amnt</th>\n      <th>tot_coll_amt</th>\n      <th>tot_cur_bal</th>\n      <th>total_rev_hi_lim</th>\n      <th>status</th>\n    </tr>\n  </thead>\n  <tbody>\n    <tr>\n      <th>42535</th>\n      <td>27050</td>\n      <td>27050</td>\n      <td>36 months</td>\n      <td>10.99</td>\n      <td>885.46</td>\n      <td>B</td>\n      <td>B2</td>\n      <td>10+ years</td>\n      <td>OWN</td>\n      <td>55000.0</td>\n      <td>...</td>\n      <td>10018.90</td>\n      <td>21251.04</td>\n      <td>17031.10</td>\n      <td>4219.94</td>\n      <td>0.0</td>\n      <td>885.46</td>\n      <td>0.0</td>\n      <td>114834.0</td>\n      <td>59900.0</td>\n      <td>0</td>\n    </tr>\n    <tr>\n      <th>42536</th>\n      <td>9750</td>\n      <td>9750</td>\n      <td>36 months</td>\n      <td>13.98</td>\n      <td>333.14</td>\n      <td>C</td>\n      <td>C1</td>\n      <td>1 year</td>\n      <td>RENT</td>\n      <td>26000.0</td>\n      <td>...</td>\n      <td>3710.96</td>\n      <td>7994.83</td>\n      <td>6039.04</td>\n      <td>1955.79</td>\n      <td>0.0</td>\n      <td>333.14</td>\n      <td>0.0</td>\n      <td>14123.0</td>\n      <td>15100.0</td>\n      <td>0</td>\n    </tr>\n    <tr>\n      <th>42537</th>\n      <td>12000</td>\n      <td>12000</td>\n      <td>36 months</td>\n      <td>6.62</td>\n      <td>368.45</td>\n      <td>A</td>\n      <td>A2</td>\n      <td>10+ years</td>\n      <td>MORTGAGE</td>\n      <td>105000.0</td>\n      <td>...</td>\n      <td>4266.62</td>\n      <td>8842.80</td>\n      <td>7733.38</td>\n      <td>1109.42</td>\n      <td>0.0</td>\n      <td>368.45</td>\n      <td>0.0</td>\n      <td>267646.0</td>\n      <td>61100.0</td>\n      <td>0</td>\n    </tr>\n    <tr>\n      <th>42538</th>\n      <td>12000</td>\n      <td>12000</td>\n      <td>36 months</td>\n      <td>13.53</td>\n      <td>407.40</td>\n      <td>B</td>\n      <td>B5</td>\n      <td>10+ years</td>\n      <td>RENT</td>\n      <td>40000.0</td>\n      <td>...</td>\n      <td>0.00</td>\n      <td>13359.77</td>\n      <td>11999.99</td>\n      <td>1359.78</td>\n      <td>0.0</td>\n      <td>119.17</td>\n      <td>15386.0</td>\n      <td>13605.0</td>\n      <td>8100.0</td>\n      <td>0</td>\n    </tr>\n    <tr>\n      <th>42539</th>\n      <td>15000</td>\n      <td>15000</td>\n      <td>36 months</td>\n      <td>8.90</td>\n      <td>476.30</td>\n      <td>A</td>\n      <td>A5</td>\n      <td>2 years</td>\n      <td>MORTGAGE</td>\n      <td>63000.0</td>\n      <td>...</td>\n      <td>5449.27</td>\n      <td>11431.20</td>\n      <td>9550.73</td>\n      <td>1880.47</td>\n      <td>0.0</td>\n      <td>476.30</td>\n      <td>1514.0</td>\n      <td>272492.0</td>\n      <td>15400.0</td>\n      <td>0</td>\n    </tr>\n  </tbody>\n</table>\n<p>5 rows × 28 columns</p>\n</div>"
     },
     "execution_count": 7,
     "metadata": {},
     "output_type": "execute_result"
    }
   ],
   "source": [
    "dataset_c = column_t.clean(X=dataset_c)\n",
    "dataset_c.head()"
   ],
   "metadata": {
    "collapsed": false,
    "ExecuteTime": {
     "start_time": "2023-04-23T21:41:35.324520Z",
     "end_time": "2023-04-23T21:41:37.357439Z"
    }
   }
  },
  {
   "cell_type": "code",
   "execution_count": 8,
   "outputs": [
    {
     "data": {
      "text/plain": "   loan_amnt  funded_amnt        term  int_rate  installment grade sub_grade   \n0      25000        25000   60 months     14.30       585.61     C        C1  \\\n1      25000        25000   60 months     14.98       594.49     C        C3   \n2      10000        10000   36 months     18.55       364.29     D        D2   \n3       5000         5000   36 months      7.90       156.46     A        A4   \n4       6000         6000   36 months     14.30       205.95     C        C1   \n\n  emp_length home_ownership  annual_inc  ... out_prncp   total_pymnt   \n0  10+ years       MORTGAGE     60000.0  ...  16678.72  14640.250000  \\\n1    7 years       MORTGAGE     82000.0  ...  17529.68  13673.270000   \n2  10+ years           RENT     89000.0  ...      0.00  10472.830000   \n3    3 years            OWN     80000.0  ...      0.00   5573.942773   \n4    8 years           RENT     75000.0  ...   2111.65   5148.000000   \n\n  total_rec_prncp  total_rec_int  total_rec_late_fee  last_pymnt_amnt   \n0         8321.28        6318.97                 0.0           585.61  \\\n1         7470.32        6202.95                 0.0           594.49   \n2         9999.99         472.84                 0.0            51.38   \n3         5000.00         573.94                 0.0          1346.07   \n4         3888.35        1259.65                 0.0           205.95   \n\n   tot_coll_amt tot_cur_bal  total_rev_hi_lim  status  \n0           0.0    104064.0           30500.0       0  \n1           0.0    254150.0           63200.0       0  \n2           0.0     60834.0            4900.0       0  \n3           0.0     19319.0           46400.0       0  \n4           0.0     30785.0           21700.0       0  \n\n[5 rows x 28 columns]",
      "text/html": "<div>\n<style scoped>\n    .dataframe tbody tr th:only-of-type {\n        vertical-align: middle;\n    }\n\n    .dataframe tbody tr th {\n        vertical-align: top;\n    }\n\n    .dataframe thead th {\n        text-align: right;\n    }\n</style>\n<table border=\"1\" class=\"dataframe\">\n  <thead>\n    <tr style=\"text-align: right;\">\n      <th></th>\n      <th>loan_amnt</th>\n      <th>funded_amnt</th>\n      <th>term</th>\n      <th>int_rate</th>\n      <th>installment</th>\n      <th>grade</th>\n      <th>sub_grade</th>\n      <th>emp_length</th>\n      <th>home_ownership</th>\n      <th>annual_inc</th>\n      <th>...</th>\n      <th>out_prncp</th>\n      <th>total_pymnt</th>\n      <th>total_rec_prncp</th>\n      <th>total_rec_int</th>\n      <th>total_rec_late_fee</th>\n      <th>last_pymnt_amnt</th>\n      <th>tot_coll_amt</th>\n      <th>tot_cur_bal</th>\n      <th>total_rev_hi_lim</th>\n      <th>status</th>\n    </tr>\n  </thead>\n  <tbody>\n    <tr>\n      <th>0</th>\n      <td>25000</td>\n      <td>25000</td>\n      <td>60 months</td>\n      <td>14.30</td>\n      <td>585.61</td>\n      <td>C</td>\n      <td>C1</td>\n      <td>10+ years</td>\n      <td>MORTGAGE</td>\n      <td>60000.0</td>\n      <td>...</td>\n      <td>16678.72</td>\n      <td>14640.250000</td>\n      <td>8321.28</td>\n      <td>6318.97</td>\n      <td>0.0</td>\n      <td>585.61</td>\n      <td>0.0</td>\n      <td>104064.0</td>\n      <td>30500.0</td>\n      <td>0</td>\n    </tr>\n    <tr>\n      <th>1</th>\n      <td>25000</td>\n      <td>25000</td>\n      <td>60 months</td>\n      <td>14.98</td>\n      <td>594.49</td>\n      <td>C</td>\n      <td>C3</td>\n      <td>7 years</td>\n      <td>MORTGAGE</td>\n      <td>82000.0</td>\n      <td>...</td>\n      <td>17529.68</td>\n      <td>13673.270000</td>\n      <td>7470.32</td>\n      <td>6202.95</td>\n      <td>0.0</td>\n      <td>594.49</td>\n      <td>0.0</td>\n      <td>254150.0</td>\n      <td>63200.0</td>\n      <td>0</td>\n    </tr>\n    <tr>\n      <th>2</th>\n      <td>10000</td>\n      <td>10000</td>\n      <td>36 months</td>\n      <td>18.55</td>\n      <td>364.29</td>\n      <td>D</td>\n      <td>D2</td>\n      <td>10+ years</td>\n      <td>RENT</td>\n      <td>89000.0</td>\n      <td>...</td>\n      <td>0.00</td>\n      <td>10472.830000</td>\n      <td>9999.99</td>\n      <td>472.84</td>\n      <td>0.0</td>\n      <td>51.38</td>\n      <td>0.0</td>\n      <td>60834.0</td>\n      <td>4900.0</td>\n      <td>0</td>\n    </tr>\n    <tr>\n      <th>3</th>\n      <td>5000</td>\n      <td>5000</td>\n      <td>36 months</td>\n      <td>7.90</td>\n      <td>156.46</td>\n      <td>A</td>\n      <td>A4</td>\n      <td>3 years</td>\n      <td>OWN</td>\n      <td>80000.0</td>\n      <td>...</td>\n      <td>0.00</td>\n      <td>5573.942773</td>\n      <td>5000.00</td>\n      <td>573.94</td>\n      <td>0.0</td>\n      <td>1346.07</td>\n      <td>0.0</td>\n      <td>19319.0</td>\n      <td>46400.0</td>\n      <td>0</td>\n    </tr>\n    <tr>\n      <th>4</th>\n      <td>6000</td>\n      <td>6000</td>\n      <td>36 months</td>\n      <td>14.30</td>\n      <td>205.95</td>\n      <td>C</td>\n      <td>C1</td>\n      <td>8 years</td>\n      <td>RENT</td>\n      <td>75000.0</td>\n      <td>...</td>\n      <td>2111.65</td>\n      <td>5148.000000</td>\n      <td>3888.35</td>\n      <td>1259.65</td>\n      <td>0.0</td>\n      <td>205.95</td>\n      <td>0.0</td>\n      <td>30785.0</td>\n      <td>21700.0</td>\n      <td>0</td>\n    </tr>\n  </tbody>\n</table>\n<p>5 rows × 28 columns</p>\n</div>"
     },
     "execution_count": 8,
     "metadata": {},
     "output_type": "execute_result"
    }
   ],
   "source": [
    "dataset_c = column_t.undersampling(X=dataset_c, y='status')\n",
    "dataset_c.head()"
   ],
   "metadata": {
    "collapsed": false,
    "ExecuteTime": {
     "start_time": "2023-04-23T21:41:37.359432Z",
     "end_time": "2023-04-23T21:41:37.638209Z"
    }
   }
  },
  {
   "cell_type": "code",
   "execution_count": 9,
   "outputs": [
    {
     "name": "stdout",
     "output_type": "stream",
     "text": [
      "<class 'pandas.core.frame.DataFrame'>\n",
      "RangeIndex: 75362 entries, 0 to 75361\n",
      "Data columns (total 28 columns):\n",
      " #   Column               Non-Null Count  Dtype  \n",
      "---  ------               --------------  -----  \n",
      " 0   loan_amnt            75362 non-null  int64  \n",
      " 1   funded_amnt          75362 non-null  int64  \n",
      " 2   term                 75362 non-null  object \n",
      " 3   int_rate             75362 non-null  float64\n",
      " 4   installment          75362 non-null  float64\n",
      " 5   grade                75362 non-null  object \n",
      " 6   sub_grade            75362 non-null  object \n",
      " 7   emp_length           75362 non-null  object \n",
      " 8   home_ownership       75362 non-null  object \n",
      " 9   annual_inc           75362 non-null  float64\n",
      " 10  verification_status  75362 non-null  object \n",
      " 11  purpose              75362 non-null  object \n",
      " 12  addr_state           75362 non-null  object \n",
      " 13  dti                  75362 non-null  float64\n",
      " 14  revol_bal            75362 non-null  int64  \n",
      " 15  revol_util           75362 non-null  float64\n",
      " 16  total_acc            75362 non-null  float64\n",
      " 17  initial_list_status  75362 non-null  object \n",
      " 18  out_prncp            75362 non-null  float64\n",
      " 19  total_pymnt          75362 non-null  float64\n",
      " 20  total_rec_prncp      75362 non-null  float64\n",
      " 21  total_rec_int        75362 non-null  float64\n",
      " 22  total_rec_late_fee   75362 non-null  float64\n",
      " 23  last_pymnt_amnt      75362 non-null  float64\n",
      " 24  tot_coll_amt         75362 non-null  float64\n",
      " 25  tot_cur_bal          75362 non-null  float64\n",
      " 26  total_rev_hi_lim     75362 non-null  float64\n",
      " 27  status               75362 non-null  int64  \n",
      "dtypes: float64(15), int64(4), object(9)\n",
      "memory usage: 16.1+ MB\n"
     ]
    }
   ],
   "source": [
    "dataset_c.info()"
   ],
   "metadata": {
    "collapsed": false,
    "ExecuteTime": {
     "start_time": "2023-04-23T21:41:37.636209Z",
     "end_time": "2023-04-23T21:41:37.783145Z"
    }
   }
  },
  {
   "cell_type": "code",
   "execution_count": 9,
   "outputs": [],
   "source": [],
   "metadata": {
    "collapsed": false,
    "ExecuteTime": {
     "start_time": "2023-04-23T21:41:37.700508Z",
     "end_time": "2023-04-23T21:41:37.783145Z"
    }
   }
  },
  {
   "cell_type": "code",
   "execution_count": 10,
   "outputs": [
    {
     "data": {
      "text/plain": "   loan_amnt  funded_amnt        term  int_rate  installment grade sub_grade   \n0      25000        25000   60 months     14.30       585.61     C        C1  \\\n1      25000        25000   60 months     14.98       594.49     C        C3   \n2      10000        10000   36 months     18.55       364.29     D        D2   \n3       5000         5000   36 months      7.90       156.46     A        A4   \n4       6000         6000   36 months     14.30       205.95     C        C1   \n\n  emp_length home_ownership  annual_inc  ... initial_list_status out_prncp   \n0  10+ years       MORTGAGE     60000.0  ...                   w  16678.72  \\\n1    7 years       MORTGAGE     82000.0  ...                   f  17529.68   \n2  10+ years           RENT     89000.0  ...                   w      0.00   \n3    3 years            OWN     80000.0  ...                   f      0.00   \n4    8 years           RENT     75000.0  ...                   f   2111.65   \n\n    total_pymnt  total_rec_prncp  total_rec_int  total_rec_late_fee   \n0  14640.250000          8321.28        6318.97                 0.0  \\\n1  13673.270000          7470.32        6202.95                 0.0   \n2  10472.830000          9999.99         472.84                 0.0   \n3   5573.942773          5000.00         573.94                 0.0   \n4   5148.000000          3888.35        1259.65                 0.0   \n\n   last_pymnt_amnt tot_coll_amt  tot_cur_bal  total_rev_hi_lim  \n0           585.61          0.0     104064.0           30500.0  \n1           594.49          0.0     254150.0           63200.0  \n2            51.38          0.0      60834.0            4900.0  \n3          1346.07          0.0      19319.0           46400.0  \n4           205.95          0.0      30785.0           21700.0  \n\n[5 rows x 27 columns]",
      "text/html": "<div>\n<style scoped>\n    .dataframe tbody tr th:only-of-type {\n        vertical-align: middle;\n    }\n\n    .dataframe tbody tr th {\n        vertical-align: top;\n    }\n\n    .dataframe thead th {\n        text-align: right;\n    }\n</style>\n<table border=\"1\" class=\"dataframe\">\n  <thead>\n    <tr style=\"text-align: right;\">\n      <th></th>\n      <th>loan_amnt</th>\n      <th>funded_amnt</th>\n      <th>term</th>\n      <th>int_rate</th>\n      <th>installment</th>\n      <th>grade</th>\n      <th>sub_grade</th>\n      <th>emp_length</th>\n      <th>home_ownership</th>\n      <th>annual_inc</th>\n      <th>...</th>\n      <th>initial_list_status</th>\n      <th>out_prncp</th>\n      <th>total_pymnt</th>\n      <th>total_rec_prncp</th>\n      <th>total_rec_int</th>\n      <th>total_rec_late_fee</th>\n      <th>last_pymnt_amnt</th>\n      <th>tot_coll_amt</th>\n      <th>tot_cur_bal</th>\n      <th>total_rev_hi_lim</th>\n    </tr>\n  </thead>\n  <tbody>\n    <tr>\n      <th>0</th>\n      <td>25000</td>\n      <td>25000</td>\n      <td>60 months</td>\n      <td>14.30</td>\n      <td>585.61</td>\n      <td>C</td>\n      <td>C1</td>\n      <td>10+ years</td>\n      <td>MORTGAGE</td>\n      <td>60000.0</td>\n      <td>...</td>\n      <td>w</td>\n      <td>16678.72</td>\n      <td>14640.250000</td>\n      <td>8321.28</td>\n      <td>6318.97</td>\n      <td>0.0</td>\n      <td>585.61</td>\n      <td>0.0</td>\n      <td>104064.0</td>\n      <td>30500.0</td>\n    </tr>\n    <tr>\n      <th>1</th>\n      <td>25000</td>\n      <td>25000</td>\n      <td>60 months</td>\n      <td>14.98</td>\n      <td>594.49</td>\n      <td>C</td>\n      <td>C3</td>\n      <td>7 years</td>\n      <td>MORTGAGE</td>\n      <td>82000.0</td>\n      <td>...</td>\n      <td>f</td>\n      <td>17529.68</td>\n      <td>13673.270000</td>\n      <td>7470.32</td>\n      <td>6202.95</td>\n      <td>0.0</td>\n      <td>594.49</td>\n      <td>0.0</td>\n      <td>254150.0</td>\n      <td>63200.0</td>\n    </tr>\n    <tr>\n      <th>2</th>\n      <td>10000</td>\n      <td>10000</td>\n      <td>36 months</td>\n      <td>18.55</td>\n      <td>364.29</td>\n      <td>D</td>\n      <td>D2</td>\n      <td>10+ years</td>\n      <td>RENT</td>\n      <td>89000.0</td>\n      <td>...</td>\n      <td>w</td>\n      <td>0.00</td>\n      <td>10472.830000</td>\n      <td>9999.99</td>\n      <td>472.84</td>\n      <td>0.0</td>\n      <td>51.38</td>\n      <td>0.0</td>\n      <td>60834.0</td>\n      <td>4900.0</td>\n    </tr>\n    <tr>\n      <th>3</th>\n      <td>5000</td>\n      <td>5000</td>\n      <td>36 months</td>\n      <td>7.90</td>\n      <td>156.46</td>\n      <td>A</td>\n      <td>A4</td>\n      <td>3 years</td>\n      <td>OWN</td>\n      <td>80000.0</td>\n      <td>...</td>\n      <td>f</td>\n      <td>0.00</td>\n      <td>5573.942773</td>\n      <td>5000.00</td>\n      <td>573.94</td>\n      <td>0.0</td>\n      <td>1346.07</td>\n      <td>0.0</td>\n      <td>19319.0</td>\n      <td>46400.0</td>\n    </tr>\n    <tr>\n      <th>4</th>\n      <td>6000</td>\n      <td>6000</td>\n      <td>36 months</td>\n      <td>14.30</td>\n      <td>205.95</td>\n      <td>C</td>\n      <td>C1</td>\n      <td>8 years</td>\n      <td>RENT</td>\n      <td>75000.0</td>\n      <td>...</td>\n      <td>f</td>\n      <td>2111.65</td>\n      <td>5148.000000</td>\n      <td>3888.35</td>\n      <td>1259.65</td>\n      <td>0.0</td>\n      <td>205.95</td>\n      <td>0.0</td>\n      <td>30785.0</td>\n      <td>21700.0</td>\n    </tr>\n  </tbody>\n</table>\n<p>5 rows × 27 columns</p>\n</div>"
     },
     "execution_count": 10,
     "metadata": {},
     "output_type": "execute_result"
    }
   ],
   "source": [
    "x_train_c = dataset_c.drop(\"status\", axis=1)\n",
    "y_train = dataset_c[\"status\"]\n",
    "x_train_c.head()"
   ],
   "metadata": {
    "collapsed": false,
    "ExecuteTime": {
     "start_time": "2023-04-23T21:41:37.707015Z",
     "end_time": "2023-04-23T21:41:37.806145Z"
    }
   }
  },
  {
   "cell_type": "code",
   "execution_count": 11,
   "outputs": [
    {
     "data": {
      "text/plain": "          loan_amnt        funded_amnt        term     int_rate   \n0     (18000.0,inf)  (20429.0,25286.0)   60 months  (12.0,15.0)  \\\n1     (18000.0,inf)  (20429.0,25286.0)   60 months  (12.0,15.0)   \n2  (9500.0,18000.0)   (5857.0,10714.0)   36 months  (17.0,20.0)   \n3   (1000.0,9500.0)    (1000.0,5857.0)   36 months    (6.0,9.0)   \n4   (1000.0,9500.0)   (5857.0,10714.0)   36 months  (12.0,15.0)   \n\n     installment grade sub_grade emp_length home_ownership         annual_inc   \n0  (486.0,717.0)     C        C1  10+ years       MORTGAGE  (7000.0,178500.0)  \\\n1  (486.0,717.0)     C        C3    7 years       MORTGAGE  (7000.0,178500.0)   \n2  (254.0,486.0)     D        D2  10+ years           RENT  (7000.0,178500.0)   \n3   (23.0,254.0)     A        A4    3 years            OWN  (7000.0,178500.0)   \n4   (23.0,254.0)     C        C1    8 years           RENT  (7000.0,178500.0)   \n\n   ... initial_list_status        out_prncp        total_pymnt   \n0  ...                   w    (16080.0,inf)  (13786.0,25000.0)  \\\n1  ...                   f    (16080.0,inf)   (7000.0,13786.0)   \n2  ...                   w    (-inf,2000.0)   (7000.0,13786.0)   \n3  ...                   f    (-inf,2000.0)        (-inf,7000)   \n4  ...                   f  (2000.0,8040.0)        (-inf,7000)   \n\n    total_rec_prncp    total_rec_int total_rec_late_fee last_pymnt_amnt   \n0  (5833.0,11667.0)  (6139.0,9208.0)         (-inf,2.0)  (100.0,6007.0)  \\\n1  (5833.0,11667.0)  (6139.0,9208.0)         (-inf,2.0)  (100.0,6007.0)   \n2  (5833.0,11667.0)      (-inf,1000)         (-inf,2.0)    (-inf,100.0)   \n3   (2000.0,5833.0)      (-inf,1000)         (-inf,2.0)  (100.0,6007.0)   \n4   (2000.0,5833.0)  (1000.0,3069.0)         (-inf,2.0)  (100.0,6007.0)   \n\n    tot_coll_amt      tot_cur_bal   total_rev_hi_lim  \n0  (-inf,3000.0)  (-inf,500000.0)  (20000.0,40000.0)  \n1  (-inf,3000.0)  (-inf,500000.0)      (60000.0,inf)  \n2  (-inf,3000.0)  (-inf,500000.0)     (-inf,20000.0)  \n3  (-inf,3000.0)  (-inf,500000.0)  (40000.0,60000.0)  \n4  (-inf,3000.0)  (-inf,500000.0)  (20000.0,40000.0)  \n\n[5 rows x 27 columns]",
      "text/html": "<div>\n<style scoped>\n    .dataframe tbody tr th:only-of-type {\n        vertical-align: middle;\n    }\n\n    .dataframe tbody tr th {\n        vertical-align: top;\n    }\n\n    .dataframe thead th {\n        text-align: right;\n    }\n</style>\n<table border=\"1\" class=\"dataframe\">\n  <thead>\n    <tr style=\"text-align: right;\">\n      <th></th>\n      <th>loan_amnt</th>\n      <th>funded_amnt</th>\n      <th>term</th>\n      <th>int_rate</th>\n      <th>installment</th>\n      <th>grade</th>\n      <th>sub_grade</th>\n      <th>emp_length</th>\n      <th>home_ownership</th>\n      <th>annual_inc</th>\n      <th>...</th>\n      <th>initial_list_status</th>\n      <th>out_prncp</th>\n      <th>total_pymnt</th>\n      <th>total_rec_prncp</th>\n      <th>total_rec_int</th>\n      <th>total_rec_late_fee</th>\n      <th>last_pymnt_amnt</th>\n      <th>tot_coll_amt</th>\n      <th>tot_cur_bal</th>\n      <th>total_rev_hi_lim</th>\n    </tr>\n  </thead>\n  <tbody>\n    <tr>\n      <th>0</th>\n      <td>(18000.0,inf)</td>\n      <td>(20429.0,25286.0)</td>\n      <td>60 months</td>\n      <td>(12.0,15.0)</td>\n      <td>(486.0,717.0)</td>\n      <td>C</td>\n      <td>C1</td>\n      <td>10+ years</td>\n      <td>MORTGAGE</td>\n      <td>(7000.0,178500.0)</td>\n      <td>...</td>\n      <td>w</td>\n      <td>(16080.0,inf)</td>\n      <td>(13786.0,25000.0)</td>\n      <td>(5833.0,11667.0)</td>\n      <td>(6139.0,9208.0)</td>\n      <td>(-inf,2.0)</td>\n      <td>(100.0,6007.0)</td>\n      <td>(-inf,3000.0)</td>\n      <td>(-inf,500000.0)</td>\n      <td>(20000.0,40000.0)</td>\n    </tr>\n    <tr>\n      <th>1</th>\n      <td>(18000.0,inf)</td>\n      <td>(20429.0,25286.0)</td>\n      <td>60 months</td>\n      <td>(12.0,15.0)</td>\n      <td>(486.0,717.0)</td>\n      <td>C</td>\n      <td>C3</td>\n      <td>7 years</td>\n      <td>MORTGAGE</td>\n      <td>(7000.0,178500.0)</td>\n      <td>...</td>\n      <td>f</td>\n      <td>(16080.0,inf)</td>\n      <td>(7000.0,13786.0)</td>\n      <td>(5833.0,11667.0)</td>\n      <td>(6139.0,9208.0)</td>\n      <td>(-inf,2.0)</td>\n      <td>(100.0,6007.0)</td>\n      <td>(-inf,3000.0)</td>\n      <td>(-inf,500000.0)</td>\n      <td>(60000.0,inf)</td>\n    </tr>\n    <tr>\n      <th>2</th>\n      <td>(9500.0,18000.0)</td>\n      <td>(5857.0,10714.0)</td>\n      <td>36 months</td>\n      <td>(17.0,20.0)</td>\n      <td>(254.0,486.0)</td>\n      <td>D</td>\n      <td>D2</td>\n      <td>10+ years</td>\n      <td>RENT</td>\n      <td>(7000.0,178500.0)</td>\n      <td>...</td>\n      <td>w</td>\n      <td>(-inf,2000.0)</td>\n      <td>(7000.0,13786.0)</td>\n      <td>(5833.0,11667.0)</td>\n      <td>(-inf,1000)</td>\n      <td>(-inf,2.0)</td>\n      <td>(-inf,100.0)</td>\n      <td>(-inf,3000.0)</td>\n      <td>(-inf,500000.0)</td>\n      <td>(-inf,20000.0)</td>\n    </tr>\n    <tr>\n      <th>3</th>\n      <td>(1000.0,9500.0)</td>\n      <td>(1000.0,5857.0)</td>\n      <td>36 months</td>\n      <td>(6.0,9.0)</td>\n      <td>(23.0,254.0)</td>\n      <td>A</td>\n      <td>A4</td>\n      <td>3 years</td>\n      <td>OWN</td>\n      <td>(7000.0,178500.0)</td>\n      <td>...</td>\n      <td>f</td>\n      <td>(-inf,2000.0)</td>\n      <td>(-inf,7000)</td>\n      <td>(2000.0,5833.0)</td>\n      <td>(-inf,1000)</td>\n      <td>(-inf,2.0)</td>\n      <td>(100.0,6007.0)</td>\n      <td>(-inf,3000.0)</td>\n      <td>(-inf,500000.0)</td>\n      <td>(40000.0,60000.0)</td>\n    </tr>\n    <tr>\n      <th>4</th>\n      <td>(1000.0,9500.0)</td>\n      <td>(5857.0,10714.0)</td>\n      <td>36 months</td>\n      <td>(12.0,15.0)</td>\n      <td>(23.0,254.0)</td>\n      <td>C</td>\n      <td>C1</td>\n      <td>8 years</td>\n      <td>RENT</td>\n      <td>(7000.0,178500.0)</td>\n      <td>...</td>\n      <td>f</td>\n      <td>(2000.0,8040.0)</td>\n      <td>(-inf,7000)</td>\n      <td>(2000.0,5833.0)</td>\n      <td>(1000.0,3069.0)</td>\n      <td>(-inf,2.0)</td>\n      <td>(100.0,6007.0)</td>\n      <td>(-inf,3000.0)</td>\n      <td>(-inf,500000.0)</td>\n      <td>(20000.0,40000.0)</td>\n    </tr>\n  </tbody>\n</table>\n<p>5 rows × 27 columns</p>\n</div>"
     },
     "execution_count": 11,
     "metadata": {},
     "output_type": "execute_result"
    }
   ],
   "source": [
    "x_train_b = binning_t.transform(x_train_c)\n",
    "x_train_b.head()"
   ],
   "metadata": {
    "collapsed": false,
    "ExecuteTime": {
     "start_time": "2023-04-23T21:41:37.766144Z",
     "end_time": "2023-04-23T21:41:38.920414Z"
    }
   }
  },
  {
   "cell_type": "code",
   "execution_count": 12,
   "outputs": [
    {
     "data": {
      "text/plain": "WOETransformer(columns=['loan_amnt', 'funded_amnt', 'term', 'int_rate', 'installment', 'grade', 'sub_grade', 'emp_length', 'home_ownership', 'annual_inc', 'verification_status', 'purpose', 'addr_state', 'dti', 'revol_bal', 'revol_util', 'total_acc', 'initial_list_status', 'out_prncp', 'total_pymnt', 'total_rec_prncp', 'total_rec_int', 'total_rec_late_fee', 'last_pymnt_amnt', 'tot_coll_amt', 'tot_cur_bal', 'total_rev_hi_lim', 'status'], target_mappings={0: 'good', 1: 'bad'})"
     },
     "execution_count": 12,
     "metadata": {},
     "output_type": "execute_result"
    }
   ],
   "source": [
    "woe_t.fit(x_train_b, y_train)\n"
   ],
   "metadata": {
    "collapsed": false,
    "ExecuteTime": {
     "start_time": "2023-04-23T21:41:38.920414Z",
     "end_time": "2023-04-23T21:41:41.638936Z"
    }
   }
  },
  {
   "cell_type": "code",
   "execution_count": 13,
   "outputs": [
    {
     "data": {
      "text/plain": "loan_amnt\n(9500.0,18000.0)    30926\n(18000.0,inf)       23735\n(1000.0,9500.0)     20541\n(-inf,1000.0)         160\nName: count, dtype: int64"
     },
     "execution_count": 13,
     "metadata": {},
     "output_type": "execute_result"
    }
   ],
   "source": [
    "x_train_b[\"loan_amnt\"].value_counts()"
   ],
   "metadata": {
    "collapsed": false,
    "ExecuteTime": {
     "start_time": "2023-04-23T21:41:41.641939Z",
     "end_time": "2023-04-23T21:41:41.655886Z"
    }
   }
  },
  {
   "cell_type": "code",
   "execution_count": 14,
   "outputs": [
    {
     "name": "stdout",
     "output_type": "stream",
     "text": [
      "['(18000.0,inf)', '(9500.0,18000.0)', '(1000.0,9500.0)', '(-inf,1000.0)']\n",
      "['(25286.0,inf)', '(15571.0,20429.0)', '(10714.0,15571.0)', '(20429.0,25286.0)', '(5857.0,10714.0)', '(1000.0,5857.0)', '(-inf,1000.0)']\n",
      "[' 60 months', ' 36 months']\n",
      "['(20.0,inf)', '(17.0,20.0)', '(15.0,17.0)', '(12.0,15.0)', '(9.0,12.0)', '(-inf,6.0)', '(6.0,9.0)']\n",
      "['(948.0,inf)', '(486.0,717.0)', '(254.0,486.0)', '(717.0,948.0)', '(23.0,254.0)']\n",
      "['G', 'F', 'E', 'D', 'C', 'B', 'A']\n",
      "['G1', 'F5', 'G2', 'G5', 'G3', 'F3', 'F4', 'E5', 'F2', 'E4', 'F1', 'G4', 'E3', 'E2', 'D5', 'D4', 'E1', 'D2', 'D3', 'D1', 'C4', 'C5', 'C3', 'C2', 'C1', 'B5', 'B4', 'B3', 'B2', 'B1', 'A5', 'A4', 'A3', 'A2', 'A1']\n",
      "['< 1 year', '6 years', '5 years', '9 years', '7 years', '8 years', '2 years', '3 years', '1 year', '4 years', '10+ years']\n",
      "['NONE', 'OTHER', 'RENT', 'OWN', 'MORTGAGE']\n",
      "['(7000.0,178500.0)', '(178500.0,350000.0)', '(521500.0,693000.0)', '(350000.0,521500.0)', '(693000.0,inf)']\n",
      "['Verified', 'Source Verified', 'Not Verified']\n",
      "['small_business', 'house', 'moving', 'other', 'medical', 'wedding', 'renewable_energy', 'debt_consolidation', 'vacation', 'home_improvement', 'major_purchase', 'credit_card', 'car']\n",
      "['NV', 'HI', 'SD', 'TN', 'LA', 'FL', 'AL', 'VA', 'NY', 'MN', 'OK', 'NC', 'KY', 'MO', 'MD', 'AR', 'IN', 'NJ', 'DE', 'CA', 'PA', 'AZ', 'MI', 'MA', 'NM', 'OH', 'UT', 'GA', 'OR', 'WA', 'KS', 'TX', 'IL', 'RI', 'CO', 'WI', 'MT', 'CT', 'WY', 'SC', 'DC', 'MS', 'WV', 'NH', 'VT', 'AK']\n",
      "['(27.0,inf)', '(20.0,27.0)', '(13.0,20.0)', '(7.0,13.0)', '(-inf,3.0)', '(3.0,7.0)']\n",
      "['(-inf,10000.0)', '(500000.0,700000.0)', '(10000.0,500000.0)', '(700000.0,inf)']\n",
      "['(74.0,inf)', '(37.0,74.0)', '(15.0,37.0)', '(-inf,15.0)']\n",
      "['(87.0,108.0)', '(-inf,12.0)', '(65.0,87.0)', '(12.0,23.0)', '(44.0,65.0)', '(23.0,44.0)']\n",
      "['f', 'w']\n",
      "['(-inf,2000.0)', '(16080.0,inf)', '(8040.0,16080.0)', '(2000.0,8040.0)']\n",
      "['(-inf,7000)', '(7000.0,13786.0)', '(13786.0,25000.0)', '(25000.0,inf)']\n",
      "['(-inf,2000.0)', '(2000.0,5833.0)', '(5833.0,11667.0)', '(11667.0,17500.0)', '(17500.0,22000.0)', '(22000.0,inf)']\n",
      "['(-inf,1000)', '(1000.0,3069.0)', '(3069.0,6139.0)', '(6139.0,9208.0)', '(12277.0,14000.0)', '(9208.0,12277.0)', '(14000.0,inf)']\n",
      "['(40.0,60.0)', '(60.0,90.0)', '(2.0,40.0)', '(90.0,inf)', '(-inf,2.0)']\n",
      "['(-inf,100.0)', '(100.0,6007.0)', '(18022.0,23000.0)', '(23000.0,inf)', '(12015.0,18022.0)', '(6007.0,12015.0)']\n",
      "['(-inf,3000.0)', '(47903.0,62000.0)', '(3000.0,15968.0)', '(62000.0,inf)', '(15968.0,31935.0)', '(31935.0,47903.0)']\n",
      "['(-inf,500000.0)', '(1500000.0,inf)', '(500000.0,960199.0)', '(960199.0,1500000.0)']\n",
      "['(-inf,20000.0)', '(20000.0,40000.0)', '(40000.0,60000.0)', '(60000.0,inf)']\n"
     ]
    },
    {
     "data": {
      "text/plain": "   loan_amnt  funded_amnt      term  int_rate  installment     grade   \n0  -0.052340     0.006831 -0.260854  0.148548    -0.070657 -0.053435  \\\n1  -0.052340     0.006831 -0.260854  0.148548    -0.070657 -0.053435   \n2  -0.010994     0.026456  0.124963 -0.550966    -0.024024 -0.418535   \n3   0.073545     0.109302  0.124963  1.282256     0.178507  1.273492   \n4   0.073545     0.026456  0.124963  0.148548     0.178507 -0.053435   \n\n   sub_grade  emp_length  home_ownership  annual_inc  ...   \n0   0.113274    0.102840        0.143572    -0.01175  ...  \\\n1  -0.079615   -0.054376        0.143572    -0.01175  ...   \n2  -0.419312    0.102840       -0.174877    -0.01175  ...   \n3   1.113490   -0.031643        0.041779    -0.01175  ...   \n4   0.113274   -0.042903       -0.174877    -0.01175  ...   \n\n   initial_list_status  out_prncp  total_pymnt  total_rec_prncp   \n0             0.149141   0.883355     0.916576         0.747297  \\\n1            -0.095630   0.883355     0.253832         0.747297   \n2             0.149141  -0.622209     0.253832         0.747297   \n3            -0.095630  -0.622209    -0.643936        -0.250153   \n4            -0.095630   1.290653    -0.643936        -0.250153   \n\n   total_rec_int  total_rec_late_fee  last_pymnt_amnt  tot_coll_amt   \n0       0.125020            0.082051        -0.218153     -0.003029  \\\n1       0.125020            0.082051        -0.218153     -0.003029   \n2      -0.173128            0.082051        -0.503628     -0.003029   \n3      -0.173128            0.082051        -0.218153     -0.003029   \n4       0.037963            0.082051        -0.218153     -0.003029   \n\n   tot_cur_bal  total_rev_hi_lim  \n0    -0.014988         -0.006193  \n1    -0.014988          0.490093  \n2    -0.014988         -0.135211  \n3    -0.014988          0.198870  \n4    -0.014988         -0.006193  \n\n[5 rows x 27 columns]",
      "text/html": "<div>\n<style scoped>\n    .dataframe tbody tr th:only-of-type {\n        vertical-align: middle;\n    }\n\n    .dataframe tbody tr th {\n        vertical-align: top;\n    }\n\n    .dataframe thead th {\n        text-align: right;\n    }\n</style>\n<table border=\"1\" class=\"dataframe\">\n  <thead>\n    <tr style=\"text-align: right;\">\n      <th></th>\n      <th>loan_amnt</th>\n      <th>funded_amnt</th>\n      <th>term</th>\n      <th>int_rate</th>\n      <th>installment</th>\n      <th>grade</th>\n      <th>sub_grade</th>\n      <th>emp_length</th>\n      <th>home_ownership</th>\n      <th>annual_inc</th>\n      <th>...</th>\n      <th>initial_list_status</th>\n      <th>out_prncp</th>\n      <th>total_pymnt</th>\n      <th>total_rec_prncp</th>\n      <th>total_rec_int</th>\n      <th>total_rec_late_fee</th>\n      <th>last_pymnt_amnt</th>\n      <th>tot_coll_amt</th>\n      <th>tot_cur_bal</th>\n      <th>total_rev_hi_lim</th>\n    </tr>\n  </thead>\n  <tbody>\n    <tr>\n      <th>0</th>\n      <td>-0.052340</td>\n      <td>0.006831</td>\n      <td>-0.260854</td>\n      <td>0.148548</td>\n      <td>-0.070657</td>\n      <td>-0.053435</td>\n      <td>0.113274</td>\n      <td>0.102840</td>\n      <td>0.143572</td>\n      <td>-0.01175</td>\n      <td>...</td>\n      <td>0.149141</td>\n      <td>0.883355</td>\n      <td>0.916576</td>\n      <td>0.747297</td>\n      <td>0.125020</td>\n      <td>0.082051</td>\n      <td>-0.218153</td>\n      <td>-0.003029</td>\n      <td>-0.014988</td>\n      <td>-0.006193</td>\n    </tr>\n    <tr>\n      <th>1</th>\n      <td>-0.052340</td>\n      <td>0.006831</td>\n      <td>-0.260854</td>\n      <td>0.148548</td>\n      <td>-0.070657</td>\n      <td>-0.053435</td>\n      <td>-0.079615</td>\n      <td>-0.054376</td>\n      <td>0.143572</td>\n      <td>-0.01175</td>\n      <td>...</td>\n      <td>-0.095630</td>\n      <td>0.883355</td>\n      <td>0.253832</td>\n      <td>0.747297</td>\n      <td>0.125020</td>\n      <td>0.082051</td>\n      <td>-0.218153</td>\n      <td>-0.003029</td>\n      <td>-0.014988</td>\n      <td>0.490093</td>\n    </tr>\n    <tr>\n      <th>2</th>\n      <td>-0.010994</td>\n      <td>0.026456</td>\n      <td>0.124963</td>\n      <td>-0.550966</td>\n      <td>-0.024024</td>\n      <td>-0.418535</td>\n      <td>-0.419312</td>\n      <td>0.102840</td>\n      <td>-0.174877</td>\n      <td>-0.01175</td>\n      <td>...</td>\n      <td>0.149141</td>\n      <td>-0.622209</td>\n      <td>0.253832</td>\n      <td>0.747297</td>\n      <td>-0.173128</td>\n      <td>0.082051</td>\n      <td>-0.503628</td>\n      <td>-0.003029</td>\n      <td>-0.014988</td>\n      <td>-0.135211</td>\n    </tr>\n    <tr>\n      <th>3</th>\n      <td>0.073545</td>\n      <td>0.109302</td>\n      <td>0.124963</td>\n      <td>1.282256</td>\n      <td>0.178507</td>\n      <td>1.273492</td>\n      <td>1.113490</td>\n      <td>-0.031643</td>\n      <td>0.041779</td>\n      <td>-0.01175</td>\n      <td>...</td>\n      <td>-0.095630</td>\n      <td>-0.622209</td>\n      <td>-0.643936</td>\n      <td>-0.250153</td>\n      <td>-0.173128</td>\n      <td>0.082051</td>\n      <td>-0.218153</td>\n      <td>-0.003029</td>\n      <td>-0.014988</td>\n      <td>0.198870</td>\n    </tr>\n    <tr>\n      <th>4</th>\n      <td>0.073545</td>\n      <td>0.026456</td>\n      <td>0.124963</td>\n      <td>0.148548</td>\n      <td>0.178507</td>\n      <td>-0.053435</td>\n      <td>0.113274</td>\n      <td>-0.042903</td>\n      <td>-0.174877</td>\n      <td>-0.01175</td>\n      <td>...</td>\n      <td>-0.095630</td>\n      <td>1.290653</td>\n      <td>-0.643936</td>\n      <td>-0.250153</td>\n      <td>0.037963</td>\n      <td>0.082051</td>\n      <td>-0.218153</td>\n      <td>-0.003029</td>\n      <td>-0.014988</td>\n      <td>-0.006193</td>\n    </tr>\n  </tbody>\n</table>\n<p>5 rows × 27 columns</p>\n</div>"
     },
     "execution_count": 14,
     "metadata": {},
     "output_type": "execute_result"
    }
   ],
   "source": [
    "\n",
    "woe_t.transform(x_train_b).head()"
   ],
   "metadata": {
    "collapsed": false,
    "ExecuteTime": {
     "start_time": "2023-04-23T21:41:41.657886Z",
     "end_time": "2023-04-23T21:42:06.626858Z"
    }
   }
  },
  {
   "cell_type": "markdown",
   "source": [
    "woe_t.transform(x_train_b).head()\n",
    "# WOE\n",
    "\n",
    "Now that we transform our data to the respective Weight of Evidence, we can get the mappings for a given column to analyze the WoE and IV, and determine if our bins have a good predictive power, or if we need to re-structure them."
   ],
   "metadata": {
    "collapsed": false
   }
  },
  {
   "cell_type": "code",
   "execution_count": 15,
   "outputs": [
    {
     "name": "stdout",
     "output_type": "stream",
     "text": [
      "loan_amnt : 0.002823177930882114\n",
      "funded_amnt : 0.003900156836676852\n",
      "term : 0.0325089590182481\n",
      "int_rate : 0.3738874187971468\n",
      "installment : 0.00905740376902571\n",
      "grade : 0.31851996178469905\n",
      "sub_grade : 0.3489671658529929\n",
      "emp_length : 0.006405671593878077\n",
      "home_ownership : 0.023373717097461923\n",
      "annual_inc : 0.005800187221555119\n",
      "verification_status : 0.026829507506928148\n",
      "purpose : 0.028198574288290573\n",
      "addr_state : 0.011918812018158462\n",
      "dti : 0.035470914795251954\n",
      "revol_bal : 0.0010715954054251566\n",
      "revol_util : 0.017626268152784914\n",
      "total_acc : 0.00344222994167691\n",
      "initial_list_status : 0.01424544759039011\n",
      "out_prncp : 0.6835883125122555\n",
      "total_pymnt : 0.484381275955703\n",
      "total_rec_prncp : 1.3266573265722617\n",
      "total_rec_int : 0.013136672853404259\n",
      "total_rec_late_fee : 0.16842238999377374\n",
      "last_pymnt_amnt : 1.1355782705288646\n",
      "tot_coll_amt : 0.0014278232575042047\n",
      "tot_cur_bal : 0.010200441324847815\n",
      "total_rev_hi_lim : 0.03215424566140417\n",
      "status : 0.0\n"
     ]
    }
   ],
   "source": [
    "for i in cols_to_keep:\n",
    "       print(i,\":\",woe_t.woe_mappings[i][\"info_val\"].sum())"
   ],
   "metadata": {
    "collapsed": false,
    "ExecuteTime": {
     "start_time": "2023-04-23T21:42:06.626858Z",
     "end_time": "2023-04-23T21:42:06.640473Z"
    }
   }
  },
  {
   "cell_type": "code",
   "execution_count": 24,
   "outputs": [
    {
     "data": {
      "text/plain": "      int_rate      good       bad       woe  info_val\n4   (20.0,inf)  0.085481  0.197314 -0.836507  0.093550\n3  (17.0,20.0)  0.132056  0.229108 -0.550966  0.053472\n2  (15.0,17.0)  0.140761  0.180781 -0.250225  0.010014\n1  (12.0,15.0)  0.291261  0.251055  0.148548  0.005972\n6   (9.0,12.0)  0.189565  0.097105  0.668943  0.061851\n0   (-inf,6.0)  0.000159  0.000053  1.098612  0.000117\n5    (6.0,9.0)  0.160718  0.044585  1.282256  0.148912",
      "text/html": "<div>\n<style scoped>\n    .dataframe tbody tr th:only-of-type {\n        vertical-align: middle;\n    }\n\n    .dataframe tbody tr th {\n        vertical-align: top;\n    }\n\n    .dataframe thead th {\n        text-align: right;\n    }\n</style>\n<table border=\"1\" class=\"dataframe\">\n  <thead>\n    <tr style=\"text-align: right;\">\n      <th></th>\n      <th>int_rate</th>\n      <th>good</th>\n      <th>bad</th>\n      <th>woe</th>\n      <th>info_val</th>\n    </tr>\n  </thead>\n  <tbody>\n    <tr>\n      <th>4</th>\n      <td>(20.0,inf)</td>\n      <td>0.085481</td>\n      <td>0.197314</td>\n      <td>-0.836507</td>\n      <td>0.093550</td>\n    </tr>\n    <tr>\n      <th>3</th>\n      <td>(17.0,20.0)</td>\n      <td>0.132056</td>\n      <td>0.229108</td>\n      <td>-0.550966</td>\n      <td>0.053472</td>\n    </tr>\n    <tr>\n      <th>2</th>\n      <td>(15.0,17.0)</td>\n      <td>0.140761</td>\n      <td>0.180781</td>\n      <td>-0.250225</td>\n      <td>0.010014</td>\n    </tr>\n    <tr>\n      <th>1</th>\n      <td>(12.0,15.0)</td>\n      <td>0.291261</td>\n      <td>0.251055</td>\n      <td>0.148548</td>\n      <td>0.005972</td>\n    </tr>\n    <tr>\n      <th>6</th>\n      <td>(9.0,12.0)</td>\n      <td>0.189565</td>\n      <td>0.097105</td>\n      <td>0.668943</td>\n      <td>0.061851</td>\n    </tr>\n    <tr>\n      <th>0</th>\n      <td>(-inf,6.0)</td>\n      <td>0.000159</td>\n      <td>0.000053</td>\n      <td>1.098612</td>\n      <td>0.000117</td>\n    </tr>\n    <tr>\n      <th>5</th>\n      <td>(6.0,9.0)</td>\n      <td>0.160718</td>\n      <td>0.044585</td>\n      <td>1.282256</td>\n      <td>0.148912</td>\n    </tr>\n  </tbody>\n</table>\n</div>"
     },
     "execution_count": 24,
     "metadata": {},
     "output_type": "execute_result"
    }
   ],
   "source": [
    "woe_t.woe_mappings[\"int_rate\"]"
   ],
   "metadata": {
    "collapsed": false,
    "ExecuteTime": {
     "start_time": "2023-04-23T21:42:17.925349Z",
     "end_time": "2023-04-23T21:42:17.967127Z"
    }
   }
  },
  {
   "cell_type": "code",
   "execution_count": 25,
   "outputs": [
    {
     "data": {
      "text/plain": "  grade      good       bad       woe  info_val\n6     G  0.005971  0.017569 -1.079165  0.012515\n5     F  0.026326  0.064170 -0.890973  0.033718\n4     E  0.071203  0.141132 -0.684162  0.047843\n3     D  0.159364  0.242191 -0.418535  0.034666\n2     C  0.278496  0.293782 -0.053435  0.000817\n1     B  0.300178  0.196810  0.422136  0.043635\n0     A  0.158462  0.044346  1.273492  0.145326",
      "text/html": "<div>\n<style scoped>\n    .dataframe tbody tr th:only-of-type {\n        vertical-align: middle;\n    }\n\n    .dataframe tbody tr th {\n        vertical-align: top;\n    }\n\n    .dataframe thead th {\n        text-align: right;\n    }\n</style>\n<table border=\"1\" class=\"dataframe\">\n  <thead>\n    <tr style=\"text-align: right;\">\n      <th></th>\n      <th>grade</th>\n      <th>good</th>\n      <th>bad</th>\n      <th>woe</th>\n      <th>info_val</th>\n    </tr>\n  </thead>\n  <tbody>\n    <tr>\n      <th>6</th>\n      <td>G</td>\n      <td>0.005971</td>\n      <td>0.017569</td>\n      <td>-1.079165</td>\n      <td>0.012515</td>\n    </tr>\n    <tr>\n      <th>5</th>\n      <td>F</td>\n      <td>0.026326</td>\n      <td>0.064170</td>\n      <td>-0.890973</td>\n      <td>0.033718</td>\n    </tr>\n    <tr>\n      <th>4</th>\n      <td>E</td>\n      <td>0.071203</td>\n      <td>0.141132</td>\n      <td>-0.684162</td>\n      <td>0.047843</td>\n    </tr>\n    <tr>\n      <th>3</th>\n      <td>D</td>\n      <td>0.159364</td>\n      <td>0.242191</td>\n      <td>-0.418535</td>\n      <td>0.034666</td>\n    </tr>\n    <tr>\n      <th>2</th>\n      <td>C</td>\n      <td>0.278496</td>\n      <td>0.293782</td>\n      <td>-0.053435</td>\n      <td>0.000817</td>\n    </tr>\n    <tr>\n      <th>1</th>\n      <td>B</td>\n      <td>0.300178</td>\n      <td>0.196810</td>\n      <td>0.422136</td>\n      <td>0.043635</td>\n    </tr>\n    <tr>\n      <th>0</th>\n      <td>A</td>\n      <td>0.158462</td>\n      <td>0.044346</td>\n      <td>1.273492</td>\n      <td>0.145326</td>\n    </tr>\n  </tbody>\n</table>\n</div>"
     },
     "execution_count": 25,
     "metadata": {},
     "output_type": "execute_result"
    }
   ],
   "source": [
    "woe_t.woe_mappings[\"grade\"]"
   ],
   "metadata": {
    "collapsed": false,
    "ExecuteTime": {
     "start_time": "2023-04-23T21:42:20.456165Z",
     "end_time": "2023-04-23T21:42:20.495609Z"
    }
   }
  },
  {
   "cell_type": "code",
   "execution_count": 26,
   "outputs": [
    {
     "data": {
      "text/plain": "   sub_grade      good       bad       woe  info_val\n30        G1  0.001884  0.006396 -1.222117  0.005514\n29        F5  0.002627  0.008864 -1.216021  0.007584\n31        G2  0.001353  0.004113 -1.111599  0.003068\n34        G5  0.000690  0.002017 -1.072637  0.001423\n32        G3  0.001194  0.003370 -1.037525  0.002258\n27        F3  0.005281  0.013933 -0.970093  0.008393\n28        F4  0.004273  0.010589 -0.907557  0.005732\n24        E5  0.009474  0.022664 -0.872195  0.011504\n26        F2  0.006183  0.014119 -0.825605  0.006551\n23        E4  0.011518  0.025955 -0.812465  0.011730\n25        F1  0.007962  0.016666 -0.738758  0.006431\n33        G4  0.000849  0.001672 -0.677399  0.000557\n22        E3  0.014119  0.027361 -0.661641  0.008762\n21        E2  0.017834  0.034474 -0.659092  0.010967\n19        D5  0.023142  0.039675 -0.539092  0.008913\n18        D4  0.028396  0.047849 -0.521793  0.010150\n20        E1  0.018259  0.030679 -0.518932  0.006445\n16        D2  0.033624  0.051140 -0.419312  0.007344\n17        D3  0.030174  0.044717 -0.393372  0.005721\n15        D1  0.044027  0.058809 -0.289489  0.004279\n13        C4  0.051511  0.062737 -0.197152  0.002213\n14        C5  0.051856  0.062233 -0.182407  0.001893\n12        C3  0.057323  0.062074 -0.079615  0.000378\n11        C2  0.059818  0.054961  0.084675  0.000411\n10        C1  0.057987  0.051777  0.113274  0.000703\n9         B5  0.053794  0.042754  0.229702  0.002536\n8         B4  0.066134  0.050291  0.273867  0.004339\n7         B3  0.065710  0.044532  0.389042  0.008239\n6         B2  0.062233  0.034474  0.590691  0.016397\n5         B1  0.052308  0.024760  0.747891  0.020602\n4         A5  0.047053  0.018232  0.948094  0.027325\n3         A4  0.037738  0.012394  1.113490  0.028221\n2         A3  0.026459  0.006024  1.479801  0.030239\n1         A2  0.023805  0.004379  1.693110  0.032891\n0         A1  0.023407  0.003317  1.953878  0.039253",
      "text/html": "<div>\n<style scoped>\n    .dataframe tbody tr th:only-of-type {\n        vertical-align: middle;\n    }\n\n    .dataframe tbody tr th {\n        vertical-align: top;\n    }\n\n    .dataframe thead th {\n        text-align: right;\n    }\n</style>\n<table border=\"1\" class=\"dataframe\">\n  <thead>\n    <tr style=\"text-align: right;\">\n      <th></th>\n      <th>sub_grade</th>\n      <th>good</th>\n      <th>bad</th>\n      <th>woe</th>\n      <th>info_val</th>\n    </tr>\n  </thead>\n  <tbody>\n    <tr>\n      <th>30</th>\n      <td>G1</td>\n      <td>0.001884</td>\n      <td>0.006396</td>\n      <td>-1.222117</td>\n      <td>0.005514</td>\n    </tr>\n    <tr>\n      <th>29</th>\n      <td>F5</td>\n      <td>0.002627</td>\n      <td>0.008864</td>\n      <td>-1.216021</td>\n      <td>0.007584</td>\n    </tr>\n    <tr>\n      <th>31</th>\n      <td>G2</td>\n      <td>0.001353</td>\n      <td>0.004113</td>\n      <td>-1.111599</td>\n      <td>0.003068</td>\n    </tr>\n    <tr>\n      <th>34</th>\n      <td>G5</td>\n      <td>0.000690</td>\n      <td>0.002017</td>\n      <td>-1.072637</td>\n      <td>0.001423</td>\n    </tr>\n    <tr>\n      <th>32</th>\n      <td>G3</td>\n      <td>0.001194</td>\n      <td>0.003370</td>\n      <td>-1.037525</td>\n      <td>0.002258</td>\n    </tr>\n    <tr>\n      <th>27</th>\n      <td>F3</td>\n      <td>0.005281</td>\n      <td>0.013933</td>\n      <td>-0.970093</td>\n      <td>0.008393</td>\n    </tr>\n    <tr>\n      <th>28</th>\n      <td>F4</td>\n      <td>0.004273</td>\n      <td>0.010589</td>\n      <td>-0.907557</td>\n      <td>0.005732</td>\n    </tr>\n    <tr>\n      <th>24</th>\n      <td>E5</td>\n      <td>0.009474</td>\n      <td>0.022664</td>\n      <td>-0.872195</td>\n      <td>0.011504</td>\n    </tr>\n    <tr>\n      <th>26</th>\n      <td>F2</td>\n      <td>0.006183</td>\n      <td>0.014119</td>\n      <td>-0.825605</td>\n      <td>0.006551</td>\n    </tr>\n    <tr>\n      <th>23</th>\n      <td>E4</td>\n      <td>0.011518</td>\n      <td>0.025955</td>\n      <td>-0.812465</td>\n      <td>0.011730</td>\n    </tr>\n    <tr>\n      <th>25</th>\n      <td>F1</td>\n      <td>0.007962</td>\n      <td>0.016666</td>\n      <td>-0.738758</td>\n      <td>0.006431</td>\n    </tr>\n    <tr>\n      <th>33</th>\n      <td>G4</td>\n      <td>0.000849</td>\n      <td>0.001672</td>\n      <td>-0.677399</td>\n      <td>0.000557</td>\n    </tr>\n    <tr>\n      <th>22</th>\n      <td>E3</td>\n      <td>0.014119</td>\n      <td>0.027361</td>\n      <td>-0.661641</td>\n      <td>0.008762</td>\n    </tr>\n    <tr>\n      <th>21</th>\n      <td>E2</td>\n      <td>0.017834</td>\n      <td>0.034474</td>\n      <td>-0.659092</td>\n      <td>0.010967</td>\n    </tr>\n    <tr>\n      <th>19</th>\n      <td>D5</td>\n      <td>0.023142</td>\n      <td>0.039675</td>\n      <td>-0.539092</td>\n      <td>0.008913</td>\n    </tr>\n    <tr>\n      <th>18</th>\n      <td>D4</td>\n      <td>0.028396</td>\n      <td>0.047849</td>\n      <td>-0.521793</td>\n      <td>0.010150</td>\n    </tr>\n    <tr>\n      <th>20</th>\n      <td>E1</td>\n      <td>0.018259</td>\n      <td>0.030679</td>\n      <td>-0.518932</td>\n      <td>0.006445</td>\n    </tr>\n    <tr>\n      <th>16</th>\n      <td>D2</td>\n      <td>0.033624</td>\n      <td>0.051140</td>\n      <td>-0.419312</td>\n      <td>0.007344</td>\n    </tr>\n    <tr>\n      <th>17</th>\n      <td>D3</td>\n      <td>0.030174</td>\n      <td>0.044717</td>\n      <td>-0.393372</td>\n      <td>0.005721</td>\n    </tr>\n    <tr>\n      <th>15</th>\n      <td>D1</td>\n      <td>0.044027</td>\n      <td>0.058809</td>\n      <td>-0.289489</td>\n      <td>0.004279</td>\n    </tr>\n    <tr>\n      <th>13</th>\n      <td>C4</td>\n      <td>0.051511</td>\n      <td>0.062737</td>\n      <td>-0.197152</td>\n      <td>0.002213</td>\n    </tr>\n    <tr>\n      <th>14</th>\n      <td>C5</td>\n      <td>0.051856</td>\n      <td>0.062233</td>\n      <td>-0.182407</td>\n      <td>0.001893</td>\n    </tr>\n    <tr>\n      <th>12</th>\n      <td>C3</td>\n      <td>0.057323</td>\n      <td>0.062074</td>\n      <td>-0.079615</td>\n      <td>0.000378</td>\n    </tr>\n    <tr>\n      <th>11</th>\n      <td>C2</td>\n      <td>0.059818</td>\n      <td>0.054961</td>\n      <td>0.084675</td>\n      <td>0.000411</td>\n    </tr>\n    <tr>\n      <th>10</th>\n      <td>C1</td>\n      <td>0.057987</td>\n      <td>0.051777</td>\n      <td>0.113274</td>\n      <td>0.000703</td>\n    </tr>\n    <tr>\n      <th>9</th>\n      <td>B5</td>\n      <td>0.053794</td>\n      <td>0.042754</td>\n      <td>0.229702</td>\n      <td>0.002536</td>\n    </tr>\n    <tr>\n      <th>8</th>\n      <td>B4</td>\n      <td>0.066134</td>\n      <td>0.050291</td>\n      <td>0.273867</td>\n      <td>0.004339</td>\n    </tr>\n    <tr>\n      <th>7</th>\n      <td>B3</td>\n      <td>0.065710</td>\n      <td>0.044532</td>\n      <td>0.389042</td>\n      <td>0.008239</td>\n    </tr>\n    <tr>\n      <th>6</th>\n      <td>B2</td>\n      <td>0.062233</td>\n      <td>0.034474</td>\n      <td>0.590691</td>\n      <td>0.016397</td>\n    </tr>\n    <tr>\n      <th>5</th>\n      <td>B1</td>\n      <td>0.052308</td>\n      <td>0.024760</td>\n      <td>0.747891</td>\n      <td>0.020602</td>\n    </tr>\n    <tr>\n      <th>4</th>\n      <td>A5</td>\n      <td>0.047053</td>\n      <td>0.018232</td>\n      <td>0.948094</td>\n      <td>0.027325</td>\n    </tr>\n    <tr>\n      <th>3</th>\n      <td>A4</td>\n      <td>0.037738</td>\n      <td>0.012394</td>\n      <td>1.113490</td>\n      <td>0.028221</td>\n    </tr>\n    <tr>\n      <th>2</th>\n      <td>A3</td>\n      <td>0.026459</td>\n      <td>0.006024</td>\n      <td>1.479801</td>\n      <td>0.030239</td>\n    </tr>\n    <tr>\n      <th>1</th>\n      <td>A2</td>\n      <td>0.023805</td>\n      <td>0.004379</td>\n      <td>1.693110</td>\n      <td>0.032891</td>\n    </tr>\n    <tr>\n      <th>0</th>\n      <td>A1</td>\n      <td>0.023407</td>\n      <td>0.003317</td>\n      <td>1.953878</td>\n      <td>0.039253</td>\n    </tr>\n  </tbody>\n</table>\n</div>"
     },
     "execution_count": 26,
     "metadata": {},
     "output_type": "execute_result"
    }
   ],
   "source": [
    "woe_t.woe_mappings[\"sub_grade\"]"
   ],
   "metadata": {
    "collapsed": false,
    "ExecuteTime": {
     "start_time": "2023-04-23T21:42:23.425604Z",
     "end_time": "2023-04-23T21:42:23.457941Z"
    }
   }
  },
  {
   "cell_type": "code",
   "execution_count": 27,
   "outputs": [
    {
     "data": {
      "text/plain": "          out_prncp      good       bad       woe  info_val\n0     (-inf,2000.0)  0.441788  0.823067 -0.622209  0.237236\n1     (16080.0,inf)  0.093920  0.038826  0.883355  0.048668\n3  (8040.0,16080.0)  0.201985  0.065948  1.119322  0.152269\n2   (2000.0,8040.0)  0.262307  0.072158  1.290653  0.245416",
      "text/html": "<div>\n<style scoped>\n    .dataframe tbody tr th:only-of-type {\n        vertical-align: middle;\n    }\n\n    .dataframe tbody tr th {\n        vertical-align: top;\n    }\n\n    .dataframe thead th {\n        text-align: right;\n    }\n</style>\n<table border=\"1\" class=\"dataframe\">\n  <thead>\n    <tr style=\"text-align: right;\">\n      <th></th>\n      <th>out_prncp</th>\n      <th>good</th>\n      <th>bad</th>\n      <th>woe</th>\n      <th>info_val</th>\n    </tr>\n  </thead>\n  <tbody>\n    <tr>\n      <th>0</th>\n      <td>(-inf,2000.0)</td>\n      <td>0.441788</td>\n      <td>0.823067</td>\n      <td>-0.622209</td>\n      <td>0.237236</td>\n    </tr>\n    <tr>\n      <th>1</th>\n      <td>(16080.0,inf)</td>\n      <td>0.093920</td>\n      <td>0.038826</td>\n      <td>0.883355</td>\n      <td>0.048668</td>\n    </tr>\n    <tr>\n      <th>3</th>\n      <td>(8040.0,16080.0)</td>\n      <td>0.201985</td>\n      <td>0.065948</td>\n      <td>1.119322</td>\n      <td>0.152269</td>\n    </tr>\n    <tr>\n      <th>2</th>\n      <td>(2000.0,8040.0)</td>\n      <td>0.262307</td>\n      <td>0.072158</td>\n      <td>1.290653</td>\n      <td>0.245416</td>\n    </tr>\n  </tbody>\n</table>\n</div>"
     },
     "execution_count": 27,
     "metadata": {},
     "output_type": "execute_result"
    }
   ],
   "source": [
    "woe_t.woe_mappings[\"out_prncp\"]"
   ],
   "metadata": {
    "collapsed": false,
    "ExecuteTime": {
     "start_time": "2023-04-23T21:42:28.115573Z",
     "end_time": "2023-04-23T21:42:28.141573Z"
    }
   }
  },
  {
   "cell_type": "code",
   "execution_count": 28,
   "outputs": [
    {
     "data": {
      "text/plain": "         total_pymnt      good       bad       woe  info_val\n0        (-inf,7000)  0.323028  0.615031 -0.643936  0.188032\n3   (7000.0,13786.0)  0.363313  0.281866  0.253832  0.020674\n1  (13786.0,25000.0)  0.232478  0.092965  0.916576  0.127875\n2      (25000.0,inf)  0.081181  0.010138  2.080423  0.147801",
      "text/html": "<div>\n<style scoped>\n    .dataframe tbody tr th:only-of-type {\n        vertical-align: middle;\n    }\n\n    .dataframe tbody tr th {\n        vertical-align: top;\n    }\n\n    .dataframe thead th {\n        text-align: right;\n    }\n</style>\n<table border=\"1\" class=\"dataframe\">\n  <thead>\n    <tr style=\"text-align: right;\">\n      <th></th>\n      <th>total_pymnt</th>\n      <th>good</th>\n      <th>bad</th>\n      <th>woe</th>\n      <th>info_val</th>\n    </tr>\n  </thead>\n  <tbody>\n    <tr>\n      <th>0</th>\n      <td>(-inf,7000)</td>\n      <td>0.323028</td>\n      <td>0.615031</td>\n      <td>-0.643936</td>\n      <td>0.188032</td>\n    </tr>\n    <tr>\n      <th>3</th>\n      <td>(7000.0,13786.0)</td>\n      <td>0.363313</td>\n      <td>0.281866</td>\n      <td>0.253832</td>\n      <td>0.020674</td>\n    </tr>\n    <tr>\n      <th>1</th>\n      <td>(13786.0,25000.0)</td>\n      <td>0.232478</td>\n      <td>0.092965</td>\n      <td>0.916576</td>\n      <td>0.127875</td>\n    </tr>\n    <tr>\n      <th>2</th>\n      <td>(25000.0,inf)</td>\n      <td>0.081181</td>\n      <td>0.010138</td>\n      <td>2.080423</td>\n      <td>0.147801</td>\n    </tr>\n  </tbody>\n</table>\n</div>"
     },
     "execution_count": 28,
     "metadata": {},
     "output_type": "execute_result"
    }
   ],
   "source": [
    "woe_t.woe_mappings[\"total_pymnt\"]"
   ],
   "metadata": {
    "collapsed": false,
    "ExecuteTime": {
     "start_time": "2023-04-23T21:42:30.949072Z",
     "end_time": "2023-04-23T21:42:30.989705Z"
    }
   }
  },
  {
   "cell_type": "code",
   "execution_count": 31,
   "outputs": [
    {
     "data": {
      "text/plain": "     total_rec_prncp      good       bad       woe  info_val\n0      (-inf,2000.0)  0.054961  0.369576 -1.905726  0.599570\n3    (2000.0,5833.0)  0.348000  0.446910 -0.250153  0.024742\n5   (5833.0,11667.0)  0.319710  0.151429  0.747297  0.125756\n1  (11667.0,17500.0)  0.147103  0.024999  1.772286  0.216403\n2  (17500.0,22000.0)  0.062923  0.003981  2.760432  0.162706\n4      (22000.0,inf)  0.067302  0.003105  3.076169  0.197480",
      "text/html": "<div>\n<style scoped>\n    .dataframe tbody tr th:only-of-type {\n        vertical-align: middle;\n    }\n\n    .dataframe tbody tr th {\n        vertical-align: top;\n    }\n\n    .dataframe thead th {\n        text-align: right;\n    }\n</style>\n<table border=\"1\" class=\"dataframe\">\n  <thead>\n    <tr style=\"text-align: right;\">\n      <th></th>\n      <th>total_rec_prncp</th>\n      <th>good</th>\n      <th>bad</th>\n      <th>woe</th>\n      <th>info_val</th>\n    </tr>\n  </thead>\n  <tbody>\n    <tr>\n      <th>0</th>\n      <td>(-inf,2000.0)</td>\n      <td>0.054961</td>\n      <td>0.369576</td>\n      <td>-1.905726</td>\n      <td>0.599570</td>\n    </tr>\n    <tr>\n      <th>3</th>\n      <td>(2000.0,5833.0)</td>\n      <td>0.348000</td>\n      <td>0.446910</td>\n      <td>-0.250153</td>\n      <td>0.024742</td>\n    </tr>\n    <tr>\n      <th>5</th>\n      <td>(5833.0,11667.0)</td>\n      <td>0.319710</td>\n      <td>0.151429</td>\n      <td>0.747297</td>\n      <td>0.125756</td>\n    </tr>\n    <tr>\n      <th>1</th>\n      <td>(11667.0,17500.0)</td>\n      <td>0.147103</td>\n      <td>0.024999</td>\n      <td>1.772286</td>\n      <td>0.216403</td>\n    </tr>\n    <tr>\n      <th>2</th>\n      <td>(17500.0,22000.0)</td>\n      <td>0.062923</td>\n      <td>0.003981</td>\n      <td>2.760432</td>\n      <td>0.162706</td>\n    </tr>\n    <tr>\n      <th>4</th>\n      <td>(22000.0,inf)</td>\n      <td>0.067302</td>\n      <td>0.003105</td>\n      <td>3.076169</td>\n      <td>0.197480</td>\n    </tr>\n  </tbody>\n</table>\n</div>"
     },
     "execution_count": 31,
     "metadata": {},
     "output_type": "execute_result"
    }
   ],
   "source": [
    "woe_t.woe_mappings[\"total_rec_prncp\"]"
   ],
   "metadata": {
    "collapsed": false,
    "ExecuteTime": {
     "start_time": "2023-04-23T21:42:42.239667Z",
     "end_time": "2023-04-23T21:42:42.274327Z"
    }
   }
  },
  {
   "cell_type": "code",
   "execution_count": 29,
   "outputs": [
    {
     "data": {
      "text/plain": "     last_pymnt_amnt      good       bad       woe  info_val\n0       (-inf,100.0)  0.025902  0.042860 -0.503628  0.008541\n1     (100.0,6007.0)  0.768690  0.956079 -0.218153  0.040879\n3  (18022.0,23000.0)  0.022160  0.000212  4.647990  0.102011\n4      (23000.0,inf)  0.021098  0.000159  4.886583  0.102320\n2  (12015.0,18022.0)  0.057456  0.000265  5.377591  0.307548\n5   (6007.0,12015.0)  0.104695  0.000425  5.507616  0.574279",
      "text/html": "<div>\n<style scoped>\n    .dataframe tbody tr th:only-of-type {\n        vertical-align: middle;\n    }\n\n    .dataframe tbody tr th {\n        vertical-align: top;\n    }\n\n    .dataframe thead th {\n        text-align: right;\n    }\n</style>\n<table border=\"1\" class=\"dataframe\">\n  <thead>\n    <tr style=\"text-align: right;\">\n      <th></th>\n      <th>last_pymnt_amnt</th>\n      <th>good</th>\n      <th>bad</th>\n      <th>woe</th>\n      <th>info_val</th>\n    </tr>\n  </thead>\n  <tbody>\n    <tr>\n      <th>0</th>\n      <td>(-inf,100.0)</td>\n      <td>0.025902</td>\n      <td>0.042860</td>\n      <td>-0.503628</td>\n      <td>0.008541</td>\n    </tr>\n    <tr>\n      <th>1</th>\n      <td>(100.0,6007.0)</td>\n      <td>0.768690</td>\n      <td>0.956079</td>\n      <td>-0.218153</td>\n      <td>0.040879</td>\n    </tr>\n    <tr>\n      <th>3</th>\n      <td>(18022.0,23000.0)</td>\n      <td>0.022160</td>\n      <td>0.000212</td>\n      <td>4.647990</td>\n      <td>0.102011</td>\n    </tr>\n    <tr>\n      <th>4</th>\n      <td>(23000.0,inf)</td>\n      <td>0.021098</td>\n      <td>0.000159</td>\n      <td>4.886583</td>\n      <td>0.102320</td>\n    </tr>\n    <tr>\n      <th>2</th>\n      <td>(12015.0,18022.0)</td>\n      <td>0.057456</td>\n      <td>0.000265</td>\n      <td>5.377591</td>\n      <td>0.307548</td>\n    </tr>\n    <tr>\n      <th>5</th>\n      <td>(6007.0,12015.0)</td>\n      <td>0.104695</td>\n      <td>0.000425</td>\n      <td>5.507616</td>\n      <td>0.574279</td>\n    </tr>\n  </tbody>\n</table>\n</div>"
     },
     "execution_count": 29,
     "metadata": {},
     "output_type": "execute_result"
    }
   ],
   "source": [
    "woe_t.woe_mappings[\"last_pymnt_amnt\"]"
   ],
   "metadata": {
    "collapsed": false,
    "ExecuteTime": {
     "start_time": "2023-04-23T21:42:33.978948Z",
     "end_time": "2023-04-23T21:42:34.009950Z"
    }
   }
  },
  {
   "cell_type": "code",
   "execution_count": 30,
   "outputs": [
    {
     "data": {
      "text/plain": "   addr_state      good       bad       woe      info_val\n28         NV  0.013243  0.017330 -0.268971  1.099269e-03\n11         HI  0.005281  0.006847 -0.259655  4.065612e-04\n36         SD  0.001805  0.002203 -0.199333  7.935016e-05\n37         TN  0.013774  0.016454 -0.177816  4.766162e-04\n16         LA  0.011040  0.012924 -0.157579  2.969162e-04\n9          FL  0.065338  0.074361 -0.129359  1.167225e-03\n1          AL  0.013163  0.014410 -0.090533  1.129235e-04\n40         VA  0.030281  0.032775 -0.079166  1.974893e-04\n29         NY  0.085162  0.091372 -0.070384  4.370854e-04\n20         MN  0.016852  0.018073 -0.069937  8.537767e-05\n31         OK  0.009076  0.009713 -0.067823  4.319796e-05\n24         NC  0.027388  0.029219 -0.064720  1.185131e-04\n15         KY  0.009342  0.009872 -0.055263  2.933185e-05\n21         MO  0.015339  0.016189 -0.053885  4.576107e-05\n18         MD  0.023540  0.024681 -0.047340  5.402200e-05\n2          AR  0.007245  0.007563 -0.043017  1.369944e-05\n13         IN  0.016374  0.017091 -0.042830  3.068926e-05\n26         NJ  0.038162  0.039410 -0.032162  4.011547e-05\n8          DE  0.002627  0.002707 -0.029853  2.376765e-06\n4          CA  0.150606  0.153021 -0.015908  3.841807e-05\n33         PA  0.035270  0.035827 -0.015678  8.737403e-06\n3          AZ  0.022929  0.023115 -0.008069  1.499017e-06\n19         MI  0.024814  0.024946 -0.005333  7.076970e-07\n17         MA  0.022744  0.022823 -0.003494  2.782148e-07\n27         NM  0.005945  0.005918  0.004474  1.187410e-07\n30         OH  0.034155  0.033094  0.031573  3.351637e-05\n39         UT  0.008280  0.007855  0.052644  2.235343e-05\n10         GA  0.031130  0.028954  0.072470  1.577062e-04\n32         OR  0.012632  0.011571  0.087776  9.317758e-05\n42         WA  0.022956  0.020488  0.113745  2.807325e-04\n14         KS  0.008731  0.007776  0.115885  1.107153e-04\n38         TX  0.081022  0.071468  0.125469  1.198716e-03\n12         IL  0.039781  0.034845  0.132484  6.539623e-04\n34         RI  0.004910  0.004273  0.138951  8.850177e-05\n5          CO  0.020806  0.017542  0.170655  5.570602e-04\n43         WI  0.013827  0.011412  0.191965  4.635970e-04\n23         MT  0.003078  0.002521  0.199713  1.113022e-04\n6          CT  0.015499  0.012579  0.208694  6.092275e-04\n45         WY  0.002282  0.001778  0.249655  1.258841e-04\n35         SC  0.012340  0.009554  0.255933  7.131712e-04\n7          DC  0.002495  0.001884  0.280615  1.712837e-04\n22         MS  0.003317  0.002495  0.285019  2.344839e-04\n44         WV  0.005122  0.003848  0.285956  3.642661e-04\n25         NH  0.004883  0.003609  0.302281  3.850610e-04\n41         VT  0.001911  0.001407  0.306374  1.544840e-04\n0          AK  0.003503  0.002203  0.463961  6.033307e-04",
      "text/html": "<div>\n<style scoped>\n    .dataframe tbody tr th:only-of-type {\n        vertical-align: middle;\n    }\n\n    .dataframe tbody tr th {\n        vertical-align: top;\n    }\n\n    .dataframe thead th {\n        text-align: right;\n    }\n</style>\n<table border=\"1\" class=\"dataframe\">\n  <thead>\n    <tr style=\"text-align: right;\">\n      <th></th>\n      <th>addr_state</th>\n      <th>good</th>\n      <th>bad</th>\n      <th>woe</th>\n      <th>info_val</th>\n    </tr>\n  </thead>\n  <tbody>\n    <tr>\n      <th>28</th>\n      <td>NV</td>\n      <td>0.013243</td>\n      <td>0.017330</td>\n      <td>-0.268971</td>\n      <td>1.099269e-03</td>\n    </tr>\n    <tr>\n      <th>11</th>\n      <td>HI</td>\n      <td>0.005281</td>\n      <td>0.006847</td>\n      <td>-0.259655</td>\n      <td>4.065612e-04</td>\n    </tr>\n    <tr>\n      <th>36</th>\n      <td>SD</td>\n      <td>0.001805</td>\n      <td>0.002203</td>\n      <td>-0.199333</td>\n      <td>7.935016e-05</td>\n    </tr>\n    <tr>\n      <th>37</th>\n      <td>TN</td>\n      <td>0.013774</td>\n      <td>0.016454</td>\n      <td>-0.177816</td>\n      <td>4.766162e-04</td>\n    </tr>\n    <tr>\n      <th>16</th>\n      <td>LA</td>\n      <td>0.011040</td>\n      <td>0.012924</td>\n      <td>-0.157579</td>\n      <td>2.969162e-04</td>\n    </tr>\n    <tr>\n      <th>9</th>\n      <td>FL</td>\n      <td>0.065338</td>\n      <td>0.074361</td>\n      <td>-0.129359</td>\n      <td>1.167225e-03</td>\n    </tr>\n    <tr>\n      <th>1</th>\n      <td>AL</td>\n      <td>0.013163</td>\n      <td>0.014410</td>\n      <td>-0.090533</td>\n      <td>1.129235e-04</td>\n    </tr>\n    <tr>\n      <th>40</th>\n      <td>VA</td>\n      <td>0.030281</td>\n      <td>0.032775</td>\n      <td>-0.079166</td>\n      <td>1.974893e-04</td>\n    </tr>\n    <tr>\n      <th>29</th>\n      <td>NY</td>\n      <td>0.085162</td>\n      <td>0.091372</td>\n      <td>-0.070384</td>\n      <td>4.370854e-04</td>\n    </tr>\n    <tr>\n      <th>20</th>\n      <td>MN</td>\n      <td>0.016852</td>\n      <td>0.018073</td>\n      <td>-0.069937</td>\n      <td>8.537767e-05</td>\n    </tr>\n    <tr>\n      <th>31</th>\n      <td>OK</td>\n      <td>0.009076</td>\n      <td>0.009713</td>\n      <td>-0.067823</td>\n      <td>4.319796e-05</td>\n    </tr>\n    <tr>\n      <th>24</th>\n      <td>NC</td>\n      <td>0.027388</td>\n      <td>0.029219</td>\n      <td>-0.064720</td>\n      <td>1.185131e-04</td>\n    </tr>\n    <tr>\n      <th>15</th>\n      <td>KY</td>\n      <td>0.009342</td>\n      <td>0.009872</td>\n      <td>-0.055263</td>\n      <td>2.933185e-05</td>\n    </tr>\n    <tr>\n      <th>21</th>\n      <td>MO</td>\n      <td>0.015339</td>\n      <td>0.016189</td>\n      <td>-0.053885</td>\n      <td>4.576107e-05</td>\n    </tr>\n    <tr>\n      <th>18</th>\n      <td>MD</td>\n      <td>0.023540</td>\n      <td>0.024681</td>\n      <td>-0.047340</td>\n      <td>5.402200e-05</td>\n    </tr>\n    <tr>\n      <th>2</th>\n      <td>AR</td>\n      <td>0.007245</td>\n      <td>0.007563</td>\n      <td>-0.043017</td>\n      <td>1.369944e-05</td>\n    </tr>\n    <tr>\n      <th>13</th>\n      <td>IN</td>\n      <td>0.016374</td>\n      <td>0.017091</td>\n      <td>-0.042830</td>\n      <td>3.068926e-05</td>\n    </tr>\n    <tr>\n      <th>26</th>\n      <td>NJ</td>\n      <td>0.038162</td>\n      <td>0.039410</td>\n      <td>-0.032162</td>\n      <td>4.011547e-05</td>\n    </tr>\n    <tr>\n      <th>8</th>\n      <td>DE</td>\n      <td>0.002627</td>\n      <td>0.002707</td>\n      <td>-0.029853</td>\n      <td>2.376765e-06</td>\n    </tr>\n    <tr>\n      <th>4</th>\n      <td>CA</td>\n      <td>0.150606</td>\n      <td>0.153021</td>\n      <td>-0.015908</td>\n      <td>3.841807e-05</td>\n    </tr>\n    <tr>\n      <th>33</th>\n      <td>PA</td>\n      <td>0.035270</td>\n      <td>0.035827</td>\n      <td>-0.015678</td>\n      <td>8.737403e-06</td>\n    </tr>\n    <tr>\n      <th>3</th>\n      <td>AZ</td>\n      <td>0.022929</td>\n      <td>0.023115</td>\n      <td>-0.008069</td>\n      <td>1.499017e-06</td>\n    </tr>\n    <tr>\n      <th>19</th>\n      <td>MI</td>\n      <td>0.024814</td>\n      <td>0.024946</td>\n      <td>-0.005333</td>\n      <td>7.076970e-07</td>\n    </tr>\n    <tr>\n      <th>17</th>\n      <td>MA</td>\n      <td>0.022744</td>\n      <td>0.022823</td>\n      <td>-0.003494</td>\n      <td>2.782148e-07</td>\n    </tr>\n    <tr>\n      <th>27</th>\n      <td>NM</td>\n      <td>0.005945</td>\n      <td>0.005918</td>\n      <td>0.004474</td>\n      <td>1.187410e-07</td>\n    </tr>\n    <tr>\n      <th>30</th>\n      <td>OH</td>\n      <td>0.034155</td>\n      <td>0.033094</td>\n      <td>0.031573</td>\n      <td>3.351637e-05</td>\n    </tr>\n    <tr>\n      <th>39</th>\n      <td>UT</td>\n      <td>0.008280</td>\n      <td>0.007855</td>\n      <td>0.052644</td>\n      <td>2.235343e-05</td>\n    </tr>\n    <tr>\n      <th>10</th>\n      <td>GA</td>\n      <td>0.031130</td>\n      <td>0.028954</td>\n      <td>0.072470</td>\n      <td>1.577062e-04</td>\n    </tr>\n    <tr>\n      <th>32</th>\n      <td>OR</td>\n      <td>0.012632</td>\n      <td>0.011571</td>\n      <td>0.087776</td>\n      <td>9.317758e-05</td>\n    </tr>\n    <tr>\n      <th>42</th>\n      <td>WA</td>\n      <td>0.022956</td>\n      <td>0.020488</td>\n      <td>0.113745</td>\n      <td>2.807325e-04</td>\n    </tr>\n    <tr>\n      <th>14</th>\n      <td>KS</td>\n      <td>0.008731</td>\n      <td>0.007776</td>\n      <td>0.115885</td>\n      <td>1.107153e-04</td>\n    </tr>\n    <tr>\n      <th>38</th>\n      <td>TX</td>\n      <td>0.081022</td>\n      <td>0.071468</td>\n      <td>0.125469</td>\n      <td>1.198716e-03</td>\n    </tr>\n    <tr>\n      <th>12</th>\n      <td>IL</td>\n      <td>0.039781</td>\n      <td>0.034845</td>\n      <td>0.132484</td>\n      <td>6.539623e-04</td>\n    </tr>\n    <tr>\n      <th>34</th>\n      <td>RI</td>\n      <td>0.004910</td>\n      <td>0.004273</td>\n      <td>0.138951</td>\n      <td>8.850177e-05</td>\n    </tr>\n    <tr>\n      <th>5</th>\n      <td>CO</td>\n      <td>0.020806</td>\n      <td>0.017542</td>\n      <td>0.170655</td>\n      <td>5.570602e-04</td>\n    </tr>\n    <tr>\n      <th>43</th>\n      <td>WI</td>\n      <td>0.013827</td>\n      <td>0.011412</td>\n      <td>0.191965</td>\n      <td>4.635970e-04</td>\n    </tr>\n    <tr>\n      <th>23</th>\n      <td>MT</td>\n      <td>0.003078</td>\n      <td>0.002521</td>\n      <td>0.199713</td>\n      <td>1.113022e-04</td>\n    </tr>\n    <tr>\n      <th>6</th>\n      <td>CT</td>\n      <td>0.015499</td>\n      <td>0.012579</td>\n      <td>0.208694</td>\n      <td>6.092275e-04</td>\n    </tr>\n    <tr>\n      <th>45</th>\n      <td>WY</td>\n      <td>0.002282</td>\n      <td>0.001778</td>\n      <td>0.249655</td>\n      <td>1.258841e-04</td>\n    </tr>\n    <tr>\n      <th>35</th>\n      <td>SC</td>\n      <td>0.012340</td>\n      <td>0.009554</td>\n      <td>0.255933</td>\n      <td>7.131712e-04</td>\n    </tr>\n    <tr>\n      <th>7</th>\n      <td>DC</td>\n      <td>0.002495</td>\n      <td>0.001884</td>\n      <td>0.280615</td>\n      <td>1.712837e-04</td>\n    </tr>\n    <tr>\n      <th>22</th>\n      <td>MS</td>\n      <td>0.003317</td>\n      <td>0.002495</td>\n      <td>0.285019</td>\n      <td>2.344839e-04</td>\n    </tr>\n    <tr>\n      <th>44</th>\n      <td>WV</td>\n      <td>0.005122</td>\n      <td>0.003848</td>\n      <td>0.285956</td>\n      <td>3.642661e-04</td>\n    </tr>\n    <tr>\n      <th>25</th>\n      <td>NH</td>\n      <td>0.004883</td>\n      <td>0.003609</td>\n      <td>0.302281</td>\n      <td>3.850610e-04</td>\n    </tr>\n    <tr>\n      <th>41</th>\n      <td>VT</td>\n      <td>0.001911</td>\n      <td>0.001407</td>\n      <td>0.306374</td>\n      <td>1.544840e-04</td>\n    </tr>\n    <tr>\n      <th>0</th>\n      <td>AK</td>\n      <td>0.003503</td>\n      <td>0.002203</td>\n      <td>0.463961</td>\n      <td>6.033307e-04</td>\n    </tr>\n  </tbody>\n</table>\n</div>"
     },
     "execution_count": 30,
     "metadata": {},
     "output_type": "execute_result"
    }
   ],
   "source": [
    "woe_t.woe_mappings[\"addr_state\"]"
   ],
   "metadata": {
    "collapsed": false,
    "ExecuteTime": {
     "start_time": "2023-04-23T21:42:36.530799Z",
     "end_time": "2023-04-23T21:42:36.560812Z"
    }
   }
  },
  {
   "cell_type": "code",
   "execution_count": 23,
   "outputs": [],
   "source": [],
   "metadata": {
    "collapsed": false,
    "ExecuteTime": {
     "start_time": "2023-04-23T21:42:06.800550Z",
     "end_time": "2023-04-23T21:42:06.986731Z"
    }
   }
  },
  {
   "cell_type": "code",
   "execution_count": 23,
   "outputs": [],
   "source": [],
   "metadata": {
    "collapsed": false,
    "ExecuteTime": {
     "start_time": "2023-04-23T21:42:06.805314Z",
     "end_time": "2023-04-23T21:42:06.986731Z"
    }
   }
  }
 ],
 "metadata": {
  "kernelspec": {
   "display_name": "Python 3",
   "language": "python",
   "name": "python3"
  },
  "language_info": {
   "codemirror_mode": {
    "name": "ipython",
    "version": 2
   },
   "file_extension": ".py",
   "mimetype": "text/x-python",
   "name": "python",
   "nbconvert_exporter": "python",
   "pygments_lexer": "ipython2",
   "version": "2.7.6"
  }
 },
 "nbformat": 4,
 "nbformat_minor": 0
}
