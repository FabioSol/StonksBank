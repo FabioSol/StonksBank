{
 "cells": [
  {
   "cell_type": "markdown",
   "id": "6653af7a",
   "metadata": {},
   "source": [
    "# Dealing With Credit Data"
   ]
  },
  {
   "cell_type": "code",
   "execution_count": 1,
   "id": "84a54282",
   "metadata": {},
   "outputs": [],
   "source": [
    "import matplotlib.pyplot as plt\n",
    "import numpy as np\n",
    "import pandas as pd\n",
    "import pickle\n",
    "import sys\n",
    "\n",
    "from sklearn.ensemble import GradientBoostingClassifier\n",
    "from sklearn.exceptions import NotFittedError\n",
    "from sklearn.linear_model import LogisticRegression\n",
    "from sklearn.metrics import roc_curve, auc, f1_score\n",
    "from sklearn.model_selection import train_test_split\n",
    "from sklearn.pipeline import Pipeline\n",
    "from sklearn.preprocessing import OrdinalEncoder\n",
    "\n",
    "from typing import List, Dict"
   ]
  },
  {
   "cell_type": "code",
   "execution_count": 2,
   "id": "4593cb62",
   "metadata": {},
   "outputs": [],
   "source": [
    "seed = 0"
   ]
  },
  {
   "cell_type": "code",
   "execution_count": 3,
   "id": "325b1bfe",
   "metadata": {},
   "outputs": [],
   "source": [
    "dataset = pd.read_csv(\"./credit-dataset.csv\")"
   ]
  },
  {
   "cell_type": "code",
   "execution_count": 4,
   "id": "0904a9d2",
   "metadata": {
    "scrolled": false
   },
   "outputs": [
    {
     "data": {
      "text/html": [
       "<div>\n",
       "<style scoped>\n",
       "    .dataframe tbody tr th:only-of-type {\n",
       "        vertical-align: middle;\n",
       "    }\n",
       "\n",
       "    .dataframe tbody tr th {\n",
       "        vertical-align: top;\n",
       "    }\n",
       "\n",
       "    .dataframe thead th {\n",
       "        text-align: right;\n",
       "    }\n",
       "</style>\n",
       "<table border=\"1\" class=\"dataframe\">\n",
       "  <thead>\n",
       "    <tr style=\"text-align: right;\">\n",
       "      <th></th>\n",
       "      <th>customer_id</th>\n",
       "      <th>customer_age</th>\n",
       "      <th>months_at_address</th>\n",
       "      <th>residence_status</th>\n",
       "      <th>employment</th>\n",
       "      <th>income</th>\n",
       "      <th>months_with_bank</th>\n",
       "      <th>other_credits</th>\n",
       "      <th>balance</th>\n",
       "      <th>status</th>\n",
       "    </tr>\n",
       "  </thead>\n",
       "  <tbody>\n",
       "    <tr>\n",
       "      <th>0</th>\n",
       "      <td>1</td>\n",
       "      <td>53</td>\n",
       "      <td>62</td>\n",
       "      <td>Tenant</td>\n",
       "      <td>Unknown</td>\n",
       "      <td>50000</td>\n",
       "      <td>55</td>\n",
       "      <td>Yes</td>\n",
       "      <td>1055.90</td>\n",
       "      <td>0</td>\n",
       "    </tr>\n",
       "    <tr>\n",
       "      <th>1</th>\n",
       "      <td>2</td>\n",
       "      <td>61</td>\n",
       "      <td>22</td>\n",
       "      <td>HomeOwner</td>\n",
       "      <td>Employed</td>\n",
       "      <td>52000</td>\n",
       "      <td>25</td>\n",
       "      <td>Yes</td>\n",
       "      <td>1161.60</td>\n",
       "      <td>0</td>\n",
       "    </tr>\n",
       "    <tr>\n",
       "      <th>2</th>\n",
       "      <td>3</td>\n",
       "      <td>47</td>\n",
       "      <td>30</td>\n",
       "      <td>Tenant</td>\n",
       "      <td>Employed</td>\n",
       "      <td>37000</td>\n",
       "      <td>61</td>\n",
       "      <td>No</td>\n",
       "      <td>877.23</td>\n",
       "      <td>0</td>\n",
       "    </tr>\n",
       "    <tr>\n",
       "      <th>3</th>\n",
       "      <td>4</td>\n",
       "      <td>50</td>\n",
       "      <td>75</td>\n",
       "      <td>HomeOwner</td>\n",
       "      <td>Employed</td>\n",
       "      <td>53000</td>\n",
       "      <td>20</td>\n",
       "      <td>Yes</td>\n",
       "      <td>157.37</td>\n",
       "      <td>0</td>\n",
       "    </tr>\n",
       "    <tr>\n",
       "      <th>4</th>\n",
       "      <td>5</td>\n",
       "      <td>68</td>\n",
       "      <td>56</td>\n",
       "      <td>HomeOwner</td>\n",
       "      <td>Employed</td>\n",
       "      <td>53000</td>\n",
       "      <td>14</td>\n",
       "      <td>Yes</td>\n",
       "      <td>561.84</td>\n",
       "      <td>0</td>\n",
       "    </tr>\n",
       "  </tbody>\n",
       "</table>\n",
       "</div>"
      ],
      "text/plain": [
       "   customer_id  customer_age  months_at_address residence_status employment  \\\n",
       "0            1            53                 62           Tenant    Unknown   \n",
       "1            2            61                 22        HomeOwner   Employed   \n",
       "2            3            47                 30           Tenant   Employed   \n",
       "3            4            50                 75        HomeOwner   Employed   \n",
       "4            5            68                 56        HomeOwner   Employed   \n",
       "\n",
       "   income  months_with_bank other_credits  balance  status  \n",
       "0   50000                55           Yes  1055.90       0  \n",
       "1   52000                25           Yes  1161.60       0  \n",
       "2   37000                61            No   877.23       0  \n",
       "3   53000                20           Yes   157.37       0  \n",
       "4   53000                14           Yes   561.84       0  "
      ]
     },
     "execution_count": 4,
     "metadata": {},
     "output_type": "execute_result"
    }
   ],
   "source": [
    "dataset.head()"
   ]
  },
  {
   "cell_type": "markdown",
   "id": "1398f495",
   "metadata": {},
   "source": [
    "## <font style=\"color: crimson\">TODO:</font> Make a detailed EDA"
   ]
  },
  {
   "cell_type": "code",
   "execution_count": 5,
   "id": "5b11a038",
   "metadata": {},
   "outputs": [
    {
     "name": "stdout",
     "output_type": "stream",
     "text": [
      "<class 'pandas.core.frame.DataFrame'>\n",
      "RangeIndex: 1200 entries, 0 to 1199\n",
      "Data columns (total 10 columns):\n",
      " #   Column             Non-Null Count  Dtype  \n",
      "---  ------             --------------  -----  \n",
      " 0   customer_id        1200 non-null   int64  \n",
      " 1   customer_age       1200 non-null   int64  \n",
      " 2   months_at_address  1200 non-null   int64  \n",
      " 3   residence_status   1200 non-null   object \n",
      " 4   employment         1200 non-null   object \n",
      " 5   income             1200 non-null   int64  \n",
      " 6   months_with_bank   1200 non-null   int64  \n",
      " 7   other_credits      1200 non-null   object \n",
      " 8   balance            1200 non-null   float64\n",
      " 9   status             1200 non-null   int64  \n",
      "dtypes: float64(1), int64(6), object(3)\n",
      "memory usage: 93.9+ KB\n"
     ]
    }
   ],
   "source": [
    "dataset.info()"
   ]
  },
  {
   "cell_type": "code",
   "execution_count": 6,
   "id": "ee045ed5",
   "metadata": {
    "scrolled": false
   },
   "outputs": [
    {
     "data": {
      "text/html": [
       "<div>\n",
       "<style scoped>\n",
       "    .dataframe tbody tr th:only-of-type {\n",
       "        vertical-align: middle;\n",
       "    }\n",
       "\n",
       "    .dataframe tbody tr th {\n",
       "        vertical-align: top;\n",
       "    }\n",
       "\n",
       "    .dataframe thead th {\n",
       "        text-align: right;\n",
       "    }\n",
       "</style>\n",
       "<table border=\"1\" class=\"dataframe\">\n",
       "  <thead>\n",
       "    <tr style=\"text-align: right;\">\n",
       "      <th></th>\n",
       "      <th>customer_id</th>\n",
       "      <th>customer_age</th>\n",
       "      <th>months_at_address</th>\n",
       "      <th>income</th>\n",
       "      <th>months_with_bank</th>\n",
       "      <th>balance</th>\n",
       "      <th>status</th>\n",
       "    </tr>\n",
       "  </thead>\n",
       "  <tbody>\n",
       "    <tr>\n",
       "      <th>count</th>\n",
       "      <td>1200.000000</td>\n",
       "      <td>1200.000000</td>\n",
       "      <td>1200.000000</td>\n",
       "      <td>1200.000000</td>\n",
       "      <td>1200.000000</td>\n",
       "      <td>1200.000000</td>\n",
       "      <td>1200.000000</td>\n",
       "    </tr>\n",
       "    <tr>\n",
       "      <th>mean</th>\n",
       "      <td>600.500000</td>\n",
       "      <td>45.174167</td>\n",
       "      <td>41.930833</td>\n",
       "      <td>39317.500000</td>\n",
       "      <td>34.243333</td>\n",
       "      <td>803.111625</td>\n",
       "      <td>0.330833</td>\n",
       "    </tr>\n",
       "    <tr>\n",
       "      <th>std</th>\n",
       "      <td>346.554469</td>\n",
       "      <td>9.834265</td>\n",
       "      <td>29.902807</td>\n",
       "      <td>8268.938255</td>\n",
       "      <td>25.189506</td>\n",
       "      <td>587.587021</td>\n",
       "      <td>0.470709</td>\n",
       "    </tr>\n",
       "    <tr>\n",
       "      <th>min</th>\n",
       "      <td>1.000000</td>\n",
       "      <td>21.000000</td>\n",
       "      <td>2.000000</td>\n",
       "      <td>18000.000000</td>\n",
       "      <td>2.000000</td>\n",
       "      <td>0.210000</td>\n",
       "      <td>0.000000</td>\n",
       "    </tr>\n",
       "    <tr>\n",
       "      <th>25%</th>\n",
       "      <td>300.750000</td>\n",
       "      <td>38.000000</td>\n",
       "      <td>19.000000</td>\n",
       "      <td>34000.000000</td>\n",
       "      <td>14.000000</td>\n",
       "      <td>337.492500</td>\n",
       "      <td>0.000000</td>\n",
       "    </tr>\n",
       "    <tr>\n",
       "      <th>50%</th>\n",
       "      <td>600.500000</td>\n",
       "      <td>45.000000</td>\n",
       "      <td>36.000000</td>\n",
       "      <td>39000.000000</td>\n",
       "      <td>28.000000</td>\n",
       "      <td>711.685000</td>\n",
       "      <td>0.000000</td>\n",
       "    </tr>\n",
       "    <tr>\n",
       "      <th>75%</th>\n",
       "      <td>900.250000</td>\n",
       "      <td>52.000000</td>\n",
       "      <td>58.000000</td>\n",
       "      <td>45000.000000</td>\n",
       "      <td>49.000000</td>\n",
       "      <td>1137.275000</td>\n",
       "      <td>1.000000</td>\n",
       "    </tr>\n",
       "    <tr>\n",
       "      <th>max</th>\n",
       "      <td>1200.000000</td>\n",
       "      <td>74.000000</td>\n",
       "      <td>207.000000</td>\n",
       "      <td>62000.000000</td>\n",
       "      <td>128.000000</td>\n",
       "      <td>3812.000000</td>\n",
       "      <td>1.000000</td>\n",
       "    </tr>\n",
       "  </tbody>\n",
       "</table>\n",
       "</div>"
      ],
      "text/plain": [
       "       customer_id  customer_age  months_at_address        income  \\\n",
       "count  1200.000000   1200.000000        1200.000000   1200.000000   \n",
       "mean    600.500000     45.174167          41.930833  39317.500000   \n",
       "std     346.554469      9.834265          29.902807   8268.938255   \n",
       "min       1.000000     21.000000           2.000000  18000.000000   \n",
       "25%     300.750000     38.000000          19.000000  34000.000000   \n",
       "50%     600.500000     45.000000          36.000000  39000.000000   \n",
       "75%     900.250000     52.000000          58.000000  45000.000000   \n",
       "max    1200.000000     74.000000         207.000000  62000.000000   \n",
       "\n",
       "       months_with_bank      balance       status  \n",
       "count       1200.000000  1200.000000  1200.000000  \n",
       "mean          34.243333   803.111625     0.330833  \n",
       "std           25.189506   587.587021     0.470709  \n",
       "min            2.000000     0.210000     0.000000  \n",
       "25%           14.000000   337.492500     0.000000  \n",
       "50%           28.000000   711.685000     0.000000  \n",
       "75%           49.000000  1137.275000     1.000000  \n",
       "max          128.000000  3812.000000     1.000000  "
      ]
     },
     "execution_count": 6,
     "metadata": {},
     "output_type": "execute_result"
    }
   ],
   "source": [
    "dataset.describe()"
   ]
  },
  {
   "cell_type": "markdown",
   "id": "ab5bb4bf",
   "metadata": {},
   "source": [
    "## Preprocessing\n",
    "\n",
    "First we are going to split our data into indepentent and depentent variables, in this case, using the raw data. After that, we need to drop the columns that we don't need, keep in mind that we'll be using `sklearn.pipeline`, so we have to create our custom transformers with a `transform` and `fit` method. Finally, categorize continuous variables into bins and use the one-hot encoding technique."
   ]
  },
  {
   "cell_type": "code",
   "execution_count": 7,
   "id": "dc025dd5",
   "metadata": {},
   "outputs": [],
   "source": [
    "class ColumnSelectorTransformer:\n",
    "    def __init__(self, columns: List[str]):\n",
    "        self.columns = columns\n",
    "    \n",
    "    def transform(self, X: pd.DataFrame, y: pd.DataFrame = None) -> pd.DataFrame:\n",
    "        return X.loc[:, self.columns]\n",
    "    \n",
    "    def fit(self, *args, **kwargs): \n",
    "        return self\n",
    "    \n",
    "    def __str__(self) -> str:\n",
    "        return f\"ColumnSelectorTransformer({self.columns})\"\n",
    "    \n",
    "    def __repr__(self) -> str:\n",
    "        return f\"ColumnSelectorTransformer({self.columns})\"\n",
    "    \n",
    "\n",
    "class BinningTransformer:\n",
    "    def __init__(self, bins: Dict):\n",
    "        self.bins = bins\n",
    "        \n",
    "    def __find_bin(self, value: float, mappings: List):\n",
    "        for mapping in mappings:\n",
    "            if value <= mapping[\"max\"]:\n",
    "                return mapping[\"label\"]\n",
    "        return \"Error\"\n",
    "        \n",
    "    def transform(self, X: pd.DataFrame, y: pd.DataFrame = None) -> pd.DataFrame:\n",
    "        X = X.copy()\n",
    "        for key in self.bins.keys():\n",
    "            X.loc[:, key] = X.loc[:, key].transform(lambda x: self.__find_bin(x, self.bins[key]))\n",
    "        return X\n",
    "\n",
    "    def fit(self, *args, **kwargs):\n",
    "        return self\n",
    "    \n",
    "    def __str__(self) -> str:\n",
    "        return \"BinningTransformer()\"\n",
    "    \n",
    "    def __repr__(self) -> str:\n",
    "        return \"BinningTransformer()\"\n",
    "\n",
    "    \n",
    "class WOETransformer:\n",
    "    def __init__(self, columns: List[str], target_mappings: Dict = {0: \"good\", 1: \"bad\"}):\n",
    "        self.target_mappings = target_mappings\n",
    "        self.columns = columns\n",
    "        self.woe_mappings = None\n",
    "    \n",
    "    def __get_absolute_odds(self, df: pd.DataFrame, col: str):\n",
    "        key_first, key_second = list(self.target_mappings.keys())\n",
    "        return (\n",
    "            df.query(f\"status=={key_first}\")\n",
    "            .groupby(col).size().reset_index()\n",
    "            .rename(columns={0: self.target_mappings[key_first]})\n",
    "            .set_index(col)\n",
    "        ).join(\n",
    "            df.query(f\"status=={key_second}\")\n",
    "            .groupby(col).size().reset_index()\n",
    "            .rename(columns={0: self.target_mappings[key_second]})\n",
    "            .set_index(col)\n",
    "        ).reset_index()[[col, \"good\", \"bad\"]]\n",
    "\n",
    "    @staticmethod\n",
    "    def __calculate_relative_odds(row: pd.Series, total_good: int, total_bad: int) -> pd.Series:\n",
    "        return pd.Series(\n",
    "            {\n",
    "                **row.to_dict(),\n",
    "                \"good\": row[\"good\"] / total_good,\n",
    "                \"bad\": row[\"bad\"] / total_bad\n",
    "            }\n",
    "        )\n",
    "\n",
    "    def __get_odds(self, df: pd.DataFrame, col: str,\n",
    "                   absolute_values: bool = False) -> pd.DataFrame:\n",
    "        key_first, key_second = list(self.target_mappings.keys())\n",
    "        odds_absolute = self.__get_absolute_odds(df, col)\n",
    "\n",
    "        if absolute_values:\n",
    "            return odds_absolute\n",
    "\n",
    "        # Relative Odds\n",
    "        total_good = odds_absolute[\"good\"].sum()\n",
    "        total_bad = odds_absolute[\"bad\"].sum()\n",
    "        return odds_absolute.apply(\n",
    "            lambda row: WOETransformer.__calculate_relative_odds(row, total_good, total_bad),\n",
    "            axis=1\n",
    "        )\n",
    "\n",
    "    @staticmethod\n",
    "    def __calculate_woe(row: pd.Series) -> pd.Series:\n",
    "        return pd.Series(\n",
    "            {\n",
    "                **row.to_dict(),\n",
    "                \"woe\": np.log(row[\"good\"] / row[\"bad\"]),\n",
    "                \"info_val\": (row[\"good\"] - row[\"bad\"]) * np.log(row[\"good\"] / row[\"bad\"])\n",
    "            }\n",
    "        )\n",
    "\n",
    "    def __set_woe_mappings(self, X: pd.DataFrame, y: pd.Series,\n",
    "                           absolute_values: bool = False) -> None:\n",
    "        df = X.copy()\n",
    "        df[\"status\"] = y\n",
    "        \n",
    "        self.woe_mappings = {\n",
    "            col: self.__get_odds(df, col, absolute_values)\\\n",
    "                .apply(lambda row: WOETransformer.__calculate_woe(row), axis=1)\\\n",
    "                .sort_values(by=\"woe\", axis=0, ascending=True)\n",
    "            for col in self.columns\n",
    "        }\n",
    "        \n",
    "    def fit(self, X: pd.DataFrame, y: pd.DataFrame, *args, **kwargs):\n",
    "        self.__set_woe_mappings(X, y, *args, **kwargs)\n",
    "        return self\n",
    "    \n",
    "    def transform(self, X: pd.DataFrame, y: pd.DataFrame = None) -> pd.DataFrame:\n",
    "        if self.woe_mappings is None:\n",
    "            raise NotFittedError(f\"This {self} instance is not fitted yet. Call 'fit' with appropriate arguments before using this transformer.\")\n",
    "        df = X.copy()\n",
    "        out = pd.DataFrame([])\n",
    "        for col in df.columns:\n",
    "            mapping = self.woe_mappings[col].set_index(col)\n",
    "            categories = list(mapping.index)\n",
    "            out[col] = df.loc[:, col].apply(lambda cat: mapping.loc[cat, \"woe\"])\n",
    "        return out\n",
    "    \n",
    "    def __str__(self) -> str:\n",
    "        return f\"WOETransformer(columns={self.columns}, target_mappings={self.target_mappings})\"\n",
    "    \n",
    "    def __repr__(self) -> str:\n",
    "        return f\"WOETransformer(columns={self.columns}, target_mappings={self.target_mappings})\""
   ]
  },
  {
   "cell_type": "code",
   "execution_count": 8,
   "id": "cfb5d6c7",
   "metadata": {},
   "outputs": [],
   "source": [
    "from bins import bins"
   ]
  },
  {
   "cell_type": "code",
   "execution_count": 9,
   "id": "8cd15411",
   "metadata": {},
   "outputs": [],
   "source": [
    "x_train = dataset.drop(\"status\", axis=1)\n",
    "y_train = dataset[\"status\"]\n",
    "\n",
    "cols_to_keep = [\"customer_age\", \"months_at_address\", \"residence_status\", \"employment\",\n",
    "                \"income\", \"other_credits\", \"months_with_bank\", \"balance\"]"
   ]
  },
  {
   "cell_type": "markdown",
   "id": "4cfb267c",
   "metadata": {},
   "source": [
    "# Transformations\n",
    "\n",
    "We can create instance of this transformer classes to visualize the outcome of each job."
   ]
  },
  {
   "cell_type": "code",
   "execution_count": 10,
   "id": "c54d0202",
   "metadata": {},
   "outputs": [],
   "source": [
    "column_t = ColumnSelectorTransformer(columns=cols_to_keep)\n",
    "binning_t = BinningTransformer(bins=bins)\n",
    "woe_t = WOETransformer(columns=cols_to_keep)"
   ]
  },
  {
   "cell_type": "code",
   "execution_count": 11,
   "id": "c989a04a",
   "metadata": {},
   "outputs": [
    {
     "data": {
      "text/html": [
       "<div>\n",
       "<style scoped>\n",
       "    .dataframe tbody tr th:only-of-type {\n",
       "        vertical-align: middle;\n",
       "    }\n",
       "\n",
       "    .dataframe tbody tr th {\n",
       "        vertical-align: top;\n",
       "    }\n",
       "\n",
       "    .dataframe thead th {\n",
       "        text-align: right;\n",
       "    }\n",
       "</style>\n",
       "<table border=\"1\" class=\"dataframe\">\n",
       "  <thead>\n",
       "    <tr style=\"text-align: right;\">\n",
       "      <th></th>\n",
       "      <th>customer_id</th>\n",
       "      <th>customer_age</th>\n",
       "      <th>months_at_address</th>\n",
       "      <th>residence_status</th>\n",
       "      <th>employment</th>\n",
       "      <th>income</th>\n",
       "      <th>months_with_bank</th>\n",
       "      <th>other_credits</th>\n",
       "      <th>balance</th>\n",
       "    </tr>\n",
       "  </thead>\n",
       "  <tbody>\n",
       "    <tr>\n",
       "      <th>0</th>\n",
       "      <td>1</td>\n",
       "      <td>53</td>\n",
       "      <td>62</td>\n",
       "      <td>Tenant</td>\n",
       "      <td>Unknown</td>\n",
       "      <td>50000</td>\n",
       "      <td>55</td>\n",
       "      <td>Yes</td>\n",
       "      <td>1055.90</td>\n",
       "    </tr>\n",
       "    <tr>\n",
       "      <th>1</th>\n",
       "      <td>2</td>\n",
       "      <td>61</td>\n",
       "      <td>22</td>\n",
       "      <td>HomeOwner</td>\n",
       "      <td>Employed</td>\n",
       "      <td>52000</td>\n",
       "      <td>25</td>\n",
       "      <td>Yes</td>\n",
       "      <td>1161.60</td>\n",
       "    </tr>\n",
       "    <tr>\n",
       "      <th>2</th>\n",
       "      <td>3</td>\n",
       "      <td>47</td>\n",
       "      <td>30</td>\n",
       "      <td>Tenant</td>\n",
       "      <td>Employed</td>\n",
       "      <td>37000</td>\n",
       "      <td>61</td>\n",
       "      <td>No</td>\n",
       "      <td>877.23</td>\n",
       "    </tr>\n",
       "    <tr>\n",
       "      <th>3</th>\n",
       "      <td>4</td>\n",
       "      <td>50</td>\n",
       "      <td>75</td>\n",
       "      <td>HomeOwner</td>\n",
       "      <td>Employed</td>\n",
       "      <td>53000</td>\n",
       "      <td>20</td>\n",
       "      <td>Yes</td>\n",
       "      <td>157.37</td>\n",
       "    </tr>\n",
       "    <tr>\n",
       "      <th>4</th>\n",
       "      <td>5</td>\n",
       "      <td>68</td>\n",
       "      <td>56</td>\n",
       "      <td>HomeOwner</td>\n",
       "      <td>Employed</td>\n",
       "      <td>53000</td>\n",
       "      <td>14</td>\n",
       "      <td>Yes</td>\n",
       "      <td>561.84</td>\n",
       "    </tr>\n",
       "  </tbody>\n",
       "</table>\n",
       "</div>"
      ],
      "text/plain": [
       "   customer_id  customer_age  months_at_address residence_status employment  \\\n",
       "0            1            53                 62           Tenant    Unknown   \n",
       "1            2            61                 22        HomeOwner   Employed   \n",
       "2            3            47                 30           Tenant   Employed   \n",
       "3            4            50                 75        HomeOwner   Employed   \n",
       "4            5            68                 56        HomeOwner   Employed   \n",
       "\n",
       "   income  months_with_bank other_credits  balance  \n",
       "0   50000                55           Yes  1055.90  \n",
       "1   52000                25           Yes  1161.60  \n",
       "2   37000                61            No   877.23  \n",
       "3   53000                20           Yes   157.37  \n",
       "4   53000                14           Yes   561.84  "
      ]
     },
     "execution_count": 11,
     "metadata": {},
     "output_type": "execute_result"
    }
   ],
   "source": [
    "x_train.head()"
   ]
  },
  {
   "cell_type": "code",
   "execution_count": 12,
   "id": "d429eb1d",
   "metadata": {},
   "outputs": [
    {
     "data": {
      "text/html": [
       "<div>\n",
       "<style scoped>\n",
       "    .dataframe tbody tr th:only-of-type {\n",
       "        vertical-align: middle;\n",
       "    }\n",
       "\n",
       "    .dataframe tbody tr th {\n",
       "        vertical-align: top;\n",
       "    }\n",
       "\n",
       "    .dataframe thead th {\n",
       "        text-align: right;\n",
       "    }\n",
       "</style>\n",
       "<table border=\"1\" class=\"dataframe\">\n",
       "  <thead>\n",
       "    <tr style=\"text-align: right;\">\n",
       "      <th></th>\n",
       "      <th>customer_age</th>\n",
       "      <th>months_at_address</th>\n",
       "      <th>residence_status</th>\n",
       "      <th>employment</th>\n",
       "      <th>income</th>\n",
       "      <th>other_credits</th>\n",
       "      <th>months_with_bank</th>\n",
       "      <th>balance</th>\n",
       "    </tr>\n",
       "  </thead>\n",
       "  <tbody>\n",
       "    <tr>\n",
       "      <th>0</th>\n",
       "      <td>53</td>\n",
       "      <td>62</td>\n",
       "      <td>Tenant</td>\n",
       "      <td>Unknown</td>\n",
       "      <td>50000</td>\n",
       "      <td>Yes</td>\n",
       "      <td>55</td>\n",
       "      <td>1055.90</td>\n",
       "    </tr>\n",
       "    <tr>\n",
       "      <th>1</th>\n",
       "      <td>61</td>\n",
       "      <td>22</td>\n",
       "      <td>HomeOwner</td>\n",
       "      <td>Employed</td>\n",
       "      <td>52000</td>\n",
       "      <td>Yes</td>\n",
       "      <td>25</td>\n",
       "      <td>1161.60</td>\n",
       "    </tr>\n",
       "    <tr>\n",
       "      <th>2</th>\n",
       "      <td>47</td>\n",
       "      <td>30</td>\n",
       "      <td>Tenant</td>\n",
       "      <td>Employed</td>\n",
       "      <td>37000</td>\n",
       "      <td>No</td>\n",
       "      <td>61</td>\n",
       "      <td>877.23</td>\n",
       "    </tr>\n",
       "    <tr>\n",
       "      <th>3</th>\n",
       "      <td>50</td>\n",
       "      <td>75</td>\n",
       "      <td>HomeOwner</td>\n",
       "      <td>Employed</td>\n",
       "      <td>53000</td>\n",
       "      <td>Yes</td>\n",
       "      <td>20</td>\n",
       "      <td>157.37</td>\n",
       "    </tr>\n",
       "    <tr>\n",
       "      <th>4</th>\n",
       "      <td>68</td>\n",
       "      <td>56</td>\n",
       "      <td>HomeOwner</td>\n",
       "      <td>Employed</td>\n",
       "      <td>53000</td>\n",
       "      <td>Yes</td>\n",
       "      <td>14</td>\n",
       "      <td>561.84</td>\n",
       "    </tr>\n",
       "  </tbody>\n",
       "</table>\n",
       "</div>"
      ],
      "text/plain": [
       "   customer_age  months_at_address residence_status employment  income  \\\n",
       "0            53                 62           Tenant    Unknown   50000   \n",
       "1            61                 22        HomeOwner   Employed   52000   \n",
       "2            47                 30           Tenant   Employed   37000   \n",
       "3            50                 75        HomeOwner   Employed   53000   \n",
       "4            68                 56        HomeOwner   Employed   53000   \n",
       "\n",
       "  other_credits  months_with_bank  balance  \n",
       "0           Yes                55  1055.90  \n",
       "1           Yes                25  1161.60  \n",
       "2            No                61   877.23  \n",
       "3           Yes                20   157.37  \n",
       "4           Yes                14   561.84  "
      ]
     },
     "execution_count": 12,
     "metadata": {},
     "output_type": "execute_result"
    }
   ],
   "source": [
    "x_train_c = column_t.transform(x_train)\n",
    "x_train_c.head()"
   ]
  },
  {
   "cell_type": "code",
   "execution_count": 13,
   "id": "0a92f6de",
   "metadata": {},
   "outputs": [
    {
     "data": {
      "text/html": [
       "<div>\n",
       "<style scoped>\n",
       "    .dataframe tbody tr th:only-of-type {\n",
       "        vertical-align: middle;\n",
       "    }\n",
       "\n",
       "    .dataframe tbody tr th {\n",
       "        vertical-align: top;\n",
       "    }\n",
       "\n",
       "    .dataframe thead th {\n",
       "        text-align: right;\n",
       "    }\n",
       "</style>\n",
       "<table border=\"1\" class=\"dataframe\">\n",
       "  <thead>\n",
       "    <tr style=\"text-align: right;\">\n",
       "      <th></th>\n",
       "      <th>customer_age</th>\n",
       "      <th>months_at_address</th>\n",
       "      <th>residence_status</th>\n",
       "      <th>employment</th>\n",
       "      <th>income</th>\n",
       "      <th>other_credits</th>\n",
       "      <th>months_with_bank</th>\n",
       "      <th>balance</th>\n",
       "    </tr>\n",
       "  </thead>\n",
       "  <tbody>\n",
       "    <tr>\n",
       "      <th>0</th>\n",
       "      <td>(46, 58)</td>\n",
       "      <td>(23, 83)</td>\n",
       "      <td>Tenant</td>\n",
       "      <td>Unknown</td>\n",
       "      <td>(47000, inf)</td>\n",
       "      <td>Yes</td>\n",
       "      <td>(45, 71)</td>\n",
       "      <td>(558, 1254)</td>\n",
       "    </tr>\n",
       "    <tr>\n",
       "      <th>1</th>\n",
       "      <td>(58, inf)</td>\n",
       "      <td>(-inf, 23)</td>\n",
       "      <td>HomeOwner</td>\n",
       "      <td>Employed</td>\n",
       "      <td>(47000, inf)</td>\n",
       "      <td>Yes</td>\n",
       "      <td>(12, 45)</td>\n",
       "      <td>(558, 1254)</td>\n",
       "    </tr>\n",
       "    <tr>\n",
       "      <th>2</th>\n",
       "      <td>(46, 58)</td>\n",
       "      <td>(23, 83)</td>\n",
       "      <td>Tenant</td>\n",
       "      <td>Employed</td>\n",
       "      <td>(33000, 42000)</td>\n",
       "      <td>No</td>\n",
       "      <td>(45, 71)</td>\n",
       "      <td>(558, 1254)</td>\n",
       "    </tr>\n",
       "    <tr>\n",
       "      <th>3</th>\n",
       "      <td>(46, 58)</td>\n",
       "      <td>(23, 83)</td>\n",
       "      <td>HomeOwner</td>\n",
       "      <td>Employed</td>\n",
       "      <td>(47000, inf)</td>\n",
       "      <td>Yes</td>\n",
       "      <td>(12, 45)</td>\n",
       "      <td>(-inf, 558)</td>\n",
       "    </tr>\n",
       "    <tr>\n",
       "      <th>4</th>\n",
       "      <td>(58, inf)</td>\n",
       "      <td>(23, 83)</td>\n",
       "      <td>HomeOwner</td>\n",
       "      <td>Employed</td>\n",
       "      <td>(47000, inf)</td>\n",
       "      <td>Yes</td>\n",
       "      <td>(12, 45)</td>\n",
       "      <td>(558, 1254)</td>\n",
       "    </tr>\n",
       "  </tbody>\n",
       "</table>\n",
       "</div>"
      ],
      "text/plain": [
       "  customer_age months_at_address residence_status employment          income  \\\n",
       "0     (46, 58)          (23, 83)           Tenant    Unknown    (47000, inf)   \n",
       "1    (58, inf)        (-inf, 23)        HomeOwner   Employed    (47000, inf)   \n",
       "2     (46, 58)          (23, 83)           Tenant   Employed  (33000, 42000)   \n",
       "3     (46, 58)          (23, 83)        HomeOwner   Employed    (47000, inf)   \n",
       "4    (58, inf)          (23, 83)        HomeOwner   Employed    (47000, inf)   \n",
       "\n",
       "  other_credits months_with_bank      balance  \n",
       "0           Yes         (45, 71)  (558, 1254)  \n",
       "1           Yes         (12, 45)  (558, 1254)  \n",
       "2            No         (45, 71)  (558, 1254)  \n",
       "3           Yes         (12, 45)  (-inf, 558)  \n",
       "4           Yes         (12, 45)  (558, 1254)  "
      ]
     },
     "execution_count": 13,
     "metadata": {},
     "output_type": "execute_result"
    }
   ],
   "source": [
    "x_train_b = binning_t.transform(x_train_c)\n",
    "x_train_b.head()"
   ]
  },
  {
   "cell_type": "code",
   "execution_count": 14,
   "id": "091f823f",
   "metadata": {},
   "outputs": [
    {
     "data": {
      "text/plain": [
       "WOETransformer(columns=['customer_age', 'months_at_address', 'residence_status', 'employment', 'income', 'other_credits', 'months_with_bank', 'balance'], target_mappings={0: 'good', 1: 'bad'})"
      ]
     },
     "execution_count": 14,
     "metadata": {},
     "output_type": "execute_result"
    }
   ],
   "source": [
    "woe_t.fit(x_train_b, y_train)"
   ]
  },
  {
   "cell_type": "code",
   "execution_count": 15,
   "id": "beddaf94",
   "metadata": {
    "scrolled": false
   },
   "outputs": [
    {
     "data": {
      "text/html": [
       "<div>\n",
       "<style scoped>\n",
       "    .dataframe tbody tr th:only-of-type {\n",
       "        vertical-align: middle;\n",
       "    }\n",
       "\n",
       "    .dataframe tbody tr th {\n",
       "        vertical-align: top;\n",
       "    }\n",
       "\n",
       "    .dataframe thead th {\n",
       "        text-align: right;\n",
       "    }\n",
       "</style>\n",
       "<table border=\"1\" class=\"dataframe\">\n",
       "  <thead>\n",
       "    <tr style=\"text-align: right;\">\n",
       "      <th></th>\n",
       "      <th>customer_age</th>\n",
       "      <th>months_at_address</th>\n",
       "      <th>residence_status</th>\n",
       "      <th>employment</th>\n",
       "      <th>income</th>\n",
       "      <th>other_credits</th>\n",
       "      <th>months_with_bank</th>\n",
       "      <th>balance</th>\n",
       "    </tr>\n",
       "  </thead>\n",
       "  <tbody>\n",
       "    <tr>\n",
       "      <th>0</th>\n",
       "      <td>0.235324</td>\n",
       "      <td>0.025331</td>\n",
       "      <td>-0.095564</td>\n",
       "      <td>-0.199468</td>\n",
       "      <td>0.464963</td>\n",
       "      <td>0.053364</td>\n",
       "      <td>0.211872</td>\n",
       "      <td>-0.106289</td>\n",
       "    </tr>\n",
       "    <tr>\n",
       "      <th>1</th>\n",
       "      <td>0.817051</td>\n",
       "      <td>-0.073307</td>\n",
       "      <td>0.019329</td>\n",
       "      <td>0.241800</td>\n",
       "      <td>0.464963</td>\n",
       "      <td>0.053364</td>\n",
       "      <td>-0.103491</td>\n",
       "      <td>-0.106289</td>\n",
       "    </tr>\n",
       "    <tr>\n",
       "      <th>2</th>\n",
       "      <td>0.235324</td>\n",
       "      <td>0.025331</td>\n",
       "      <td>-0.095564</td>\n",
       "      <td>0.241800</td>\n",
       "      <td>-0.002221</td>\n",
       "      <td>-0.268316</td>\n",
       "      <td>0.211872</td>\n",
       "      <td>-0.106289</td>\n",
       "    </tr>\n",
       "    <tr>\n",
       "      <th>3</th>\n",
       "      <td>0.235324</td>\n",
       "      <td>0.025331</td>\n",
       "      <td>0.019329</td>\n",
       "      <td>0.241800</td>\n",
       "      <td>0.464963</td>\n",
       "      <td>0.053364</td>\n",
       "      <td>-0.103491</td>\n",
       "      <td>0.238383</td>\n",
       "    </tr>\n",
       "    <tr>\n",
       "      <th>4</th>\n",
       "      <td>0.817051</td>\n",
       "      <td>0.025331</td>\n",
       "      <td>0.019329</td>\n",
       "      <td>0.241800</td>\n",
       "      <td>0.464963</td>\n",
       "      <td>0.053364</td>\n",
       "      <td>-0.103491</td>\n",
       "      <td>-0.106289</td>\n",
       "    </tr>\n",
       "  </tbody>\n",
       "</table>\n",
       "</div>"
      ],
      "text/plain": [
       "   customer_age  months_at_address  residence_status  employment    income  \\\n",
       "0      0.235324           0.025331         -0.095564   -0.199468  0.464963   \n",
       "1      0.817051          -0.073307          0.019329    0.241800  0.464963   \n",
       "2      0.235324           0.025331         -0.095564    0.241800 -0.002221   \n",
       "3      0.235324           0.025331          0.019329    0.241800  0.464963   \n",
       "4      0.817051           0.025331          0.019329    0.241800  0.464963   \n",
       "\n",
       "   other_credits  months_with_bank   balance  \n",
       "0       0.053364          0.211872 -0.106289  \n",
       "1       0.053364         -0.103491 -0.106289  \n",
       "2      -0.268316          0.211872 -0.106289  \n",
       "3       0.053364         -0.103491  0.238383  \n",
       "4       0.053364         -0.103491 -0.106289  "
      ]
     },
     "execution_count": 15,
     "metadata": {},
     "output_type": "execute_result"
    }
   ],
   "source": [
    "woe_t.transform(x_train_b).head()"
   ]
  },
  {
   "cell_type": "markdown",
   "id": "e28b0888",
   "metadata": {},
   "source": [
    "# WOE\n",
    "\n",
    "Now that we transformer our data to the respective Weight of Evidence, we can get the mappings for a given column to analyze the WoE and IV, and determine if our bins have a good predictive power, or if we need to re-structure them."
   ]
  },
  {
   "cell_type": "code",
   "execution_count": 16,
   "id": "2911b251",
   "metadata": {},
   "outputs": [
    {
     "data": {
      "text/html": [
       "<div>\n",
       "<style scoped>\n",
       "    .dataframe tbody tr th:only-of-type {\n",
       "        vertical-align: middle;\n",
       "    }\n",
       "\n",
       "    .dataframe tbody tr th {\n",
       "        vertical-align: top;\n",
       "    }\n",
       "\n",
       "    .dataframe thead th {\n",
       "        text-align: right;\n",
       "    }\n",
       "</style>\n",
       "<table border=\"1\" class=\"dataframe\">\n",
       "  <thead>\n",
       "    <tr style=\"text-align: right;\">\n",
       "      <th></th>\n",
       "      <th>employment</th>\n",
       "      <th>good</th>\n",
       "      <th>bad</th>\n",
       "      <th>woe</th>\n",
       "      <th>info_val</th>\n",
       "    </tr>\n",
       "  </thead>\n",
       "  <tbody>\n",
       "    <tr>\n",
       "      <th>1</th>\n",
       "      <td>Unknown</td>\n",
       "      <td>0.493151</td>\n",
       "      <td>0.602015</td>\n",
       "      <td>-0.199468</td>\n",
       "      <td>0.021715</td>\n",
       "    </tr>\n",
       "    <tr>\n",
       "      <th>0</th>\n",
       "      <td>Employed</td>\n",
       "      <td>0.506849</td>\n",
       "      <td>0.397985</td>\n",
       "      <td>0.241800</td>\n",
       "      <td>0.026323</td>\n",
       "    </tr>\n",
       "  </tbody>\n",
       "</table>\n",
       "</div>"
      ],
      "text/plain": [
       "  employment      good       bad       woe  info_val\n",
       "1    Unknown  0.493151  0.602015 -0.199468  0.021715\n",
       "0   Employed  0.506849  0.397985  0.241800  0.026323"
      ]
     },
     "execution_count": 16,
     "metadata": {},
     "output_type": "execute_result"
    }
   ],
   "source": [
    "woe_t.woe_mappings[\"employment\"]"
   ]
  },
  {
   "cell_type": "code",
   "execution_count": 17,
   "id": "bae1be5c",
   "metadata": {},
   "outputs": [
    {
     "data": {
      "text/html": [
       "<div>\n",
       "<style scoped>\n",
       "    .dataframe tbody tr th:only-of-type {\n",
       "        vertical-align: middle;\n",
       "    }\n",
       "\n",
       "    .dataframe tbody tr th {\n",
       "        vertical-align: top;\n",
       "    }\n",
       "\n",
       "    .dataframe thead th {\n",
       "        text-align: right;\n",
       "    }\n",
       "</style>\n",
       "<table border=\"1\" class=\"dataframe\">\n",
       "  <thead>\n",
       "    <tr style=\"text-align: right;\">\n",
       "      <th></th>\n",
       "      <th>months_with_bank</th>\n",
       "      <th>good</th>\n",
       "      <th>bad</th>\n",
       "      <th>woe</th>\n",
       "      <th>info_val</th>\n",
       "    </tr>\n",
       "  </thead>\n",
       "  <tbody>\n",
       "    <tr>\n",
       "      <th>0</th>\n",
       "      <td>(-inf, 12)</td>\n",
       "      <td>0.195517</td>\n",
       "      <td>0.251889</td>\n",
       "      <td>-0.253343</td>\n",
       "      <td>0.014282</td>\n",
       "    </tr>\n",
       "    <tr>\n",
       "      <th>1</th>\n",
       "      <td>(12, 45)</td>\n",
       "      <td>0.476961</td>\n",
       "      <td>0.528967</td>\n",
       "      <td>-0.103491</td>\n",
       "      <td>0.005382</td>\n",
       "    </tr>\n",
       "    <tr>\n",
       "      <th>2</th>\n",
       "      <td>(45, 71)</td>\n",
       "      <td>0.211706</td>\n",
       "      <td>0.171285</td>\n",
       "      <td>0.211872</td>\n",
       "      <td>0.008564</td>\n",
       "    </tr>\n",
       "    <tr>\n",
       "      <th>3</th>\n",
       "      <td>(71, inf)</td>\n",
       "      <td>0.115816</td>\n",
       "      <td>0.047859</td>\n",
       "      <td>0.883742</td>\n",
       "      <td>0.060056</td>\n",
       "    </tr>\n",
       "  </tbody>\n",
       "</table>\n",
       "</div>"
      ],
      "text/plain": [
       "  months_with_bank      good       bad       woe  info_val\n",
       "0       (-inf, 12)  0.195517  0.251889 -0.253343  0.014282\n",
       "1         (12, 45)  0.476961  0.528967 -0.103491  0.005382\n",
       "2         (45, 71)  0.211706  0.171285  0.211872  0.008564\n",
       "3        (71, inf)  0.115816  0.047859  0.883742  0.060056"
      ]
     },
     "execution_count": 17,
     "metadata": {},
     "output_type": "execute_result"
    }
   ],
   "source": [
    "woe_t.woe_mappings[\"months_with_bank\"]"
   ]
  },
  {
   "cell_type": "code",
   "execution_count": 18,
   "id": "203fb2cf",
   "metadata": {},
   "outputs": [
    {
     "data": {
      "text/html": [
       "<div>\n",
       "<style scoped>\n",
       "    .dataframe tbody tr th:only-of-type {\n",
       "        vertical-align: middle;\n",
       "    }\n",
       "\n",
       "    .dataframe tbody tr th {\n",
       "        vertical-align: top;\n",
       "    }\n",
       "\n",
       "    .dataframe thead th {\n",
       "        text-align: right;\n",
       "    }\n",
       "</style>\n",
       "<table border=\"1\" class=\"dataframe\">\n",
       "  <thead>\n",
       "    <tr style=\"text-align: right;\">\n",
       "      <th></th>\n",
       "      <th>months_at_address</th>\n",
       "      <th>good</th>\n",
       "      <th>bad</th>\n",
       "      <th>woe</th>\n",
       "      <th>info_val</th>\n",
       "    </tr>\n",
       "  </thead>\n",
       "  <tbody>\n",
       "    <tr>\n",
       "      <th>0</th>\n",
       "      <td>(-inf, 23)</td>\n",
       "      <td>0.311333</td>\n",
       "      <td>0.335013</td>\n",
       "      <td>-0.073307</td>\n",
       "      <td>0.001736</td>\n",
       "    </tr>\n",
       "    <tr>\n",
       "      <th>1</th>\n",
       "      <td>(23, 83)</td>\n",
       "      <td>0.589041</td>\n",
       "      <td>0.574307</td>\n",
       "      <td>0.025331</td>\n",
       "      <td>0.000373</td>\n",
       "    </tr>\n",
       "    <tr>\n",
       "      <th>2</th>\n",
       "      <td>(83, inf)</td>\n",
       "      <td>0.099626</td>\n",
       "      <td>0.090680</td>\n",
       "      <td>0.094089</td>\n",
       "      <td>0.000842</td>\n",
       "    </tr>\n",
       "  </tbody>\n",
       "</table>\n",
       "</div>"
      ],
      "text/plain": [
       "  months_at_address      good       bad       woe  info_val\n",
       "0        (-inf, 23)  0.311333  0.335013 -0.073307  0.001736\n",
       "1          (23, 83)  0.589041  0.574307  0.025331  0.000373\n",
       "2         (83, inf)  0.099626  0.090680  0.094089  0.000842"
      ]
     },
     "execution_count": 18,
     "metadata": {},
     "output_type": "execute_result"
    }
   ],
   "source": [
    "woe_t.woe_mappings[\"months_at_address\"]"
   ]
  },
  {
   "cell_type": "code",
   "execution_count": 19,
   "id": "f6344505",
   "metadata": {},
   "outputs": [
    {
     "data": {
      "text/html": [
       "<div>\n",
       "<style scoped>\n",
       "    .dataframe tbody tr th:only-of-type {\n",
       "        vertical-align: middle;\n",
       "    }\n",
       "\n",
       "    .dataframe tbody tr th {\n",
       "        vertical-align: top;\n",
       "    }\n",
       "\n",
       "    .dataframe thead th {\n",
       "        text-align: right;\n",
       "    }\n",
       "</style>\n",
       "<table border=\"1\" class=\"dataframe\">\n",
       "  <thead>\n",
       "    <tr style=\"text-align: right;\">\n",
       "      <th></th>\n",
       "      <th>income</th>\n",
       "      <th>good</th>\n",
       "      <th>bad</th>\n",
       "      <th>woe</th>\n",
       "      <th>info_val</th>\n",
       "    </tr>\n",
       "  </thead>\n",
       "  <tbody>\n",
       "    <tr>\n",
       "      <th>0</th>\n",
       "      <td>(-inf, 29000)</td>\n",
       "      <td>0.079701</td>\n",
       "      <td>0.171285</td>\n",
       "      <td>-0.765043</td>\n",
       "      <td>0.070065</td>\n",
       "    </tr>\n",
       "    <tr>\n",
       "      <th>1</th>\n",
       "      <td>(29000, 33000)</td>\n",
       "      <td>0.122042</td>\n",
       "      <td>0.146096</td>\n",
       "      <td>-0.179894</td>\n",
       "      <td>0.004327</td>\n",
       "    </tr>\n",
       "    <tr>\n",
       "      <th>2</th>\n",
       "      <td>(33000, 42000)</td>\n",
       "      <td>0.414695</td>\n",
       "      <td>0.415617</td>\n",
       "      <td>-0.002221</td>\n",
       "      <td>0.000002</td>\n",
       "    </tr>\n",
       "    <tr>\n",
       "      <th>3</th>\n",
       "      <td>(42000, 47000)</td>\n",
       "      <td>0.183064</td>\n",
       "      <td>0.141058</td>\n",
       "      <td>0.260662</td>\n",
       "      <td>0.010949</td>\n",
       "    </tr>\n",
       "    <tr>\n",
       "      <th>4</th>\n",
       "      <td>(47000, inf)</td>\n",
       "      <td>0.200498</td>\n",
       "      <td>0.125945</td>\n",
       "      <td>0.464963</td>\n",
       "      <td>0.034665</td>\n",
       "    </tr>\n",
       "  </tbody>\n",
       "</table>\n",
       "</div>"
      ],
      "text/plain": [
       "           income      good       bad       woe  info_val\n",
       "0   (-inf, 29000)  0.079701  0.171285 -0.765043  0.070065\n",
       "1  (29000, 33000)  0.122042  0.146096 -0.179894  0.004327\n",
       "2  (33000, 42000)  0.414695  0.415617 -0.002221  0.000002\n",
       "3  (42000, 47000)  0.183064  0.141058  0.260662  0.010949\n",
       "4    (47000, inf)  0.200498  0.125945  0.464963  0.034665"
      ]
     },
     "execution_count": 19,
     "metadata": {},
     "output_type": "execute_result"
    }
   ],
   "source": [
    "woe_t.woe_mappings[\"income\"]"
   ]
  },
  {
   "cell_type": "code",
   "execution_count": 20,
   "id": "c964d6fa",
   "metadata": {},
   "outputs": [
    {
     "data": {
      "text/html": [
       "<div>\n",
       "<style scoped>\n",
       "    .dataframe tbody tr th:only-of-type {\n",
       "        vertical-align: middle;\n",
       "    }\n",
       "\n",
       "    .dataframe tbody tr th {\n",
       "        vertical-align: top;\n",
       "    }\n",
       "\n",
       "    .dataframe thead th {\n",
       "        text-align: right;\n",
       "    }\n",
       "</style>\n",
       "<table border=\"1\" class=\"dataframe\">\n",
       "  <thead>\n",
       "    <tr style=\"text-align: right;\">\n",
       "      <th></th>\n",
       "      <th>balance</th>\n",
       "      <th>good</th>\n",
       "      <th>bad</th>\n",
       "      <th>woe</th>\n",
       "      <th>info_val</th>\n",
       "    </tr>\n",
       "  </thead>\n",
       "  <tbody>\n",
       "    <tr>\n",
       "      <th>2</th>\n",
       "      <td>(1597, inf)</td>\n",
       "      <td>0.089664</td>\n",
       "      <td>0.120907</td>\n",
       "      <td>-0.298953</td>\n",
       "      <td>0.009340</td>\n",
       "    </tr>\n",
       "    <tr>\n",
       "      <th>1</th>\n",
       "      <td>(1254, 1597)</td>\n",
       "      <td>0.094645</td>\n",
       "      <td>0.110831</td>\n",
       "      <td>-0.157875</td>\n",
       "      <td>0.002555</td>\n",
       "    </tr>\n",
       "    <tr>\n",
       "      <th>3</th>\n",
       "      <td>(558, 1254)</td>\n",
       "      <td>0.387298</td>\n",
       "      <td>0.430730</td>\n",
       "      <td>-0.106289</td>\n",
       "      <td>0.004616</td>\n",
       "    </tr>\n",
       "    <tr>\n",
       "      <th>0</th>\n",
       "      <td>(-inf, 558)</td>\n",
       "      <td>0.428394</td>\n",
       "      <td>0.337531</td>\n",
       "      <td>0.238383</td>\n",
       "      <td>0.021660</td>\n",
       "    </tr>\n",
       "  </tbody>\n",
       "</table>\n",
       "</div>"
      ],
      "text/plain": [
       "        balance      good       bad       woe  info_val\n",
       "2   (1597, inf)  0.089664  0.120907 -0.298953  0.009340\n",
       "1  (1254, 1597)  0.094645  0.110831 -0.157875  0.002555\n",
       "3   (558, 1254)  0.387298  0.430730 -0.106289  0.004616\n",
       "0   (-inf, 558)  0.428394  0.337531  0.238383  0.021660"
      ]
     },
     "execution_count": 20,
     "metadata": {},
     "output_type": "execute_result"
    }
   ],
   "source": [
    "woe_t.woe_mappings[\"balance\"]"
   ]
  },
  {
   "cell_type": "code",
   "execution_count": 21,
   "id": "dad84b02",
   "metadata": {},
   "outputs": [
    {
     "data": {
      "image/png": "[encoded data removed]",
      "text/plain": [
       "<Figure size 864x576 with 2 Axes>"
      ]
     },
     "metadata": {
      "needs_background": "light"
     },
     "output_type": "display_data"
    }
   ],
   "source": [
    "ax = woe_t.woe_mappings[\"customer_age\"].plot.bar(\n",
    "    x=\"customer_age\", y=[\"good\", \"bad\"], figsize=(12, 8), stacked=True\n",
    ")\n",
    "\n",
    "woe_t.woe_mappings[\"customer_age\"].plot(\n",
    "    x=\"customer_age\", y=\"woe\", ax=ax, secondary_y=True, mark_right=False, c=\"r\"\n",
    ")\n",
    "\n",
    "ax.right_ax.set_ylabel(\"WOE\")\n",
    "ax.set_ylabel(\"Relative Odds\");"
   ]
  },
  {
   "cell_type": "code",
   "execution_count": 22,
   "id": "fe027b7a",
   "metadata": {},
   "outputs": [
    {
     "data": {
      "image/png": "[encoded data removed]",
      "text/plain": [
       "<Figure size 864x576 with 2 Axes>"
      ]
     },
     "metadata": {
      "needs_background": "light"
     },
     "output_type": "display_data"
    }
   ],
   "source": [
    "ax = woe_t.woe_mappings[\"months_at_address\"].plot.bar(\n",
    "    x=\"months_at_address\", y=[\"good\", \"bad\"], figsize=(12, 8), stacked=True\n",
    ")\n",
    "\n",
    "woe_t.woe_mappings[\"months_at_address\"].plot(\n",
    "    x=\"months_at_address\", y=\"woe\", ax=ax, secondary_y=True, mark_right=False, c=\"r\"\n",
    ")\n",
    "\n",
    "ax.right_ax.set_ylabel(\"WOE\")\n",
    "ax.set_ylabel(\"Relative Odds\");"
   ]
  },
  {
   "cell_type": "code",
   "execution_count": 23,
   "id": "f2fba01d",
   "metadata": {},
   "outputs": [
    {
     "data": {
      "image/png": "[encoded data removed]",
      "text/plain": [
       "<Figure size 864x576 with 2 Axes>"
      ]
     },
     "metadata": {
      "needs_background": "light"
     },
     "output_type": "display_data"
    }
   ],
   "source": [
    "ax = woe_t.woe_mappings[\"income\"].plot.bar(\n",
    "    x=\"income\", y=[\"good\", \"bad\"], figsize=(12, 8), stacked=True\n",
    ")\n",
    "\n",
    "woe_t.woe_mappings[\"income\"].plot(\n",
    "    x=\"income\", y=\"woe\", ax=ax, secondary_y=True, mark_right=False, c=\"r\"\n",
    ")\n",
    "\n",
    "ax.right_ax.set_ylabel(\"WOE\")\n",
    "ax.set_ylabel(\"Relative Odds\");"
   ]
  },
  {
   "cell_type": "code",
   "execution_count": 24,
   "id": "df5d0a95",
   "metadata": {},
   "outputs": [
    {
     "data": {
      "image/png": "[encoded data removed]",
      "text/plain": [
       "<Figure size 864x576 with 2 Axes>"
      ]
     },
     "metadata": {
      "needs_background": "light"
     },
     "output_type": "display_data"
    }
   ],
   "source": [
    "ax = woe_t.woe_mappings[\"months_with_bank\"].plot.bar(\n",
    "    x=\"months_with_bank\", y=[\"good\", \"bad\"], figsize=(12, 8), stacked=True\n",
    ")\n",
    "\n",
    "woe_t.woe_mappings[\"months_with_bank\"].plot(\n",
    "    x=\"months_with_bank\", y=\"woe\", ax=ax, secondary_y=True, mark_right=False, c=\"r\"\n",
    ")\n",
    "\n",
    "ax.right_ax.set_ylabel(\"WOE\")\n",
    "ax.set_ylabel(\"Relative Odds\");"
   ]
  },
  {
   "cell_type": "code",
   "execution_count": 25,
   "id": "0f3dd8dc",
   "metadata": {
    "scrolled": false
   },
   "outputs": [
    {
     "data": {
      "image/png": "[encoded data removed]",
      "text/plain": [
       "<Figure size 864x576 with 2 Axes>"
      ]
     },
     "metadata": {
      "needs_background": "light"
     },
     "output_type": "display_data"
    }
   ],
   "source": [
    "ax = woe_t.woe_mappings[\"balance\"].plot.bar(\n",
    "    x=\"balance\", y=[\"good\", \"bad\"], figsize=(12, 8), stacked=True\n",
    ")\n",
    "\n",
    "woe_t.woe_mappings[\"balance\"].plot(\n",
    "    x=\"balance\", y=\"woe\", ax=ax, secondary_y=True, mark_right=False, c=\"r\"\n",
    ")\n",
    "\n",
    "ax.right_ax.set_ylabel(\"WOE\")\n",
    "ax.set_ylabel(\"Relative Odds\");"
   ]
  },
  {
   "cell_type": "markdown",
   "id": "84dc8c29",
   "metadata": {},
   "source": [
    "# Pipelines\n",
    "\n",
    "We already defined our custom transformers, and since we added a `fit` and `transform` method, we are able to use `sklearn.pipelines` to stack the transformers and models into a single job that is dealing with raw data. "
   ]
  },
  {
   "cell_type": "code",
   "execution_count": 26,
   "id": "75d01477",
   "metadata": {},
   "outputs": [],
   "source": [
    "ml_pipe = Pipeline([\n",
    "    ('col selector', ColumnSelectorTransformer(columns=cols_to_keep)),\n",
    "    ('bins', BinningTransformer(bins=bins)),\n",
    "    ('woe', WOETransformer(columns=cols_to_keep)),\n",
    "    # ('logistic regression', LogisticRegression(random_state=seed))\n",
    "    ('gdbt', GradientBoostingClassifier(random_state=seed))\n",
    "])"
   ]
  },
  {
   "cell_type": "markdown",
   "id": "7ed6ed99",
   "metadata": {},
   "source": [
    "## Target Variable\n",
    "\n",
    "We change the model to predict the non-default probability.\n"
   ]
  },
  {
   "cell_type": "code",
   "execution_count": 27,
   "id": "cff33828",
   "metadata": {},
   "outputs": [],
   "source": [
    "y_train_nd = [1 if val==0 else 0 for val in y_train.values]"
   ]
  },
  {
   "cell_type": "code",
   "execution_count": 28,
   "id": "a9e78b78",
   "metadata": {
    "scrolled": true
   },
   "outputs": [
    {
     "data": {
      "text/html": [
       "<style>#sk-container-id-1 {color: black;background-color: white;}#sk-container-id-1 pre{padding: 0;}#sk-container-id-1 div.sk-toggleable {background-color: white;}#sk-container-id-1 label.sk-toggleable__label {cursor: pointer;display: block;width: 100%;margin-bottom: 0;padding: 0.3em;box-sizing: border-box;text-align: center;}#sk-container-id-1 label.sk-toggleable__label-arrow:before {content: \"▸\";float: left;margin-right: 0.25em;color: #696969;}#sk-container-id-1 label.sk-toggleable__label-arrow:hover:before {color: black;}#sk-container-id-1 div.sk-estimator:hover label.sk-toggleable__label-arrow:before {color: black;}#sk-container-id-1 div.sk-toggleable__content {max-height: 0;max-width: 0;overflow: hidden;text-align: left;background-color: #f0f8ff;}#sk-container-id-1 div.sk-toggleable__content pre {margin: 0.2em;color: black;border-radius: 0.25em;background-color: #f0f8ff;}#sk-container-id-1 input.sk-toggleable__control:checked~div.sk-toggleable__content {max-height: 200px;max-width: 100%;overflow: auto;}#sk-container-id-1 input.sk-toggleable__control:checked~label.sk-toggleable__label-arrow:before {content: \"▾\";}#sk-container-id-1 div.sk-estimator input.sk-toggleable__control:checked~label.sk-toggleable__label {background-color: #d4ebff;}#sk-container-id-1 div.sk-label input.sk-toggleable__control:checked~label.sk-toggleable__label {background-color: #d4ebff;}#sk-container-id-1 input.sk-hidden--visually {border: 0;clip: rect(1px 1px 1px 1px);clip: rect(1px, 1px, 1px, 1px);height: 1px;margin: -1px;overflow: hidden;padding: 0;position: absolute;width: 1px;}#sk-container-id-1 div.sk-estimator {font-family: monospace;background-color: #f0f8ff;border: 1px dotted black;border-radius: 0.25em;box-sizing: border-box;margin-bottom: 0.5em;}#sk-container-id-1 div.sk-estimator:hover {background-color: #d4ebff;}#sk-container-id-1 div.sk-parallel-item::after {content: \"\";width: 100%;border-bottom: 1px solid gray;flex-grow: 1;}#sk-container-id-1 div.sk-label:hover label.sk-toggleable__label {background-color: #d4ebff;}#sk-container-id-1 div.sk-serial::before {content: \"\";position: absolute;border-left: 1px solid gray;box-sizing: border-box;top: 0;bottom: 0;left: 50%;z-index: 0;}#sk-container-id-1 div.sk-serial {display: flex;flex-direction: column;align-items: center;background-color: white;padding-right: 0.2em;padding-left: 0.2em;position: relative;}#sk-container-id-1 div.sk-item {position: relative;z-index: 1;}#sk-container-id-1 div.sk-parallel {display: flex;align-items: stretch;justify-content: center;background-color: white;position: relative;}#sk-container-id-1 div.sk-item::before, #sk-container-id-1 div.sk-parallel-item::before {content: \"\";position: absolute;border-left: 1px solid gray;box-sizing: border-box;top: 0;bottom: 0;left: 50%;z-index: -1;}#sk-container-id-1 div.sk-parallel-item {display: flex;flex-direction: column;z-index: 1;position: relative;background-color: white;}#sk-container-id-1 div.sk-parallel-item:first-child::after {align-self: flex-end;width: 50%;}#sk-container-id-1 div.sk-parallel-item:last-child::after {align-self: flex-start;width: 50%;}#sk-container-id-1 div.sk-parallel-item:only-child::after {width: 0;}#sk-container-id-1 div.sk-dashed-wrapped {border: 1px dashed gray;margin: 0 0.4em 0.5em 0.4em;box-sizing: border-box;padding-bottom: 0.4em;background-color: white;}#sk-container-id-1 div.sk-label label {font-family: monospace;font-weight: bold;display: inline-block;line-height: 1.2em;}#sk-container-id-1 div.sk-label-container {text-align: center;}#sk-container-id-1 div.sk-container {/* jupyter's `normalize.less` sets `[hidden] { display: none; }` but bootstrap.min.css set `[hidden] { display: none !important; }` so we also need the `!important` here to be able to override the default hidden behavior on the sphinx rendered scikit-learn.org. See: https://github.com/scikit-learn/scikit-learn/issues/21755 */display: inline-block !important;position: relative;}#sk-container-id-1 div.sk-text-repr-fallback {display: none;}</style><div id=\"sk-container-id-1\" class=\"sk-top-container\"><div class=\"sk-text-repr-fallback\"><pre>Pipeline(steps=[(&#x27;col selector&#x27;,\n",
       "                 ColumnSelectorTransformer([&#x27;customer_age&#x27;, &#x27;months_at_address&#x27;, &#x27;residence_status&#x27;, &#x27;employment&#x27;, &#x27;income&#x27;, &#x27;other_credits&#x27;, &#x27;months_with_bank&#x27;, &#x27;balance&#x27;])),\n",
       "                (&#x27;bins&#x27;, BinningTransformer()),\n",
       "                (&#x27;woe&#x27;,\n",
       "                 WOETransformer(columns=[&#x27;customer_age&#x27;, &#x27;months_at_address&#x27;, &#x27;residence_status&#x27;, &#x27;employment&#x27;, &#x27;income&#x27;, &#x27;other_credits&#x27;, &#x27;months_with_bank&#x27;, &#x27;balance&#x27;], target_mappings={0: &#x27;good&#x27;, 1: &#x27;bad&#x27;})),\n",
       "                (&#x27;gdbt&#x27;, GradientBoostingClassifier(random_state=0))])</pre><b>In a Jupyter environment, please rerun this cell to show the HTML representation or trust the notebook. <br />On GitHub, the HTML representation is unable to render, please try loading this page with nbviewer.org.</b></div><div class=\"sk-container\" hidden><div class=\"sk-item sk-dashed-wrapped\"><div class=\"sk-label-container\"><div class=\"sk-label sk-toggleable\"><input class=\"sk-toggleable__control sk-hidden--visually\" id=\"sk-estimator-id-1\" type=\"checkbox\" ><label for=\"sk-estimator-id-1\" class=\"sk-toggleable__label sk-toggleable__label-arrow\">Pipeline</label><div class=\"sk-toggleable__content\"><pre>Pipeline(steps=[(&#x27;col selector&#x27;,\n",
       "                 ColumnSelectorTransformer([&#x27;customer_age&#x27;, &#x27;months_at_address&#x27;, &#x27;residence_status&#x27;, &#x27;employment&#x27;, &#x27;income&#x27;, &#x27;other_credits&#x27;, &#x27;months_with_bank&#x27;, &#x27;balance&#x27;])),\n",
       "                (&#x27;bins&#x27;, BinningTransformer()),\n",
       "                (&#x27;woe&#x27;,\n",
       "                 WOETransformer(columns=[&#x27;customer_age&#x27;, &#x27;months_at_address&#x27;, &#x27;residence_status&#x27;, &#x27;employment&#x27;, &#x27;income&#x27;, &#x27;other_credits&#x27;, &#x27;months_with_bank&#x27;, &#x27;balance&#x27;], target_mappings={0: &#x27;good&#x27;, 1: &#x27;bad&#x27;})),\n",
       "                (&#x27;gdbt&#x27;, GradientBoostingClassifier(random_state=0))])</pre></div></div></div><div class=\"sk-serial\"><div class=\"sk-item\"><div class=\"sk-estimator sk-toggleable\"><input class=\"sk-toggleable__control sk-hidden--visually\" id=\"sk-estimator-id-2\" type=\"checkbox\" ><label for=\"sk-estimator-id-2\" class=\"sk-toggleable__label sk-toggleable__label-arrow\">ColumnSelectorTransformer</label><div class=\"sk-toggleable__content\"><pre>ColumnSelectorTransformer([&#x27;customer_age&#x27;, &#x27;months_at_address&#x27;, &#x27;residence_status&#x27;, &#x27;employment&#x27;, &#x27;income&#x27;, &#x27;other_credits&#x27;, &#x27;months_with_bank&#x27;, &#x27;balance&#x27;])</pre></div></div></div><div class=\"sk-item\"><div class=\"sk-estimator sk-toggleable\"><input class=\"sk-toggleable__control sk-hidden--visually\" id=\"sk-estimator-id-3\" type=\"checkbox\" ><label for=\"sk-estimator-id-3\" class=\"sk-toggleable__label sk-toggleable__label-arrow\">BinningTransformer</label><div class=\"sk-toggleable__content\"><pre>BinningTransformer()</pre></div></div></div><div class=\"sk-item\"><div class=\"sk-estimator sk-toggleable\"><input class=\"sk-toggleable__control sk-hidden--visually\" id=\"sk-estimator-id-4\" type=\"checkbox\" ><label for=\"sk-estimator-id-4\" class=\"sk-toggleable__label sk-toggleable__label-arrow\">WOETransformer</label><div class=\"sk-toggleable__content\"><pre>WOETransformer(columns=[&#x27;customer_age&#x27;, &#x27;months_at_address&#x27;, &#x27;residence_status&#x27;, &#x27;employment&#x27;, &#x27;income&#x27;, &#x27;other_credits&#x27;, &#x27;months_with_bank&#x27;, &#x27;balance&#x27;], target_mappings={0: &#x27;good&#x27;, 1: &#x27;bad&#x27;})</pre></div></div></div><div class=\"sk-item\"><div class=\"sk-estimator sk-toggleable\"><input class=\"sk-toggleable__control sk-hidden--visually\" id=\"sk-estimator-id-5\" type=\"checkbox\" ><label for=\"sk-estimator-id-5\" class=\"sk-toggleable__label sk-toggleable__label-arrow\">GradientBoostingClassifier</label><div class=\"sk-toggleable__content\"><pre>GradientBoostingClassifier(random_state=0)</pre></div></div></div></div></div></div></div>"
      ],
      "text/plain": [
       "Pipeline(steps=[('col selector',\n",
       "                 ColumnSelectorTransformer(['customer_age', 'months_at_address', 'residence_status', 'employment', 'income', 'other_credits', 'months_with_bank', 'balance'])),\n",
       "                ('bins', BinningTransformer()),\n",
       "                ('woe',\n",
       "                 WOETransformer(columns=['customer_age', 'months_at_address', 'residence_status', 'employment', 'income', 'other_credits', 'months_with_bank', 'balance'], target_mappings={0: 'good', 1: 'bad'})),\n",
       "                ('gdbt', GradientBoostingClassifier(random_state=0))])"
      ]
     },
     "execution_count": 28,
     "metadata": {},
     "output_type": "execute_result"
    }
   ],
   "source": [
    "ml_pipe.fit(x_train, y_train_nd)"
   ]
  },
  {
   "cell_type": "code",
   "execution_count": 29,
   "id": "56be2f24",
   "metadata": {},
   "outputs": [
    {
     "data": {
      "text/plain": [
       "0.715"
      ]
     },
     "execution_count": 29,
     "metadata": {},
     "output_type": "execute_result"
    }
   ],
   "source": [
    "ml_pipe.score(x_train, y_train_nd)"
   ]
  },
  {
   "cell_type": "code",
   "execution_count": 30,
   "id": "523f92b8",
   "metadata": {},
   "outputs": [
    {
     "data": {
      "text/plain": [
       "array([[0.20964233, 0.79035767],\n",
       "       [0.12986429, 0.87013571],\n",
       "       [0.31834628, 0.68165372],\n",
       "       ...,\n",
       "       [0.37199292, 0.62800708],\n",
       "       [0.18461841, 0.81538159],\n",
       "       [0.46838573, 0.53161427]])"
      ]
     },
     "execution_count": 30,
     "metadata": {},
     "output_type": "execute_result"
    }
   ],
   "source": [
    "ml_pipe.predict_proba(x_train)"
   ]
  },
  {
   "cell_type": "code",
   "execution_count": 31,
   "id": "990f84b8",
   "metadata": {},
   "outputs": [],
   "source": [
    "y_pred = ml_pipe.predict(x_train)"
   ]
  },
  {
   "cell_type": "code",
   "execution_count": 32,
   "id": "8353c396",
   "metadata": {},
   "outputs": [
    {
     "name": "stdout",
     "output_type": "stream",
     "text": [
      "ROC AUC: 0.7483978531388904\n",
      "F1: 0.8139281828073993\n"
     ]
    }
   ],
   "source": [
    "fpr, tpr, threshold = roc_curve(y_train_nd, ml_pipe.predict_proba(x_train)[:, 1])\n",
    "roc_auc = auc(fpr, tpr)\n",
    "f1 = f1_score(y_train_nd, y_pred)\n",
    "print(f\"ROC AUC: {roc_auc}\")\n",
    "print(f\"F1: {f1}\")"
   ]
  },
  {
   "cell_type": "code",
   "execution_count": 33,
   "id": "2582117b",
   "metadata": {},
   "outputs": [
    {
     "data": {
      "image/png": "[encoded data removed]",
      "text/plain": [
       "<Figure size 864x576 with 1 Axes>"
      ]
     },
     "metadata": {
      "needs_background": "light"
     },
     "output_type": "display_data"
    }
   ],
   "source": [
    "plt.figure(figsize=(12, 8))\n",
    "plt.title('Receiver Operating Characteristic')\n",
    "plt.plot(fpr, tpr, 'b', label = 'AUC = %0.2f' % roc_auc)\n",
    "plt.legend(loc = 'lower right')\n",
    "plt.plot([0, 1], [0, 1],'k--')\n",
    "plt.xlim([0, 1])\n",
    "plt.ylim([0, 1])\n",
    "plt.grid()\n",
    "plt.ylabel('True Positive Rate')\n",
    "plt.xlabel('False Positive Rate')\n",
    "plt.show()"
   ]
  },
  {
   "cell_type": "code",
   "execution_count": 34,
   "id": "f89aca6e",
   "metadata": {},
   "outputs": [
    {
     "data": {
      "text/html": [
       "<div>\n",
       "<style scoped>\n",
       "    .dataframe tbody tr th:only-of-type {\n",
       "        vertical-align: middle;\n",
       "    }\n",
       "\n",
       "    .dataframe tbody tr th {\n",
       "        vertical-align: top;\n",
       "    }\n",
       "\n",
       "    .dataframe thead th {\n",
       "        text-align: right;\n",
       "    }\n",
       "</style>\n",
       "<table border=\"1\" class=\"dataframe\">\n",
       "  <thead>\n",
       "    <tr style=\"text-align: right;\">\n",
       "      <th></th>\n",
       "      <th>y_original</th>\n",
       "      <th>y_predicted</th>\n",
       "    </tr>\n",
       "  </thead>\n",
       "  <tbody>\n",
       "    <tr>\n",
       "      <th>0</th>\n",
       "      <td>1</td>\n",
       "      <td>0.790358</td>\n",
       "    </tr>\n",
       "    <tr>\n",
       "      <th>1</th>\n",
       "      <td>1</td>\n",
       "      <td>0.870136</td>\n",
       "    </tr>\n",
       "    <tr>\n",
       "      <th>2</th>\n",
       "      <td>1</td>\n",
       "      <td>0.681654</td>\n",
       "    </tr>\n",
       "    <tr>\n",
       "      <th>3</th>\n",
       "      <td>1</td>\n",
       "      <td>0.796354</td>\n",
       "    </tr>\n",
       "    <tr>\n",
       "      <th>4</th>\n",
       "      <td>1</td>\n",
       "      <td>0.851499</td>\n",
       "    </tr>\n",
       "  </tbody>\n",
       "</table>\n",
       "</div>"
      ],
      "text/plain": [
       "   y_original  y_predicted\n",
       "0           1     0.790358\n",
       "1           1     0.870136\n",
       "2           1     0.681654\n",
       "3           1     0.796354\n",
       "4           1     0.851499"
      ]
     },
     "execution_count": 34,
     "metadata": {},
     "output_type": "execute_result"
    }
   ],
   "source": [
    "predictions = pd.DataFrame({\"y_original\": y_train_nd, \"y_predicted\": ml_pipe.predict_proba(x_train)[:, 1]})\n",
    "predictions.head()"
   ]
  },
  {
   "cell_type": "code",
   "execution_count": 35,
   "id": "9ee3287f",
   "metadata": {
    "scrolled": false
   },
   "outputs": [
    {
     "data": {
      "image/png": "[encoded data removed]",
      "text/plain": [
       "<Figure size 864x576 with 1 Axes>"
      ]
     },
     "metadata": {
      "needs_background": "light"
     },
     "output_type": "display_data"
    }
   ],
   "source": [
    "predictions.plot.hist(title=\"General Score Histogram\", y=\"y_predicted\", \n",
    "                      bins=10, alpha=0.8, figsize=(12, 8));"
   ]
  },
  {
   "cell_type": "code",
   "execution_count": 36,
   "id": "27027800",
   "metadata": {
    "scrolled": false
   },
   "outputs": [
    {
     "data": {
      "image/png": "[encoded data removed]",
      "text/plain": [
       "<Figure size 864x576 with 1 Axes>"
      ]
     },
     "metadata": {
      "needs_background": "light"
     },
     "output_type": "display_data"
    }
   ],
   "source": [
    "fig, ax = plt.subplots(figsize=(12, 8))\n",
    "\n",
    "predictions[predictions[\"y_original\"] == 1].plot.hist(title=\"General Score Hist\",\n",
    "                                                      y=\"y_predicted\",\n",
    "                                                      bins=10,\n",
    "                                                      alpha=0.8,\n",
    "                                                      ax=ax,\n",
    "                                                      label=\"1 - Non-default\")\n",
    "\n",
    "predictions[predictions[\"y_original\"] == 0].plot.hist(title=\"General Score Hist\",\n",
    "                                                      y=\"y_predicted\",\n",
    "                                                      bins=10,\n",
    "                                                      alpha=0.8,\n",
    "                                                      ax=ax,\n",
    "                                                      label=\"0 - Default\");\n"
   ]
  },
  {
   "cell_type": "code",
   "execution_count": 37,
   "id": "125ddc63",
   "metadata": {},
   "outputs": [
    {
     "data": {
      "text/plain": [
       "y_original     0.000000\n",
       "y_predicted    0.581252\n",
       "dtype: float64"
      ]
     },
     "execution_count": 37,
     "metadata": {},
     "output_type": "execute_result"
    }
   ],
   "source": [
    "predictions[predictions[\"y_original\"] == 0].mean()"
   ]
  },
  {
   "cell_type": "code",
   "execution_count": 38,
   "id": "b40d629b",
   "metadata": {},
   "outputs": [
    {
     "data": {
      "text/plain": [
       "y_original     1.000000\n",
       "y_predicted    0.712568\n",
       "dtype: float64"
      ]
     },
     "execution_count": 38,
     "metadata": {},
     "output_type": "execute_result"
    }
   ],
   "source": [
    "predictions[predictions[\"y_original\"] == 1].mean()"
   ]
  },
  {
   "cell_type": "markdown",
   "id": "70a33b02",
   "metadata": {},
   "source": [
    "Good clients have a slightly bigger skew (0.69), while defaulted clients are less skewed (0.62)"
   ]
  },
  {
   "cell_type": "markdown",
   "id": "8e056e19",
   "metadata": {},
   "source": [
    "# ##########################################"
   ]
  },
  {
   "cell_type": "code",
   "execution_count": 39,
   "id": "6ee99450",
   "metadata": {},
   "outputs": [
    {
     "data": {
      "text/html": [
       "<div>\n",
       "<style scoped>\n",
       "    .dataframe tbody tr th:only-of-type {\n",
       "        vertical-align: middle;\n",
       "    }\n",
       "\n",
       "    .dataframe tbody tr th {\n",
       "        vertical-align: top;\n",
       "    }\n",
       "\n",
       "    .dataframe thead th {\n",
       "        text-align: right;\n",
       "    }\n",
       "</style>\n",
       "<table border=\"1\" class=\"dataframe\">\n",
       "  <thead>\n",
       "    <tr style=\"text-align: right;\">\n",
       "      <th></th>\n",
       "      <th>customer_age_(-inf, 37)</th>\n",
       "      <th>customer_age_(37, 40)</th>\n",
       "      <th>customer_age_(40, 46)</th>\n",
       "      <th>customer_age_(46, 58)</th>\n",
       "      <th>customer_age_(58, inf)</th>\n",
       "      <th>months_at_address_(-inf, 23)</th>\n",
       "      <th>months_at_address_(23, 83)</th>\n",
       "      <th>months_at_address_(83, inf)</th>\n",
       "      <th>residence_status_HomeOwner</th>\n",
       "      <th>residence_status_Other</th>\n",
       "      <th>...</th>\n",
       "      <th>other_credits_No</th>\n",
       "      <th>other_credits_Yes</th>\n",
       "      <th>months_with_bank_(-inf, 12)</th>\n",
       "      <th>months_with_bank_(12, 45)</th>\n",
       "      <th>months_with_bank_(45, 71)</th>\n",
       "      <th>months_with_bank_(71, inf)</th>\n",
       "      <th>balance_(-inf, 558)</th>\n",
       "      <th>balance_(1254, 1597)</th>\n",
       "      <th>balance_(1597, inf)</th>\n",
       "      <th>balance_(558, 1254)</th>\n",
       "    </tr>\n",
       "  </thead>\n",
       "  <tbody>\n",
       "    <tr>\n",
       "      <th>0</th>\n",
       "      <td>0</td>\n",
       "      <td>0</td>\n",
       "      <td>0</td>\n",
       "      <td>1</td>\n",
       "      <td>0</td>\n",
       "      <td>0</td>\n",
       "      <td>1</td>\n",
       "      <td>0</td>\n",
       "      <td>0</td>\n",
       "      <td>0</td>\n",
       "      <td>...</td>\n",
       "      <td>0</td>\n",
       "      <td>1</td>\n",
       "      <td>0</td>\n",
       "      <td>0</td>\n",
       "      <td>1</td>\n",
       "      <td>0</td>\n",
       "      <td>0</td>\n",
       "      <td>0</td>\n",
       "      <td>0</td>\n",
       "      <td>1</td>\n",
       "    </tr>\n",
       "    <tr>\n",
       "      <th>1</th>\n",
       "      <td>0</td>\n",
       "      <td>0</td>\n",
       "      <td>0</td>\n",
       "      <td>0</td>\n",
       "      <td>1</td>\n",
       "      <td>1</td>\n",
       "      <td>0</td>\n",
       "      <td>0</td>\n",
       "      <td>1</td>\n",
       "      <td>0</td>\n",
       "      <td>...</td>\n",
       "      <td>0</td>\n",
       "      <td>1</td>\n",
       "      <td>0</td>\n",
       "      <td>1</td>\n",
       "      <td>0</td>\n",
       "      <td>0</td>\n",
       "      <td>0</td>\n",
       "      <td>0</td>\n",
       "      <td>0</td>\n",
       "      <td>1</td>\n",
       "    </tr>\n",
       "    <tr>\n",
       "      <th>2</th>\n",
       "      <td>0</td>\n",
       "      <td>0</td>\n",
       "      <td>0</td>\n",
       "      <td>1</td>\n",
       "      <td>0</td>\n",
       "      <td>0</td>\n",
       "      <td>1</td>\n",
       "      <td>0</td>\n",
       "      <td>0</td>\n",
       "      <td>0</td>\n",
       "      <td>...</td>\n",
       "      <td>1</td>\n",
       "      <td>0</td>\n",
       "      <td>0</td>\n",
       "      <td>0</td>\n",
       "      <td>1</td>\n",
       "      <td>0</td>\n",
       "      <td>0</td>\n",
       "      <td>0</td>\n",
       "      <td>0</td>\n",
       "      <td>1</td>\n",
       "    </tr>\n",
       "    <tr>\n",
       "      <th>3</th>\n",
       "      <td>0</td>\n",
       "      <td>0</td>\n",
       "      <td>0</td>\n",
       "      <td>1</td>\n",
       "      <td>0</td>\n",
       "      <td>0</td>\n",
       "      <td>1</td>\n",
       "      <td>0</td>\n",
       "      <td>1</td>\n",
       "      <td>0</td>\n",
       "      <td>...</td>\n",
       "      <td>0</td>\n",
       "      <td>1</td>\n",
       "      <td>0</td>\n",
       "      <td>1</td>\n",
       "      <td>0</td>\n",
       "      <td>0</td>\n",
       "      <td>1</td>\n",
       "      <td>0</td>\n",
       "      <td>0</td>\n",
       "      <td>0</td>\n",
       "    </tr>\n",
       "    <tr>\n",
       "      <th>4</th>\n",
       "      <td>0</td>\n",
       "      <td>0</td>\n",
       "      <td>0</td>\n",
       "      <td>0</td>\n",
       "      <td>1</td>\n",
       "      <td>0</td>\n",
       "      <td>1</td>\n",
       "      <td>0</td>\n",
       "      <td>1</td>\n",
       "      <td>0</td>\n",
       "      <td>...</td>\n",
       "      <td>0</td>\n",
       "      <td>1</td>\n",
       "      <td>0</td>\n",
       "      <td>1</td>\n",
       "      <td>0</td>\n",
       "      <td>0</td>\n",
       "      <td>0</td>\n",
       "      <td>0</td>\n",
       "      <td>0</td>\n",
       "      <td>1</td>\n",
       "    </tr>\n",
       "  </tbody>\n",
       "</table>\n",
       "<p>5 rows × 28 columns</p>\n",
       "</div>"
      ],
      "text/plain": [
       "   customer_age_(-inf, 37)  customer_age_(37, 40)  customer_age_(40, 46)  \\\n",
       "0                        0                      0                      0   \n",
       "1                        0                      0                      0   \n",
       "2                        0                      0                      0   \n",
       "3                        0                      0                      0   \n",
       "4                        0                      0                      0   \n",
       "\n",
       "   customer_age_(46, 58)  customer_age_(58, inf)  \\\n",
       "0                      1                       0   \n",
       "1                      0                       1   \n",
       "2                      1                       0   \n",
       "3                      1                       0   \n",
       "4                      0                       1   \n",
       "\n",
       "   months_at_address_(-inf, 23)  months_at_address_(23, 83)  \\\n",
       "0                             0                           1   \n",
       "1                             1                           0   \n",
       "2                             0                           1   \n",
       "3                             0                           1   \n",
       "4                             0                           1   \n",
       "\n",
       "   months_at_address_(83, inf)  residence_status_HomeOwner  \\\n",
       "0                            0                           0   \n",
       "1                            0                           1   \n",
       "2                            0                           0   \n",
       "3                            0                           1   \n",
       "4                            0                           1   \n",
       "\n",
       "   residence_status_Other  ...  other_credits_No  other_credits_Yes  \\\n",
       "0                       0  ...                 0                  1   \n",
       "1                       0  ...                 0                  1   \n",
       "2                       0  ...                 1                  0   \n",
       "3                       0  ...                 0                  1   \n",
       "4                       0  ...                 0                  1   \n",
       "\n",
       "   months_with_bank_(-inf, 12)  months_with_bank_(12, 45)  \\\n",
       "0                            0                          0   \n",
       "1                            0                          1   \n",
       "2                            0                          0   \n",
       "3                            0                          1   \n",
       "4                            0                          1   \n",
       "\n",
       "   months_with_bank_(45, 71)  months_with_bank_(71, inf)  balance_(-inf, 558)  \\\n",
       "0                          1                           0                    0   \n",
       "1                          0                           0                    0   \n",
       "2                          1                           0                    0   \n",
       "3                          0                           0                    1   \n",
       "4                          0                           0                    0   \n",
       "\n",
       "   balance_(1254, 1597)  balance_(1597, inf)  balance_(558, 1254)  \n",
       "0                     0                    0                    1  \n",
       "1                     0                    0                    1  \n",
       "2                     0                    0                    1  \n",
       "3                     0                    0                    0  \n",
       "4                     0                    0                    1  \n",
       "\n",
       "[5 rows x 28 columns]"
      ]
     },
     "execution_count": 39,
     "metadata": {},
     "output_type": "execute_result"
    }
   ],
   "source": [
    "pd.get_dummies(x_train_b).head()"
   ]
  },
  {
   "cell_type": "code",
   "execution_count": 40,
   "id": "f6455291",
   "metadata": {
    "scrolled": false
   },
   "outputs": [
    {
     "data": {
      "text/plain": [
       "0.6908333333333333"
      ]
     },
     "execution_count": 40,
     "metadata": {},
     "output_type": "execute_result"
    }
   ],
   "source": [
    "model_2 = LogisticRegression(random_state=seed)\n",
    "model_2.fit(pd.get_dummies(x_train_b), y_train_nd)\n",
    "model_2.score(pd.get_dummies(x_train_b), y_train_nd)"
   ]
  },
  {
   "cell_type": "markdown",
   "id": "48b0f6f9",
   "metadata": {},
   "source": [
    "# ##########################################"
   ]
  },
  {
   "cell_type": "code",
   "execution_count": 41,
   "id": "ab811086",
   "metadata": {
    "scrolled": true
   },
   "outputs": [],
   "source": [
    "lenc = OrdinalEncoder()\n",
    "lenc.fit(x_train_b);"
   ]
  },
  {
   "cell_type": "code",
   "execution_count": 42,
   "id": "07654395",
   "metadata": {},
   "outputs": [
    {
     "data": {
      "text/plain": [
       "array([[3., 1., 2., ..., 1., 2., 3.],\n",
       "       [4., 0., 0., ..., 1., 1., 3.],\n",
       "       [3., 1., 2., ..., 0., 2., 3.],\n",
       "       ...,\n",
       "       [0., 1., 0., ..., 1., 2., 0.],\n",
       "       [3., 1., 2., ..., 1., 2., 3.],\n",
       "       [2., 1., 2., ..., 1., 1., 3.]])"
      ]
     },
     "execution_count": 42,
     "metadata": {},
     "output_type": "execute_result"
    }
   ],
   "source": [
    "lenc.transform(x_train_b)"
   ]
  },
  {
   "cell_type": "code",
   "execution_count": 43,
   "id": "78af81af",
   "metadata": {},
   "outputs": [
    {
     "data": {
      "text/plain": [
       "0.6716666666666666"
      ]
     },
     "execution_count": 43,
     "metadata": {},
     "output_type": "execute_result"
    }
   ],
   "source": [
    "model_3 = LogisticRegression(random_state=seed)\n",
    "model_3.fit(lenc.transform(x_train_b), y_train_nd)\n",
    "model_3.score(lenc.transform(x_train_b), y_train_nd)"
   ]
  },
  {
   "cell_type": "markdown",
   "id": "59c3cfb7",
   "metadata": {},
   "source": [
    "# Serialization"
   ]
  },
  {
   "cell_type": "code",
   "execution_count": 44,
   "id": "d5f2497f",
   "metadata": {},
   "outputs": [
    {
     "data": {
      "text/html": [
       "<style>#sk-container-id-2 {color: black;background-color: white;}#sk-container-id-2 pre{padding: 0;}#sk-container-id-2 div.sk-toggleable {background-color: white;}#sk-container-id-2 label.sk-toggleable__label {cursor: pointer;display: block;width: 100%;margin-bottom: 0;padding: 0.3em;box-sizing: border-box;text-align: center;}#sk-container-id-2 label.sk-toggleable__label-arrow:before {content: \"▸\";float: left;margin-right: 0.25em;color: #696969;}#sk-container-id-2 label.sk-toggleable__label-arrow:hover:before {color: black;}#sk-container-id-2 div.sk-estimator:hover label.sk-toggleable__label-arrow:before {color: black;}#sk-container-id-2 div.sk-toggleable__content {max-height: 0;max-width: 0;overflow: hidden;text-align: left;background-color: #f0f8ff;}#sk-container-id-2 div.sk-toggleable__content pre {margin: 0.2em;color: black;border-radius: 0.25em;background-color: #f0f8ff;}#sk-container-id-2 input.sk-toggleable__control:checked~div.sk-toggleable__content {max-height: 200px;max-width: 100%;overflow: auto;}#sk-container-id-2 input.sk-toggleable__control:checked~label.sk-toggleable__label-arrow:before {content: \"▾\";}#sk-container-id-2 div.sk-estimator input.sk-toggleable__control:checked~label.sk-toggleable__label {background-color: #d4ebff;}#sk-container-id-2 div.sk-label input.sk-toggleable__control:checked~label.sk-toggleable__label {background-color: #d4ebff;}#sk-container-id-2 input.sk-hidden--visually {border: 0;clip: rect(1px 1px 1px 1px);clip: rect(1px, 1px, 1px, 1px);height: 1px;margin: -1px;overflow: hidden;padding: 0;position: absolute;width: 1px;}#sk-container-id-2 div.sk-estimator {font-family: monospace;background-color: #f0f8ff;border: 1px dotted black;border-radius: 0.25em;box-sizing: border-box;margin-bottom: 0.5em;}#sk-container-id-2 div.sk-estimator:hover {background-color: #d4ebff;}#sk-container-id-2 div.sk-parallel-item::after {content: \"\";width: 100%;border-bottom: 1px solid gray;flex-grow: 1;}#sk-container-id-2 div.sk-label:hover label.sk-toggleable__label {background-color: #d4ebff;}#sk-container-id-2 div.sk-serial::before {content: \"\";position: absolute;border-left: 1px solid gray;box-sizing: border-box;top: 0;bottom: 0;left: 50%;z-index: 0;}#sk-container-id-2 div.sk-serial {display: flex;flex-direction: column;align-items: center;background-color: white;padding-right: 0.2em;padding-left: 0.2em;position: relative;}#sk-container-id-2 div.sk-item {position: relative;z-index: 1;}#sk-container-id-2 div.sk-parallel {display: flex;align-items: stretch;justify-content: center;background-color: white;position: relative;}#sk-container-id-2 div.sk-item::before, #sk-container-id-2 div.sk-parallel-item::before {content: \"\";position: absolute;border-left: 1px solid gray;box-sizing: border-box;top: 0;bottom: 0;left: 50%;z-index: -1;}#sk-container-id-2 div.sk-parallel-item {display: flex;flex-direction: column;z-index: 1;position: relative;background-color: white;}#sk-container-id-2 div.sk-parallel-item:first-child::after {align-self: flex-end;width: 50%;}#sk-container-id-2 div.sk-parallel-item:last-child::after {align-self: flex-start;width: 50%;}#sk-container-id-2 div.sk-parallel-item:only-child::after {width: 0;}#sk-container-id-2 div.sk-dashed-wrapped {border: 1px dashed gray;margin: 0 0.4em 0.5em 0.4em;box-sizing: border-box;padding-bottom: 0.4em;background-color: white;}#sk-container-id-2 div.sk-label label {font-family: monospace;font-weight: bold;display: inline-block;line-height: 1.2em;}#sk-container-id-2 div.sk-label-container {text-align: center;}#sk-container-id-2 div.sk-container {/* jupyter's `normalize.less` sets `[hidden] { display: none; }` but bootstrap.min.css set `[hidden] { display: none !important; }` so we also need the `!important` here to be able to override the default hidden behavior on the sphinx rendered scikit-learn.org. See: https://github.com/scikit-learn/scikit-learn/issues/21755 */display: inline-block !important;position: relative;}#sk-container-id-2 div.sk-text-repr-fallback {display: none;}</style><div id=\"sk-container-id-2\" class=\"sk-top-container\"><div class=\"sk-text-repr-fallback\"><pre>Pipeline(steps=[(&#x27;col selector&#x27;,\n",
       "                 ColumnSelectorTransformer([&#x27;customer_age&#x27;, &#x27;months_at_address&#x27;, &#x27;residence_status&#x27;, &#x27;employment&#x27;, &#x27;income&#x27;, &#x27;other_credits&#x27;, &#x27;months_with_bank&#x27;, &#x27;balance&#x27;])),\n",
       "                (&#x27;bins&#x27;, BinningTransformer()),\n",
       "                (&#x27;woe&#x27;,\n",
       "                 WOETransformer(columns=[&#x27;customer_age&#x27;, &#x27;months_at_address&#x27;, &#x27;residence_status&#x27;, &#x27;employment&#x27;, &#x27;income&#x27;, &#x27;other_credits&#x27;, &#x27;months_with_bank&#x27;, &#x27;balance&#x27;], target_mappings={0: &#x27;good&#x27;, 1: &#x27;bad&#x27;})),\n",
       "                (&#x27;gdbt&#x27;, GradientBoostingClassifier(random_state=0))])</pre><b>In a Jupyter environment, please rerun this cell to show the HTML representation or trust the notebook. <br />On GitHub, the HTML representation is unable to render, please try loading this page with nbviewer.org.</b></div><div class=\"sk-container\" hidden><div class=\"sk-item sk-dashed-wrapped\"><div class=\"sk-label-container\"><div class=\"sk-label sk-toggleable\"><input class=\"sk-toggleable__control sk-hidden--visually\" id=\"sk-estimator-id-6\" type=\"checkbox\" ><label for=\"sk-estimator-id-6\" class=\"sk-toggleable__label sk-toggleable__label-arrow\">Pipeline</label><div class=\"sk-toggleable__content\"><pre>Pipeline(steps=[(&#x27;col selector&#x27;,\n",
       "                 ColumnSelectorTransformer([&#x27;customer_age&#x27;, &#x27;months_at_address&#x27;, &#x27;residence_status&#x27;, &#x27;employment&#x27;, &#x27;income&#x27;, &#x27;other_credits&#x27;, &#x27;months_with_bank&#x27;, &#x27;balance&#x27;])),\n",
       "                (&#x27;bins&#x27;, BinningTransformer()),\n",
       "                (&#x27;woe&#x27;,\n",
       "                 WOETransformer(columns=[&#x27;customer_age&#x27;, &#x27;months_at_address&#x27;, &#x27;residence_status&#x27;, &#x27;employment&#x27;, &#x27;income&#x27;, &#x27;other_credits&#x27;, &#x27;months_with_bank&#x27;, &#x27;balance&#x27;], target_mappings={0: &#x27;good&#x27;, 1: &#x27;bad&#x27;})),\n",
       "                (&#x27;gdbt&#x27;, GradientBoostingClassifier(random_state=0))])</pre></div></div></div><div class=\"sk-serial\"><div class=\"sk-item\"><div class=\"sk-estimator sk-toggleable\"><input class=\"sk-toggleable__control sk-hidden--visually\" id=\"sk-estimator-id-7\" type=\"checkbox\" ><label for=\"sk-estimator-id-7\" class=\"sk-toggleable__label sk-toggleable__label-arrow\">ColumnSelectorTransformer</label><div class=\"sk-toggleable__content\"><pre>ColumnSelectorTransformer([&#x27;customer_age&#x27;, &#x27;months_at_address&#x27;, &#x27;residence_status&#x27;, &#x27;employment&#x27;, &#x27;income&#x27;, &#x27;other_credits&#x27;, &#x27;months_with_bank&#x27;, &#x27;balance&#x27;])</pre></div></div></div><div class=\"sk-item\"><div class=\"sk-estimator sk-toggleable\"><input class=\"sk-toggleable__control sk-hidden--visually\" id=\"sk-estimator-id-8\" type=\"checkbox\" ><label for=\"sk-estimator-id-8\" class=\"sk-toggleable__label sk-toggleable__label-arrow\">BinningTransformer</label><div class=\"sk-toggleable__content\"><pre>BinningTransformer()</pre></div></div></div><div class=\"sk-item\"><div class=\"sk-estimator sk-toggleable\"><input class=\"sk-toggleable__control sk-hidden--visually\" id=\"sk-estimator-id-9\" type=\"checkbox\" ><label for=\"sk-estimator-id-9\" class=\"sk-toggleable__label sk-toggleable__label-arrow\">WOETransformer</label><div class=\"sk-toggleable__content\"><pre>WOETransformer(columns=[&#x27;customer_age&#x27;, &#x27;months_at_address&#x27;, &#x27;residence_status&#x27;, &#x27;employment&#x27;, &#x27;income&#x27;, &#x27;other_credits&#x27;, &#x27;months_with_bank&#x27;, &#x27;balance&#x27;], target_mappings={0: &#x27;good&#x27;, 1: &#x27;bad&#x27;})</pre></div></div></div><div class=\"sk-item\"><div class=\"sk-estimator sk-toggleable\"><input class=\"sk-toggleable__control sk-hidden--visually\" id=\"sk-estimator-id-10\" type=\"checkbox\" ><label for=\"sk-estimator-id-10\" class=\"sk-toggleable__label sk-toggleable__label-arrow\">GradientBoostingClassifier</label><div class=\"sk-toggleable__content\"><pre>GradientBoostingClassifier(random_state=0)</pre></div></div></div></div></div></div></div>"
      ],
      "text/plain": [
       "Pipeline(steps=[('col selector',\n",
       "                 ColumnSelectorTransformer(['customer_age', 'months_at_address', 'residence_status', 'employment', 'income', 'other_credits', 'months_with_bank', 'balance'])),\n",
       "                ('bins', BinningTransformer()),\n",
       "                ('woe',\n",
       "                 WOETransformer(columns=['customer_age', 'months_at_address', 'residence_status', 'employment', 'income', 'other_credits', 'months_with_bank', 'balance'], target_mappings={0: 'good', 1: 'bad'})),\n",
       "                ('gdbt', GradientBoostingClassifier(random_state=0))])"
      ]
     },
     "execution_count": 44,
     "metadata": {},
     "output_type": "execute_result"
    }
   ],
   "source": [
    "ml_pipe"
   ]
  },
  {
   "cell_type": "code",
   "execution_count": 45,
   "id": "be7438ad",
   "metadata": {},
   "outputs": [],
   "source": [
    "output = open('logistic_model.pkl', 'wb')\n",
    "pickle.dump(ml_pipe, output)\n",
    "output.close()"
   ]
  },
  {
   "cell_type": "code",
   "execution_count": 46,
   "id": "8e97e461",
   "metadata": {
    "scrolled": true
   },
   "outputs": [
    {
     "name": "stdout",
     "output_type": "stream",
     "text": [
      "CR11 - GLM.pdf                         Untitled.ipynb\r\n",
      "CR12- Classification Model Metrics.pdf \u001b[1m\u001b[36m__pycache__\u001b[m\u001b[m\r\n",
      "CR13 - PD Modeling.pdf                 bins.json\r\n",
      "DEMO GLM.ipynb                         bins.py\r\n",
      "Dealing with credit data.ipynb         credit-dataset.csv\r\n",
      "Poisson GLM.ipynb                      logistic_model.pkl\r\n",
      "Project 2 - Credit Models.ipynb        wages.csv\r\n",
      "Project-NicolasGonzalez.pdf\r\n"
     ]
    }
   ],
   "source": [
    "!ls\n"
   ]
  },
  {
   "cell_type": "code",
   "execution_count": 47,
   "id": "b21d4a34",
   "metadata": {},
   "outputs": [],
   "source": [
    "import pickle\n",
    "from sklearn.metrics import roc_curve, auc, f1_score\n"
   ]
  },
  {
   "cell_type": "code",
   "execution_count": 48,
   "id": "c01e49e8",
   "metadata": {},
   "outputs": [],
   "source": [
    "pkl_file = open('logistic_model.pkl', 'rb')\n",
    "loaded_model = pickle.load(pkl_file)\n",
    "pkl_file.close()"
   ]
  },
  {
   "cell_type": "code",
   "execution_count": 49,
   "id": "fa3d6d64",
   "metadata": {},
   "outputs": [
    {
     "name": "stdout",
     "output_type": "stream",
     "text": [
      "ROC AUC: 0.7483978531388904\n",
      "F1: 0.8139281828073993\n"
     ]
    }
   ],
   "source": [
    "fpr, tpr, threshold = roc_curve(y_train_nd, loaded_model.predict_proba(x_train)[:, 1])\n",
    "roc_auc = auc(fpr, tpr)\n",
    "f1 = f1_score(y_train_nd, y_pred)\n",
    "print(f\"ROC AUC: {roc_auc}\")\n",
    "print(f\"F1: {f1}\")"
   ]
  },
  {
   "cell_type": "markdown",
   "id": "d4e5b6f3",
   "metadata": {},
   "source": [
    "# Scorecards"
   ]
  },
  {
   "cell_type": "code",
   "execution_count": null,
   "id": "eb9e3ed9",
   "metadata": {},
   "outputs": [],
   "source": []
  }
 ],
 "metadata": {
  "kernelspec": {
   "display_name": "Python 3 (ipykernel)",
   "language": "python",
   "name": "python3"
  },
  "language_info": {
   "codemirror_mode": {
    "name": "ipython",
    "version": 3
   },
   "file_extension": ".py",
   "mimetype": "text/x-python",
   "name": "python",
   "nbconvert_exporter": "python",
   "pygments_lexer": "ipython3",
   "version": "3.9.10"
  }
 },
 "nbformat": 4,
 "nbformat_minor": 5
}
